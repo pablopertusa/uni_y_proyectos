{
 "cells": [
  {
   "cell_type": "code",
   "execution_count": 1,
   "metadata": {},
   "outputs": [],
   "source": [
    "def capicua(lista):\n",
    "    if len(lista)<=1:\n",
    "        return True\n",
    "    else:\n",
    "        if lista[0]!=lista[-1]:\n",
    "            return False\n",
    "        else:\n",
    "            return capicua(lista[1:-1])\n",
    "        \n",
    "def capicua(lista):\n",
    "    if len(lista)<=1:\n",
    "        return True\n",
    "    else:\n",
    "        return lista[0]==lista[-1] and capicua(lista[1:-1])\n",
    "    \n",
    "def capicua(lista):\n",
    "    return len(lista)<=1 or (lista[0]==lista[-1] and capicua(lista[1:-1]))"
   ]
  },
  {
   "cell_type": "code",
   "execution_count": 2,
   "metadata": {},
   "outputs": [
    {
     "data": {
      "text/plain": [
       "True"
      ]
     },
     "execution_count": 2,
     "metadata": {},
     "output_type": "execute_result"
    }
   ],
   "source": [
    "capicua([1,2,3,2,1])"
   ]
  },
  {
   "cell_type": "code",
   "execution_count": 3,
   "metadata": {},
   "outputs": [
    {
     "data": {
      "text/plain": [
       "True"
      ]
     },
     "execution_count": 3,
     "metadata": {},
     "output_type": "execute_result"
    }
   ],
   "source": [
    "capicua([1,2,2,1])"
   ]
  },
  {
   "cell_type": "code",
   "execution_count": 7,
   "metadata": {},
   "outputs": [],
   "source": [
    "lista = [1]\n",
    "\n",
    "def capicua(lista, ini=0,fin=len(lista)-1): # MAL, NO SE PUEDE INICIALIZAR fin ASÍ\n",
    "    if ini>=fin:\n",
    "        return True\n",
    "    else: # ini<fin al menos hay 2 elementos\n",
    "        if lista[ini]!=lista[fin]:\n",
    "            return False\n",
    "        else:\n",
    "            return capicua(lista, ini+1, fin-1)"
   ]
  },
  {
   "cell_type": "code",
   "execution_count": 8,
   "metadata": {},
   "outputs": [
    {
     "data": {
      "text/plain": [
       "True"
      ]
     },
     "execution_count": 8,
     "metadata": {},
     "output_type": "execute_result"
    }
   ],
   "source": [
    "capicua([1,2,3])"
   ]
  },
  {
   "cell_type": "code",
   "execution_count": 9,
   "metadata": {},
   "outputs": [],
   "source": [
    "def capicua(lista): # funcion lanzadera, llama a una recursiva\n",
    "    def auxiliar(lista, ini, fin): # funcion recursiva, auxiliar\n",
    "        if ini>=fin:\n",
    "            return True\n",
    "        else: # ini<fin al menos hay 2 elementos\n",
    "            if lista[ini]!=lista[fin]:\n",
    "                return False\n",
    "            else:\n",
    "                return auxiliar(lista, ini+1, fin-1)\n",
    "    return auxiliar(lista,0,len(lista)-1)"
   ]
  },
  {
   "cell_type": "code",
   "execution_count": 10,
   "metadata": {},
   "outputs": [
    {
     "data": {
      "text/plain": [
       "False"
      ]
     },
     "execution_count": 10,
     "metadata": {},
     "output_type": "execute_result"
    }
   ],
   "source": [
    "capicua([1,2,3])"
   ]
  },
  {
   "cell_type": "code",
   "execution_count": 11,
   "metadata": {},
   "outputs": [
    {
     "data": {
      "text/plain": [
       "True"
      ]
     },
     "execution_count": 11,
     "metadata": {},
     "output_type": "execute_result"
    }
   ],
   "source": [
    "capicua([1,2,3,2,1])"
   ]
  },
  {
   "cell_type": "code",
   "execution_count": null,
   "metadata": {},
   "outputs": [],
   "source": [
    "def auxiliar(lista, ini, fin): # funcion recursiva, auxiliar\n",
    "    if ini>=fin:\n",
    "        return True\n",
    "    else: # ini<fin al menos hay 2 elementos\n",
    "        if lista[ini]!=lista[fin]:\n",
    "            return False\n",
    "        else:\n",
    "            return auxiliar(lista, ini+1, fin-1)\n",
    "            \n",
    "def capicua(lista): # funcion lanzadera, llama a una recursiva\n",
    "    return auxiliar(lista,0,len(lista)-1)"
   ]
  },
  {
   "cell_type": "code",
   "execution_count": 12,
   "metadata": {},
   "outputs": [],
   "source": [
    "def sumarlista(lista, ini=0): # no necesito funciones lanzadera+auxiliar\n",
    "    if ini>=len(lista):\n",
    "        return 0\n",
    "    else:\n",
    "        return lista[ini] + sumarlista(lista,ini+1)"
   ]
  },
  {
   "cell_type": "code",
   "execution_count": 13,
   "metadata": {},
   "outputs": [
    {
     "data": {
      "text/plain": [
       "0"
      ]
     },
     "execution_count": 13,
     "metadata": {},
     "output_type": "execute_result"
    }
   ],
   "source": [
    "sumarlista([])"
   ]
  },
  {
   "cell_type": "code",
   "execution_count": 14,
   "metadata": {},
   "outputs": [
    {
     "data": {
      "text/plain": [
       "10"
      ]
     },
     "execution_count": 14,
     "metadata": {},
     "output_type": "execute_result"
    }
   ],
   "source": [
    "sumarlista([1,2,3,4])"
   ]
  },
  {
   "cell_type": "code",
   "execution_count": 15,
   "metadata": {},
   "outputs": [],
   "source": [
    "def sumarListaFinal(lista, ini=0, suma=0): # no necesito funciones lanzadera+auxiliar\n",
    "    if ini>=len(lista):\n",
    "        return suma\n",
    "    else:\n",
    "        return sumarListaFinal(lista,ini+1,suma+lista[ini])"
   ]
  },
  {
   "cell_type": "code",
   "execution_count": 16,
   "metadata": {},
   "outputs": [
    {
     "data": {
      "text/plain": [
       "10"
      ]
     },
     "execution_count": 16,
     "metadata": {},
     "output_type": "execute_result"
    }
   ],
   "source": [
    "sumarListaFinal([1,2,3,4])"
   ]
  },
  {
   "cell_type": "code",
   "execution_count": 17,
   "metadata": {},
   "outputs": [],
   "source": [
    "def buscar(lista, propiedad):\n",
    "    # version iterativa\n",
    "    for x in lista:\n",
    "        if propiedad(x):\n",
    "            return x"
   ]
  },
  {
   "cell_type": "code",
   "execution_count": 4,
   "metadata": {},
   "outputs": [],
   "source": [
    "def espar(x):\n",
    "    return x%2==0"
   ]
  },
  {
   "cell_type": "code",
   "execution_count": 19,
   "metadata": {},
   "outputs": [
    {
     "data": {
      "text/plain": [
       "False"
      ]
     },
     "execution_count": 19,
     "metadata": {},
     "output_type": "execute_result"
    }
   ],
   "source": [
    "espar(5)"
   ]
  },
  {
   "cell_type": "code",
   "execution_count": 20,
   "metadata": {},
   "outputs": [
    {
     "data": {
      "text/plain": [
       "2"
      ]
     },
     "execution_count": 20,
     "metadata": {},
     "output_type": "execute_result"
    }
   ],
   "source": [
    "buscar([1,2,3,4], espar)"
   ]
  },
  {
   "cell_type": "code",
   "execution_count": 3,
   "metadata": {},
   "outputs": [],
   "source": [
    "def buscar(lista, propiedad):\n",
    "    # version recursiva con slicing\n",
    "    if len(lista)>0:\n",
    "        if propiedad(lista[0]):\n",
    "            return lista[0]\n",
    "        else:\n",
    "            return buscar(lista[1:],propiedad)"
   ]
  },
  {
   "cell_type": "code",
   "execution_count": 25,
   "metadata": {},
   "outputs": [
    {
     "data": {
      "text/plain": [
       "2"
      ]
     },
     "execution_count": 25,
     "metadata": {},
     "output_type": "execute_result"
    }
   ],
   "source": [
    "buscar([1,2,3,4], espar)"
   ]
  },
  {
   "cell_type": "code",
   "execution_count": 12,
   "metadata": {},
   "outputs": [],
   "source": [
    "def buscar2(lista, propiedad, pos = 0):\n",
    "    if len(lista) == 0:\n",
    "        return False\n",
    "    else:\n",
    "        if propiedad(lista[pos]):\n",
    "            return lista[pos]\n",
    "        else:\n",
    "            return buscar2(lista, propiedad, pos+1)"
   ]
  },
  {
   "cell_type": "code",
   "execution_count": 13,
   "metadata": {},
   "outputs": [
    {
     "data": {
      "text/plain": [
       "2"
      ]
     },
     "execution_count": 13,
     "metadata": {},
     "output_type": "execute_result"
    }
   ],
   "source": [
    "buscar2([1,2,3,4,6,7,8], espar)"
   ]
  },
  {
   "cell_type": "code",
   "execution_count": null,
   "metadata": {},
   "outputs": [],
   "source": []
  }
 ],
 "metadata": {
  "kernelspec": {
   "display_name": "Python 3 (ipykernel)",
   "language": "python",
   "name": "python3"
  },
  "language_info": {
   "codemirror_mode": {
    "name": "ipython",
    "version": 3
   },
   "file_extension": ".py",
   "mimetype": "text/x-python",
   "name": "python",
   "nbconvert_exporter": "python",
   "pygments_lexer": "ipython3",
   "version": "3.9.13"
  }
 },
 "nbformat": 4,
 "nbformat_minor": 4
}
