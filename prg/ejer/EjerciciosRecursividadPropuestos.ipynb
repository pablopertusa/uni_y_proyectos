{
 "cells": [
  {
   "attachments": {},
   "cell_type": "markdown",
   "metadata": {},
   "source": [
    "# Ejercicios de recursividad propuestos\n",
    "## PRG - Ciencia de Datos"
   ]
  },
  {
   "attachments": {},
   "cell_type": "markdown",
   "metadata": {},
   "source": [
    "1) Escribe una función recursiva que, dado un número entero $n \\ge 0$, calcule su factorial"
   ]
  },
  {
   "cell_type": "code",
   "execution_count": 42,
   "metadata": {},
   "outputs": [],
   "source": [
    "def fact(x):\n",
    "    if x == 1 or x == 0:\n",
    "        return 1\n",
    "    else:\n",
    "        return x * fact(x-1)"
   ]
  },
  {
   "cell_type": "code",
   "execution_count": 43,
   "metadata": {},
   "outputs": [
    {
     "data": {
      "text/plain": [
       "24"
      ]
     },
     "execution_count": 43,
     "metadata": {},
     "output_type": "execute_result"
    }
   ],
   "source": [
    "fact(4)"
   ]
  },
  {
   "attachments": {},
   "cell_type": "markdown",
   "metadata": {},
   "source": [
    "2) Escribe una función recursiva que calcule la potencia de dos valores enteros positivos $x^y$ con $x>0, y \\ge 0$, sin utilizar el operador `**`. "
   ]
  },
  {
   "cell_type": "code",
   "execution_count": 2,
   "metadata": {},
   "outputs": [],
   "source": [
    "def elevar(x,y):\n",
    "    if y==0:\n",
    "        return 1\n",
    "    else:\n",
    "        return x*elevar(x,y-1)"
   ]
  },
  {
   "cell_type": "code",
   "execution_count": 3,
   "metadata": {},
   "outputs": [
    {
     "data": {
      "text/plain": [
       "8"
      ]
     },
     "execution_count": 3,
     "metadata": {},
     "output_type": "execute_result"
    }
   ],
   "source": [
    "elevar(2,3)"
   ]
  },
  {
   "attachments": {},
   "cell_type": "markdown",
   "metadata": {},
   "source": [
    "3) Escribe una función recursiva que, dados dos enteros $a \\ge 0$ y $b>0$, calcule el resto de la división entera entre ambos (esto es, `a%b`), sin utilizar el operador `%`"
   ]
  },
  {
   "cell_type": "code",
   "execution_count": 44,
   "metadata": {},
   "outputs": [],
   "source": [
    "def resto(a,b):\n",
    "    if a < b:\n",
    "        return resto(b,a)\n",
    "    if a-b < b:\n",
    "        return a-b\n",
    "    else:\n",
    "        return resto(a-b,b)"
   ]
  },
  {
   "cell_type": "code",
   "execution_count": 47,
   "metadata": {},
   "outputs": [
    {
     "data": {
      "text/plain": [
       "4"
      ]
     },
     "execution_count": 47,
     "metadata": {},
     "output_type": "execute_result"
    }
   ],
   "source": [
    "resto(32,7)"
   ]
  },
  {
   "attachments": {},
   "cell_type": "markdown",
   "metadata": {},
   "source": [
    "4) Escribe una función recursiva que, dado un número entero, devuelva la cantidad de dígitos que contiene."
   ]
  },
  {
   "cell_type": "code",
   "execution_count": 8,
   "metadata": {},
   "outputs": [],
   "source": [
    "def digitos(x,resul = 0):\n",
    "    if x<1:\n",
    "        return resul\n",
    "    else:\n",
    "        return digitos(x/10,resul+1)"
   ]
  },
  {
   "cell_type": "code",
   "execution_count": 23,
   "metadata": {},
   "outputs": [],
   "source": [
    "def ndigitos(x):\n",
    "    if x<10:\n",
    "        return 1\n",
    "    else:\n",
    "        return 1 + ndigitos(x/10)"
   ]
  },
  {
   "cell_type": "code",
   "execution_count": 10,
   "metadata": {},
   "outputs": [
    {
     "data": {
      "text/plain": [
       "5"
      ]
     },
     "execution_count": 10,
     "metadata": {},
     "output_type": "execute_result"
    }
   ],
   "source": [
    "digitos(12388)"
   ]
  },
  {
   "cell_type": "code",
   "execution_count": 25,
   "metadata": {},
   "outputs": [
    {
     "data": {
      "text/plain": [
       "5"
      ]
     },
     "execution_count": 25,
     "metadata": {},
     "output_type": "execute_result"
    }
   ],
   "source": [
    "ndigitos(23466)"
   ]
  },
  {
   "attachments": {},
   "cell_type": "markdown",
   "metadata": {},
   "source": [
    "5) Escribe una función recursiva que, dado un número entero, lo muestre por pantalla al revés."
   ]
  },
  {
   "cell_type": "code",
   "execution_count": 14,
   "metadata": {},
   "outputs": [],
   "source": [
    "def darvuelta(x):\n",
    "    x = str(x)\n",
    "    if len(x) == 1:\n",
    "        return x\n",
    "    else:\n",
    "        return darvuelta(x[1:])+x[0]"
   ]
  },
  {
   "cell_type": "code",
   "execution_count": 16,
   "metadata": {},
   "outputs": [
    {
     "data": {
      "text/plain": [
       "'64654232'"
      ]
     },
     "execution_count": 16,
     "metadata": {},
     "output_type": "execute_result"
    }
   ],
   "source": [
    "darvuelta(23245646)"
   ]
  },
  {
   "attachments": {},
   "cell_type": "markdown",
   "metadata": {},
   "source": [
    "6) Escribe una función recursiva que, dado un número entero, devuelva la suma de todos sus dígitos."
   ]
  },
  {
   "cell_type": "code",
   "execution_count": 17,
   "metadata": {},
   "outputs": [],
   "source": [
    "def sumardigitos(x):\n",
    "    x = str(x)\n",
    "    if len(x) == 1:\n",
    "        return int(x)\n",
    "    else:\n",
    "        return sumardigitos(x[1:]) + int(x[0])"
   ]
  },
  {
   "cell_type": "code",
   "execution_count": 38,
   "metadata": {},
   "outputs": [],
   "source": [
    "def sumardig(x):\n",
    "    if x<10:\n",
    "        return x\n",
    "    else:\n",
    "        return x%10 + sumardig(x//10)"
   ]
  },
  {
   "cell_type": "code",
   "execution_count": 39,
   "metadata": {},
   "outputs": [
    {
     "data": {
      "text/plain": [
       "9"
      ]
     },
     "execution_count": 39,
     "metadata": {},
     "output_type": "execute_result"
    }
   ],
   "source": [
    "sumardig(234)"
   ]
  },
  {
   "attachments": {},
   "cell_type": "markdown",
   "metadata": {},
   "source": [
    "7) Escribe una función recursiva **final** que, dado un número entero, devuelva la cantidad de dígitos que contiene. Recuerda que una función recursiva es final cuando, llegado al caso base, ya se dispone del resultado final."
   ]
  },
  {
   "cell_type": "code",
   "execution_count": 16,
   "metadata": {},
   "outputs": [],
   "source": [
    "def digitos(x,resul = 0):\n",
    "    if x<1:\n",
    "        return resul\n",
    "    else:\n",
    "        return digitos(x/10,resul+1)"
   ]
  },
  {
   "attachments": {},
   "cell_type": "markdown",
   "metadata": {},
   "source": [
    "8) Escribe una función recursiva que diga si un número $n \\ge 0$ es divisible por 9.\n",
    "Un número es divisible por 9 si tiene una sola cifra y ésta es 9, o si la suma de sus cifras es divisible por 9."
   ]
  },
  {
   "cell_type": "code",
   "execution_count": 5,
   "metadata": {},
   "outputs": [],
   "source": [
    "def divisible9(x):\n",
    "    x = str(x)\n",
    "    if len(x) == 1:\n",
    "        if x == '9':\n",
    "            return True\n",
    "        else:\n",
    "            return False\n",
    "    else:\n",
    "        return divisible9(sumacifras(x))"
   ]
  },
  {
   "cell_type": "code",
   "execution_count": 7,
   "metadata": {},
   "outputs": [],
   "source": [
    "def sumacifras(x, suma = 0):\n",
    "    x = str(x)\n",
    "    if len(x) == 0:\n",
    "        return suma\n",
    "    else:\n",
    "        return sumacifras(x[1:], suma = suma + int(x[0]))"
   ]
  },
  {
   "cell_type": "code",
   "execution_count": 9,
   "metadata": {},
   "outputs": [
    {
     "data": {
      "text/plain": [
       "False"
      ]
     },
     "execution_count": 9,
     "metadata": {},
     "output_type": "execute_result"
    }
   ],
   "source": [
    "divisible9(998)"
   ]
  },
  {
   "attachments": {},
   "cell_type": "markdown",
   "metadata": {},
   "source": [
    "9) La sucesión de Fibonacci es una sucesión que empieza con los términos 0,1 y, a partir de éstos, cada nuevo término se define como la suma de los dos anteriores. Esto es, los 10 primeros términos de la sucesión de Fibonacci son: 0,1,1,2,3,5,8,13,21,34\n",
    "\n",
    "Escribe una función recursiva que calcule el i-ésimo término de la sucesuón de Fibonacci."
   ]
  },
  {
   "cell_type": "code",
   "execution_count": 14,
   "metadata": {},
   "outputs": [],
   "source": [
    "def fibonacci(n, primero = 0, segundo = 1):\n",
    "    if n == 0:\n",
    "        return segundo\n",
    "    else:\n",
    "        return fibonacci(n-1, segundo, primero + segundo)"
   ]
  },
  {
   "cell_type": "code",
   "execution_count": 15,
   "metadata": {},
   "outputs": [
    {
     "data": {
      "text/plain": [
       "21"
      ]
     },
     "execution_count": 15,
     "metadata": {},
     "output_type": "execute_result"
    }
   ],
   "source": [
    "fibonacci(7)"
   ]
  },
  {
   "attachments": {},
   "cell_type": "markdown",
   "metadata": {},
   "source": [
    "10) Implementa de forma recursiva el siguiente algoritmo de Euclides para el cálculo del Máximo Común Divisor:\n",
    "\n",
    "1. Si a y b son iguales, el resultado es a\n",
    "1. Si a es menor que b, intercambiar sus valores\n",
    "1. Asignar a 'a' el valor de 'b' y a 'b' la resta 'a-b'\n",
    "1. Volver al paso 1"
   ]
  },
  {
   "cell_type": "code",
   "execution_count": 34,
   "metadata": {},
   "outputs": [],
   "source": [
    "def euclides(a,b):\n",
    "    if a == b:\n",
    "        return a\n",
    "    if a < b:\n",
    "        return euclides(b,a)\n",
    "    else:\n",
    "        return euclides(b, a-b)"
   ]
  },
  {
   "cell_type": "code",
   "execution_count": 36,
   "metadata": {},
   "outputs": [
    {
     "data": {
      "text/plain": [
       "4"
      ]
     },
     "execution_count": 36,
     "metadata": {},
     "output_type": "execute_result"
    }
   ],
   "source": [
    "euclides(20,4)"
   ]
  },
  {
   "attachments": {},
   "cell_type": "markdown",
   "metadata": {},
   "source": [
    "11) La **multiplicación a la rusa** consiste en multiplicar sucesivamente por 2 el multiplicando y dividir por 2 el multiplicador hasta que el multiplicador tome el valor 1. El resultado de la multiplicación se obtiene de sumar todos los multiplicandos correspondientes a multiplicadores impares. P. ej. para calcular 9x10 haríamos: 9x10, 18x5, 36x2, 72x1. Sumando todos los multiplicandos de multiplicadores impares obtenemos: 18+72=90\n",
    "Escribe una función recursiva que obtenga el producto de dos números enteros positivos empleando el algoritmo de multiplicación a la rusa        "
   ]
  },
  {
   "cell_type": "code",
   "execution_count": 72,
   "metadata": {},
   "outputs": [],
   "source": [
    "def multiplicacionRusa(x,y, suma = 0):\n",
    "    if y == 0:\n",
    "        return 0\n",
    "    if y == 1:\n",
    "        return suma + x\n",
    "    else:\n",
    "        if y%2 == 1:\n",
    "            return multiplicacionRusa(2*x,y//2, suma = suma + x)\n",
    "        else:\n",
    "            return multiplicacionRusa(2*x,y//2, suma)"
   ]
  },
  {
   "cell_type": "code",
   "execution_count": 76,
   "metadata": {},
   "outputs": [
    {
     "data": {
      "text/plain": [
       "56"
      ]
     },
     "execution_count": 76,
     "metadata": {},
     "output_type": "execute_result"
    }
   ],
   "source": [
    "multiplicacionRusa(7,8)"
   ]
  },
  {
   "attachments": {},
   "cell_type": "markdown",
   "metadata": {},
   "source": [
    "### Resuelve los siguientes ejercicios aplicando *slicing* para reducir recursivamente la lista o cadena"
   ]
  },
  {
   "attachments": {},
   "cell_type": "markdown",
   "metadata": {},
   "source": [
    "12) Escribe una función recursiva que sume todos los elementos de una lista sin usar ningún parámetro posicional (haciendo slicing). Resuélvelo tanto mediante descomposición ascendente como descendente."
   ]
  },
  {
   "cell_type": "code",
   "execution_count": 57,
   "metadata": {},
   "outputs": [],
   "source": [
    "def sumaListaD(lista, suma = 0):\n",
    "    if len(lista) == 0:\n",
    "        return suma\n",
    "    else:\n",
    "        return sumaLista(lista[1:], suma = suma + lista[0])\n",
    "\n",
    "def sumaListaA(lista, suma = 0):\n",
    "    if len(lista) == 0:\n",
    "        return suma\n",
    "    else:\n",
    "        return sumaLista(lista[:-1], suma = suma + lista[-1])"
   ]
  },
  {
   "cell_type": "code",
   "execution_count": 56,
   "metadata": {},
   "outputs": [
    {
     "data": {
      "text/plain": [
       "15"
      ]
     },
     "execution_count": 56,
     "metadata": {},
     "output_type": "execute_result"
    }
   ],
   "source": [
    "sumaListaD([1,2,3,4,5])"
   ]
  },
  {
   "cell_type": "code",
   "execution_count": 58,
   "metadata": {},
   "outputs": [
    {
     "data": {
      "text/plain": [
       "15"
      ]
     },
     "execution_count": 58,
     "metadata": {},
     "output_type": "execute_result"
    }
   ],
   "source": [
    "sumaListaA([1,2,3,4,5])"
   ]
  },
  {
   "attachments": {},
   "cell_type": "markdown",
   "metadata": {},
   "source": [
    "13) Escribe una función recursiva que, dada una lista, devuelva el número de valores positivos que contiene."
   ]
  },
  {
   "cell_type": "code",
   "execution_count": 59,
   "metadata": {},
   "outputs": [],
   "source": [
    "def valoresPositivos(lista, n = 0):\n",
    "    if len(lista) == 0:\n",
    "        return n\n",
    "    else:\n",
    "        if lista[0]%2 == 0:\n",
    "            return valoresPositivos(lista[1:], n = n +1)\n",
    "        else:\n",
    "            return valoresPositivos(lista[1:], n)"
   ]
  },
  {
   "cell_type": "code",
   "execution_count": 60,
   "metadata": {},
   "outputs": [
    {
     "data": {
      "text/plain": [
       "3"
      ]
     },
     "execution_count": 60,
     "metadata": {},
     "output_type": "execute_result"
    }
   ],
   "source": [
    "valoresPositivos([1,2,3,4,5,6])"
   ]
  },
  {
   "attachments": {},
   "cell_type": "markdown",
   "metadata": {},
   "source": [
    "14) Escribe una función recursiva que, dada una cadena de texto, devuelva si es palíndroma o no (se lee igual de izquierda a derecha que de derecha a izquierda). Por definición, una cadena de tamaño 0 o 1 siempre es palíndroma. Si el tamaño es mayor que 1 y el primer y último carácter son distintos, no será palíndroma. En otro caso, habrá que eliminar el primer y último carácter y operar recursivamente con el resto de la cadena"
   ]
  },
  {
   "cell_type": "code",
   "execution_count": 61,
   "metadata": {},
   "outputs": [],
   "source": [
    "def palindroma(cadena):\n",
    "    if len(cadena) == 1 or len(cadena) == 0:\n",
    "        return True\n",
    "    else:\n",
    "        if cadena[0] == cadena[-1]:\n",
    "            return palindroma(cadena[1:-1])\n",
    "        else:\n",
    "            return False"
   ]
  },
  {
   "cell_type": "code",
   "execution_count": 69,
   "metadata": {},
   "outputs": [
    {
     "data": {
      "text/plain": [
       "True"
      ]
     },
     "execution_count": 69,
     "metadata": {},
     "output_type": "execute_result"
    }
   ],
   "source": [
    "palindroma('aibofobia')"
   ]
  },
  {
   "cell_type": "code",
   "execution_count": 67,
   "metadata": {},
   "outputs": [
    {
     "data": {
      "text/plain": [
       "False"
      ]
     },
     "execution_count": 67,
     "metadata": {},
     "output_type": "execute_result"
    }
   ],
   "source": [
    "palindroma('pablo')"
   ]
  },
  {
   "attachments": {},
   "cell_type": "markdown",
   "metadata": {},
   "source": [
    "### Resuelve los siguientes ejercicios sin reducir la lista o cadena mediante *slicing*. En su lugar, emplea índices para acceder al (los) elemento(s) a tratar"
   ]
  },
  {
   "attachments": {},
   "cell_type": "markdown",
   "metadata": {},
   "source": [
    "15) Repite el ejercicio 12 sin acortar la lista en cada llamada (usando parámetros posicionales)."
   ]
  },
  {
   "cell_type": "code",
   "execution_count": 82,
   "metadata": {},
   "outputs": [],
   "source": [
    "def sumaListaPosicional(lista, suma = 0, pos = 0):\n",
    "    if len(lista) == pos:\n",
    "        return suma\n",
    "    else:\n",
    "        return sumaListaPosicional(lista, suma + lista[pos], pos +1)"
   ]
  },
  {
   "cell_type": "code",
   "execution_count": 83,
   "metadata": {},
   "outputs": [
    {
     "data": {
      "text/plain": [
       "15"
      ]
     },
     "execution_count": 83,
     "metadata": {},
     "output_type": "execute_result"
    }
   ],
   "source": [
    "sumaListaPosicional([1,2,3,4,5])"
   ]
  },
  {
   "attachments": {},
   "cell_type": "markdown",
   "metadata": {},
   "source": [
    "16) Escribe una función recursiva que, dada una cadena de texto, elimine cualquier carácter que no sea una letra y además convierta las letras a minúsculas.\n",
    "Para comprobar si el carácter en la posición `i` de una cadena `s` es una letra puedes utilizar `s[i].isalpha()`. Para convertir una cadena o un carácter a minúsculas puedes usar `s.lower()`."
   ]
  },
  {
   "cell_type": "code",
   "execution_count": 102,
   "metadata": {},
   "outputs": [],
   "source": [
    "def cambiaCadena(cadena, pos = 0):\n",
    "    lista = list(cadena)\n",
    "    if len(lista) == pos:\n",
    "        return cadena\n",
    "    else:\n",
    "        if not lista[pos].isalpha():\n",
    "            del lista[pos]\n",
    "            cadena = ''.join(lista)\n",
    "            return cambiaCadena(cadena, pos)\n",
    "        else:\n",
    "            lista[pos] = lista[pos].lower()\n",
    "            cadena = ''.join(lista)\n",
    "            return cambiaCadena(cadena, pos + 1)\n",
    "\n",
    "#Con funcion lanzadera sale mas facil\n",
    "        \n",
    "def cambiaCadena2(cadena):\n",
    "    return ''.join(limpiaLista(list(cadena)))\n",
    "\n",
    "def limpiaLista(lista, pos = 0):\n",
    "    if len(lista) == pos:\n",
    "        return lista\n",
    "    else:\n",
    "        if not lista[pos].isalpha():\n",
    "            del lista[pos]\n",
    "            return limpiaLista(lista, pos)\n",
    "        else:\n",
    "            lista[pos] = lista[pos].lower()\n",
    "            return limpiaLista(lista, pos + 1)"
   ]
  },
  {
   "cell_type": "code",
   "execution_count": 96,
   "metadata": {},
   "outputs": [
    {
     "data": {
      "text/plain": [
       "'pablo'"
      ]
     },
     "execution_count": 96,
     "metadata": {},
     "output_type": "execute_result"
    }
   ],
   "source": [
    "cambiaCadena('pAb1Lo')"
   ]
  },
  {
   "cell_type": "code",
   "execution_count": 103,
   "metadata": {},
   "outputs": [
    {
     "data": {
      "text/plain": [
       "'holahola'"
      ]
     },
     "execution_count": 103,
     "metadata": {},
     "output_type": "execute_result"
    }
   ],
   "source": [
    "cambiaCadena2('holaHOLA12')"
   ]
  },
  {
   "attachments": {},
   "cell_type": "markdown",
   "metadata": {},
   "source": [
    "17) Escribe una función recursiva que, dada una cadena de texto, devuelva si es palíndroma o no (se lee igual de izquierda a derecha que de derecha a izquierda). Antes de invocar a la función recursiva, tratar en primer lugar la cadena con la función anterior para eliminar los signos de puntuación y espacios en blanco."
   ]
  },
  {
   "cell_type": "code",
   "execution_count": 107,
   "metadata": {},
   "outputs": [],
   "source": [
    "def palindromaPos(cadena, ini = 0, fin = -1):\n",
    "    cadena = cambiaCadena(cadena)\n",
    "    if len(cadena) == ini or len(cadena) == 0 or len(cadena) == 1:\n",
    "        return True\n",
    "    else:\n",
    "        if cadena[ini] == cadena[fin]:\n",
    "            return palindromaPos(cadena, ini + 1, fin - 1)\n",
    "        else:\n",
    "            return False"
   ]
  },
  {
   "cell_type": "code",
   "execution_count": 156,
   "metadata": {},
   "outputs": [],
   "source": [
    "def palindromaS(cadena):\n",
    "    cadena = cambiaCadena(cadena)\n",
    "    if len(cadena) == 0 or len(cadena) == 1:\n",
    "        return True\n",
    "    else:\n",
    "        if cadena[0] == cadena[-1]:\n",
    "            return palindromaS(cadena[1:-1])\n",
    "        else:\n",
    "            return False"
   ]
  },
  {
   "cell_type": "code",
   "execution_count": 164,
   "metadata": {},
   "outputs": [],
   "source": [
    "# con lanzadera\n",
    "\n",
    "def palindromaL(cadena):\n",
    "    cadena = cambiaCadena(cadena)\n",
    "    return palindromaS2(cadena)\n",
    "\n",
    "def palindromaS2(cadena):\n",
    "    if len(cadena) == 0 or len(cadena) == 1:\n",
    "        return True\n",
    "    else:\n",
    "        if cadena[0] == cadena[-1]:\n",
    "            return palindromaS(cadena[1:-1])\n",
    "        else:\n",
    "            return False"
   ]
  },
  {
   "cell_type": "code",
   "execution_count": 109,
   "metadata": {},
   "outputs": [
    {
     "data": {
      "text/plain": [
       "True"
      ]
     },
     "execution_count": 109,
     "metadata": {},
     "output_type": "execute_result"
    }
   ],
   "source": [
    "palindromaPos('aibofobia')"
   ]
  },
  {
   "cell_type": "code",
   "execution_count": 163,
   "metadata": {},
   "outputs": [
    {
     "data": {
      "text/plain": [
       "True"
      ]
     },
     "execution_count": 163,
     "metadata": {},
     "output_type": "execute_result"
    }
   ],
   "source": [
    "palindromaS('aibofobia')"
   ]
  },
  {
   "cell_type": "code",
   "execution_count": 170,
   "metadata": {},
   "outputs": [
    {
     "data": {
      "text/plain": [
       "True"
      ]
     },
     "execution_count": 170,
     "metadata": {},
     "output_type": "execute_result"
    }
   ],
   "source": [
    "palindromaL('ojoaibofobiaojo')"
   ]
  },
  {
   "attachments": {},
   "cell_type": "markdown",
   "metadata": {},
   "source": [
    "18) Escribe una función recursiva que, dada una lista, diga si está ordenada en modo creciente. Implementa versiones con y sin parámetros posicionales"
   ]
  },
  {
   "cell_type": "code",
   "execution_count": 151,
   "metadata": {},
   "outputs": [],
   "source": [
    "def creciente(lista, ultimo = 0):\n",
    "    if len(lista) == 0 or len(lista) == 1:\n",
    "        return True\n",
    "    else:\n",
    "        if lista[0] <= lista[1] and lista[0] >= ultimo:\n",
    "            ultimo = lista[1]\n",
    "            return creciente(lista[2:], ultimo)\n",
    "        else:\n",
    "            return False\n",
    "        \n",
    "# si la lista empezase en un negativo daria false aunque fuese creciente, mejor utilizo una lanzadera para saber el primero\n",
    "        \n",
    "def crecienteLanzadera(lista):\n",
    "    ultimo = lista[0]\n",
    "    return creciente(lista, ultimo)\n",
    "\n",
    "# posicional\n",
    "\n",
    "def crecientePos(lista, pos = 0):\n",
    "    if len(lista) == pos + 1:\n",
    "        return True\n",
    "    else:\n",
    "        if lista[pos] <= lista[pos + 1]:\n",
    "            return crecientePos(lista, pos + 1)\n",
    "        else:\n",
    "            return False"
   ]
  },
  {
   "cell_type": "code",
   "execution_count": 127,
   "metadata": {},
   "outputs": [
    {
     "data": {
      "text/plain": [
       "True"
      ]
     },
     "execution_count": 127,
     "metadata": {},
     "output_type": "execute_result"
    }
   ],
   "source": [
    "crecienteLanzadera([-1,2,2,2,5,5,7])"
   ]
  },
  {
   "cell_type": "code",
   "execution_count": 154,
   "metadata": {},
   "outputs": [
    {
     "data": {
      "text/plain": [
       "True"
      ]
     },
     "execution_count": 154,
     "metadata": {},
     "output_type": "execute_result"
    }
   ],
   "source": [
    "crecientePos([-1,2,2,2,5,5,7])"
   ]
  },
  {
   "attachments": {},
   "cell_type": "markdown",
   "metadata": {},
   "source": [
    "19) Escribe una función recursiva que devuelva el valor máximo de una lista"
   ]
  },
  {
   "cell_type": "code",
   "execution_count": 181,
   "metadata": {},
   "outputs": [],
   "source": [
    "# con lanzadera\n",
    "\n",
    "def maximo(lista):\n",
    "    if len(lista) == 0:\n",
    "        return 'mira a ver'\n",
    "    maximo = lista[0]\n",
    "    lista = lista[1:]\n",
    "    return maximo2(lista, maximo)\n",
    "\n",
    "def maximo2(lista, maximo = 0):\n",
    "    if len(lista) == 1:\n",
    "        return maximo\n",
    "    else:\n",
    "        if lista[0] > maximo:\n",
    "            return maximo2(lista[1:], lista[0])\n",
    "        else:\n",
    "            return maximo2(lista[1:], maximo)\n",
    "        \n",
    "# sin lanzadera\n",
    "        \n",
    "def maximo3(lista, maximo = 0):\n",
    "    if len(lista) == 0:\n",
    "        return 'mira a ver'\n",
    "    if len(lista) == 1:\n",
    "        if maximo > lista[0]:\n",
    "            return maximo\n",
    "        else:\n",
    "            return lista[0]\n",
    "    else:\n",
    "        if lista[0] > maximo:\n",
    "            return maximo3(lista[1:], lista[0])\n",
    "        else:\n",
    "            return maximo3(lista[1:], maximo)\n",
    "\n",
    "        \n",
    "\n",
    "# con lanzadera y recursiva posicional\n",
    "\n",
    "def maximoRPos(lista, maximo, ini = 1 ):\n",
    "    if len(lista) == ini:\n",
    "        return maximo\n",
    "    else:\n",
    "        if lista[ini] > maximo:\n",
    "            return maximoRPos(lista, lista[ini], ini+1)\n",
    "        else:\n",
    "            return maximoRPos(lista, maximo, ini+1)\n",
    "    \n",
    "def maximoPos(lista):\n",
    "    if len(lista) == 0:\n",
    "        return 'mira a ver'\n",
    "    maximo = lista[0]\n",
    "    return maximoRPos(lista, maximo)"
   ]
  },
  {
   "cell_type": "code",
   "execution_count": 184,
   "metadata": {},
   "outputs": [
    {
     "data": {
      "text/plain": [
       "101"
      ]
     },
     "execution_count": 184,
     "metadata": {},
     "output_type": "execute_result"
    }
   ],
   "source": [
    "maximoPos([100,1,2,3,4,101])"
   ]
  },
  {
   "cell_type": "code",
   "execution_count": 135,
   "metadata": {},
   "outputs": [
    {
     "data": {
      "text/plain": [
       "101"
      ]
     },
     "execution_count": 135,
     "metadata": {},
     "output_type": "execute_result"
    }
   ],
   "source": [
    "maximo3([1,2,3,4,101,2,7,10,100,3,4,5,56])"
   ]
  },
  {
   "cell_type": "code",
   "execution_count": 173,
   "metadata": {},
   "outputs": [
    {
     "data": {
      "text/plain": [
       "105"
      ]
     },
     "execution_count": 173,
     "metadata": {},
     "output_type": "execute_result"
    }
   ],
   "source": [
    "maximo([102,2,3,4,101,2,7,10,105,3,4,5,56])"
   ]
  },
  {
   "attachments": {},
   "cell_type": "markdown",
   "metadata": {},
   "source": [
    "20) Escribe una función recursiva que compruebe si todos los elementos de una lista son positivos"
   ]
  },
  {
   "cell_type": "code",
   "execution_count": 187,
   "metadata": {},
   "outputs": [],
   "source": [
    "def positivos(lista):\n",
    "    if len(lista) == 0:\n",
    "        return True\n",
    "    if len(lista) == 1:\n",
    "        if lista[0] > 0:\n",
    "            return True\n",
    "        else:\n",
    "            return False\n",
    "    else:\n",
    "        if lista[0] >= 0:\n",
    "            return positivos(lista[1:])\n",
    "        else:\n",
    "            return False\n",
    "        \n",
    "def positivosPos(lista, pos = 0):\n",
    "    if len(lista) == pos:\n",
    "        return True\n",
    "    else:\n",
    "        if lista[pos] >= 0:\n",
    "            return positivosPos(lista, pos + 1)\n",
    "        else:\n",
    "            return False"
   ]
  },
  {
   "cell_type": "code",
   "execution_count": 138,
   "metadata": {},
   "outputs": [
    {
     "data": {
      "text/plain": [
       "True"
      ]
     },
     "execution_count": 138,
     "metadata": {},
     "output_type": "execute_result"
    }
   ],
   "source": [
    "positivos([1,2,4,5,6,7,7,3,4,6])"
   ]
  },
  {
   "cell_type": "code",
   "execution_count": 141,
   "metadata": {},
   "outputs": [
    {
     "data": {
      "text/plain": [
       "False"
      ]
     },
     "execution_count": 141,
     "metadata": {},
     "output_type": "execute_result"
    }
   ],
   "source": [
    "positivos([-1,2,4,5,-6,7,7,-3,4,6])"
   ]
  },
  {
   "cell_type": "code",
   "execution_count": 146,
   "metadata": {},
   "outputs": [
    {
     "data": {
      "text/plain": [
       "True"
      ]
     },
     "execution_count": 146,
     "metadata": {},
     "output_type": "execute_result"
    }
   ],
   "source": [
    "positivosPos([1,2,4,5,6,7,7,3,4,6])"
   ]
  },
  {
   "cell_type": "code",
   "execution_count": 148,
   "metadata": {},
   "outputs": [
    {
     "data": {
      "text/plain": [
       "False"
      ]
     },
     "execution_count": 148,
     "metadata": {},
     "output_type": "execute_result"
    }
   ],
   "source": [
    "positivosPos([1,2,4,5,6,-7,7,3,4,6])"
   ]
  },
  {
   "cell_type": "code",
   "execution_count": 190,
   "metadata": {},
   "outputs": [
    {
     "data": {
      "text/plain": [
       "False"
      ]
     },
     "execution_count": 190,
     "metadata": {},
     "output_type": "execute_result"
    }
   ],
   "source": [
    "all(x > 0 for x in [1,-2,3,4])"
   ]
  },
  {
   "cell_type": "code",
   "execution_count": 6,
   "metadata": {},
   "outputs": [],
   "source": [
    "def quitarPositivos(lista, pos=0):\n",
    "    if len(lista) == pos:\n",
    "        return lista\n",
    "    else:\n",
    "        if lista[pos] > 0:\n",
    "            lista.pop(pos)\n",
    "            return quitarPositivos(lista,pos)\n",
    "        else:\n",
    "            return quitarPositivos(lista, pos+1)\n"
   ]
  },
  {
   "cell_type": "code",
   "execution_count": 7,
   "metadata": {},
   "outputs": [
    {
     "data": {
      "text/plain": [
       "[-4, -1]"
      ]
     },
     "execution_count": 7,
     "metadata": {},
     "output_type": "execute_result"
    }
   ],
   "source": [
    "quitarPositivos([1,2,3,-4,5,6-7])"
   ]
  }
 ],
 "metadata": {
  "kernelspec": {
   "display_name": "Python 3 (ipykernel)",
   "language": "python",
   "name": "python3"
  },
  "language_info": {
   "codemirror_mode": {
    "name": "ipython",
    "version": 3
   },
   "file_extension": ".py",
   "mimetype": "text/x-python",
   "name": "python",
   "nbconvert_exporter": "python",
   "pygments_lexer": "ipython3",
   "version": "3.11.2"
  }
 },
 "nbformat": 4,
 "nbformat_minor": 2
}
