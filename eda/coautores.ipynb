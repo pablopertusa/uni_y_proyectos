{
 "cells": [
  {
   "cell_type": "markdown",
   "id": "578b17d6",
   "metadata": {},
   "source": [
    "# Ejercicio coautores"
   ]
  },
  {
   "cell_type": "code",
   "execution_count": 1,
   "id": "1c6c33d8",
   "metadata": {},
   "outputs": [],
   "source": [
    "import collections\n",
    "from itertools import combinations\n",
    "\n",
    "class MapReduce:\n",
    "    def __call__(self, inputdata):\n",
    "        map_responses = collections.defaultdict(list)\n",
    "        for (k1,v1) in inputdata:\n",
    "            for (k2,v2) in self.mapper(k1,v1):\n",
    "                map_responses[k2].append(v2)\n",
    "        reduce_responses = collections.defaultdict(list)\n",
    "        for k2,listv2 in map_responses.items():\n",
    "            for v2 in self.reducer(k2,listv2):\n",
    "                reduce_responses[k2].append(v2)\n",
    "        return reduce_responses"
   ]
  },
  {
   "cell_type": "code",
   "execution_count": 2,
   "id": "b335f5e8",
   "metadata": {},
   "outputs": [],
   "source": [
    "class Coautores1(MapReduce):\n",
    "    def mapper(self, dummy, linea):\n",
    "        autor,titulo,citas = linea.split('\\t')\n",
    "        citas = int(citas)\n",
    "        yield ( (titulo,citas), autor)\n",
    "        \n",
    "    def reducer(self, titulo_citas, autores):\n",
    "        titulo, citas = titulo_citas\n",
    "        for dosautores in combinations(autores, 2):\n",
    "            yield (dosautores, citas)\n",
    "    "
   ]
  },
  {
   "cell_type": "code",
   "execution_count": 6,
   "id": "9c5982eb",
   "metadata": {},
   "outputs": [
    {
     "data": {
      "text/plain": [
       "[(('Claudio Gutierrez', 'Jorge Perez'), 320),\n",
       " (('Claudio Gutierrez', 'Renzo Angles'), 315),\n",
       " (('Claudio Gutierrez', 'Renzo Angles'), 157),\n",
       " (('Claudio Gutierrez', 'Jorge Perez'), 137)]"
      ]
     },
     "execution_count": 6,
     "metadata": {},
     "output_type": "execute_result"
    }
   ],
   "source": [
    "with open('bibliografia.tsv') as f:\n",
    "    c = Coautores1()\n",
    "    resul = c(enumerate(f))\n",
    "    \n",
    "entrada2 = [item for lista in resul.values() for item in lista]\n",
    "entrada2"
   ]
  },
  {
   "cell_type": "code",
   "execution_count": 8,
   "id": "c3919cde",
   "metadata": {},
   "outputs": [],
   "source": [
    "class Coautores2(MapReduce):\n",
    "    def mapper(self, coautores, citas):\n",
    "        yield coautores, citas\n",
    "    def reducer(self, coautres, listacitas):\n",
    "        yield sum(listacitas)"
   ]
  },
  {
   "cell_type": "code",
   "execution_count": 11,
   "id": "db83703f",
   "metadata": {},
   "outputs": [
    {
     "data": {
      "text/plain": [
       "defaultdict(list,\n",
       "            {('Claudio Gutierrez', 'Jorge Perez'): [457],\n",
       "             ('Claudio Gutierrez', 'Renzo Angles'): [472]})"
      ]
     },
     "execution_count": 11,
     "metadata": {},
     "output_type": "execute_result"
    }
   ],
   "source": [
    "c2 = Coautores2()\n",
    "resul2 = c2(entrada2)\n",
    "resul2"
   ]
  },
  {
   "cell_type": "code",
   "execution_count": 17,
   "id": "774e4e53",
   "metadata": {},
   "outputs": [
    {
     "name": "stdout",
     "output_type": "stream",
     "text": [
      "- Claudio Gutierrez, Jorge Perez -> 457\n",
      "- Claudio Gutierrez, Renzo Angles -> 472\n"
     ]
    }
   ],
   "source": [
    "for coautores, citas in resul2.items():\n",
    "    print('-', ', '.join(coautores), '->', citas[0])"
   ]
  },
  {
   "cell_type": "code",
   "execution_count": null,
   "id": "3035c548",
   "metadata": {},
   "outputs": [],
   "source": []
  }
 ],
 "metadata": {
  "kernelspec": {
   "display_name": "Python 3 (ipykernel)",
   "language": "python",
   "name": "python3"
  },
  "language_info": {
   "codemirror_mode": {
    "name": "ipython",
    "version": 3
   },
   "file_extension": ".py",
   "mimetype": "text/x-python",
   "name": "python",
   "nbconvert_exporter": "python",
   "pygments_lexer": "ipython3",
   "version": "3.10.12"
  }
 },
 "nbformat": 4,
 "nbformat_minor": 5
}
