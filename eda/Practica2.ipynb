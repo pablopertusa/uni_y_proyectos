{
 "cells": [
  {
   "cell_type": "markdown",
   "metadata": {},
   "source": [
    "<h1 align=\"center\">Práctica 2. Tablas de dispersión</h1>\n",
    "<h3 style=\"display:block; margin-top:5px;\" align=\"center\">Estructuras de datos</h3>\n",
    "<h3 style=\"display:block; margin-top:5px;\" align=\"center\">Grado en Ciencia de Datos</h3>\n",
    "<h3 style=\"display:block; margin-top:5px;\" align=\"center\">2023-2024</h3>    \n",
    "<h3 style=\"display:block; margin-top:5px;\" align=\"center\">Universitat Politècnica de València</h3>\n",
    "<br>"
   ]
  },
  {
   "cell_type": "markdown",
   "metadata": {},
   "source": [
    "Práctica realizada por:\n",
    "- **Pablo Pertusa Canales**"
   ]
  },
  {
   "cell_type": "markdown",
   "metadata": {},
   "source": [
    "## Índice\n",
    "1. ### [Material de estudio: cómo funcionan los generadores y `yield`](#material_de_estudio)\n",
    "1. ### [Actividad 1: Implementar la clase `SeparateChainingHashSet`](#act1)\n",
    "1. ### [Actividad 2: Diccionario con las palabras del Quijote](#act2)\n",
    "1. ### [Actividad 3: Mostrar histograma de ocupación del conjunto anterior](#act3)\n",
    "1. ### [Anexo: Código de la clase `SeparateChainingHashTable`](#anexo1)"
   ]
  },
  {
   "cell_type": "markdown",
   "metadata": {},
   "source": [
    "<a id='material_de_estudio'></a>\n",
    "## Material de estudio: cómo funcionan los generadores y `yield`\n",
    "\n",
    "Uno de los objetivos de esta práctica es mostrarte la instrucción `yield` y cómo se utiliza para crear *generadores*. \n",
    "\n",
    "A estas alturas ya conoces las funciones python y la instrucción `return`, por lo que el siguiente ejemplo debe resultarte totalmente familiar:"
   ]
  },
  {
   "cell_type": "code",
   "execution_count": 18,
   "metadata": {},
   "outputs": [
    {
     "name": "stdout",
     "output_type": "stream",
     "text": [
      "<function example_function at 0x0000020A5E926520> <class 'function'>\n",
      "<class 'int'> 25\n"
     ]
    }
   ],
   "source": [
    "def example_function(x):\n",
    "    return x*x # returns que square of x\n",
    "    return x+1 # this instruction is NEVER executed\n",
    "\n",
    "y = example_function(5)\n",
    "print(example_function, type(example_function))\n",
    "print(type(y), y)"
   ]
  },
  {
   "cell_type": "markdown",
   "metadata": {},
   "source": [
    "El código anterior muestra:\n",
    "\n",
    "```\n",
    "<function example_function at 0x7f9e1fd90598> <class 'function'>\n",
    "<class 'int'> 25\n",
    "```\n",
    "\n",
    "> **Nota:** puede que at 0x... difiera, es un detalle de ejecución.\n",
    "\n",
    "Ahora compara con el siguiente ejemplo donde hemos cambiado `return` por `yield`:"
   ]
  },
  {
   "cell_type": "code",
   "execution_count": 19,
   "metadata": {},
   "outputs": [
    {
     "name": "stdout",
     "output_type": "stream",
     "text": [
      "<function example_function at 0x0000020A5E926520> <class 'function'>\n",
      "<class 'generator'> <generator object example_generator at 0x0000020A49BDBD00>\n"
     ]
    }
   ],
   "source": [
    "def example_generator(x):\n",
    "    yield x*x # similar to example_function\n",
    "    yield x+1 # replacing return by yield\n",
    "\n",
    "y = example_generator(5)\n",
    "print(example_function, type(example_function))\n",
    "print(type(y), y)"
   ]
  },
  {
   "cell_type": "markdown",
   "metadata": {},
   "source": [
    "Observa que ahora el resultado de los `print` es:\n",
    "\n",
    "```\n",
    "<function example_function at 0x7f9e1fd90598> <class 'function'>\n",
    "<class 'generator'> <generator object example_generator at 0x7f9e1fef8938>\n",
    "```\n",
    "\n",
    "Es decir, basta con que una función utilice `yield` en lugar de `return` para que Python sepa que se trata de un *generador*. Observa también que **no ha devuelto el valor 25**, cuando se ejecuta un generador no se devuelve un valor como con una función.\n",
    "\n",
    "Ahora la forma de usar el valor devuelto (un **generator object**) puede ser así:"
   ]
  },
  {
   "cell_type": "code",
   "execution_count": 20,
   "metadata": {},
   "outputs": [
    {
     "name": "stdout",
     "output_type": "stream",
     "text": [
      "25\n",
      "6\n"
     ]
    }
   ],
   "source": [
    "for value in y:\n",
    "    print(value)"
   ]
  },
  {
   "cell_type": "markdown",
   "metadata": {},
   "source": [
    "Si lo volvieras a ejecutar por 2ª (o 3ª,...) vez verías que ya no devuelve nada. Vamos a realizar otro ejemplo para que veas cómo funcionan los generadores:"
   ]
  },
  {
   "cell_type": "code",
   "execution_count": 21,
   "metadata": {},
   "outputs": [
    {
     "name": "stdout",
     "output_type": "stream",
     "text": [
      "['uno', 'dos', 'tres', 'cuatro', 'cinco', 'uno', 'dos', 'tres', 'cuatro', 'cinco']\n",
      "uno\n",
      "dos\n",
      "tres\n",
      "cuatro\n",
      "cinco\n",
      "uno\n",
      "dos\n",
      "tres\n",
      "cuatro\n",
      "cinco\n"
     ]
    }
   ],
   "source": [
    "def gen1():\n",
    "    yield 'uno'\n",
    "    yield 'dos'\n",
    "    for i in ('tres','cuatro'):\n",
    "        yield i\n",
    "    yield 'cinco'\n",
    "    \n",
    "def gen2():\n",
    "    for i in range(2):\n",
    "        for j in gen1():\n",
    "            yield j\n",
    "\n",
    "lista = list(gen2())\n",
    "print(lista)\n",
    "\n",
    "for x in gen2():\n",
    "    print(x)\n",
    "    "
   ]
  },
  {
   "cell_type": "markdown",
   "metadata": {},
   "source": [
    "Como has podido observar en estos ejemplos:\n",
    "\n",
    "- Un generador devuelve un valor con `yield` y la pròxima vez continuará desde la siguiente instrucción.\n",
    "- Puedes utilizar un generador como argumento de `list()` o de cualquier instrucción que espere algo iterable (generadores, iteradores,...) o bien simplemente en un `for variable in un_generador:`\n",
    "\n",
    "En la siguiente actividad vas a tener que implementar un método `longitudes_cubetas` en la clase `SeparateChainingHashSet`."
   ]
  },
  {
   "cell_type": "markdown",
   "metadata": {},
   "source": [
    "<a id='act1'></a>\n",
    "## Actividad 1: Implementar la clase `SeparateChainingHashSet`\n",
    "\n",
    "El código que hemos estudiado en el tema 1 (la clase `SeparateChainingHashTable`, ver código [en el anexo](#anexo1)) implementa una tabla de dispersión. Cada cubeta es una lista Python que almacena tuplas `(clave,valor)` y dispone de los métodos necesarios para emular un diccionario Python, a saber:\n",
    "\n",
    "- `M.__getitem__(k)` se llama cuando se consulta `M[k]`.\n",
    "- `M.__setitem__(k,v)` se ejecuta cuando haces `M[k] = v`.\n",
    "- `M__contains__(k)` se evalua cuando haces `k in M`.\n",
    "- `M.__delitem__(k)` cuando haces `del M[k]`.\n",
    "\n",
    "En esta actividad se pide que implementes, basándote en el código anterior, una clase `SeparateChainingHashSet` que simule un conjunto (la clase `set` de Python). Para ello, la tabla también tendrá cubetas pero éstas almacenarán una lista de claves. Es decir, donde antes había una tupla `(clave,valor)` ahora únicamente guardaremos `clave`.\n",
    "\n",
    "\n",
    "Además, los métodos de un `set` no son exactamente los mismos que en un `dict`. Vas a tener que implementar:\n",
    "\n",
    "- `__contains__` útil para saber si un elemento (o clave) pertenece al conjunto. Obviamente es una adaptación del método homónimo de la clase `SeparateChainingHashTable`.\n",
    "- `add` para añadir un nuevo elemento (o clave) al conjunto. Se trata del equivalente al método `__setitem__`\n",
    "\n",
    "    > **¡¡¡IMPORTANTE!!!:** Solamente debes redispersar cuando el factor de carga sea mayor o igual a 10. En ese caso, al redispersar se doblará el número de cubetas, con lo que el factor de carga bajará a 5.\n",
    "\n",
    "- `discard` para eliminar algo del conjunto, parecido al método `__delitem__` de la otra clase. Si el elemento no estaba en el conjunto el método no hace nada. Una variante de esta operación, llamada `remove` se diferencia en que, si el elemento no estaba en el conjunto, dispara una excepción `KeyError`.\n",
    "\n",
    "\n",
    "Se pide que implementes un método `longitudes_cubetas` que sea un *generador* (usando `yield`) y que vaya devolviendo la longitud de la lista de la cubeta 0, de la cubeta 1,... hasta recorrer todas las cubetas.\n",
    "\n",
    "\n"
   ]
  },
  {
   "cell_type": "code",
   "execution_count": 22,
   "metadata": {},
   "outputs": [],
   "source": [
    "# vamos a necesitar estas bibliotecas a lo largo de la práctica, simplemente ejecuta esta celda:\n",
    "import re\n",
    "\n",
    "import matplotlib.pyplot as plt\n",
    "import numpy as np\n",
    "# if using a Jupyter notebook, include:\n",
    "%matplotlib inline"
   ]
  },
  {
   "cell_type": "code",
   "execution_count": 23,
   "metadata": {},
   "outputs": [],
   "source": [
    "class SeparateChainingHashSet:\n",
    "    def __init__(self, tipo_hash=0, initial_table_size = 2**3):\n",
    "        self.tipo_hash = tipo_hash\n",
    "        self._n = 0\n",
    "        self._table = [[] for i in range(initial_table_size)]\n",
    "\n",
    "    def __len__(self):\n",
    "        return self._n\n",
    "\n",
    "    def _hash_function(self, value):\n",
    "        if self.tipo_hash == 0:\n",
    "            h = hash(value)\n",
    "        elif self.tipo_hash == 1:\n",
    "            h = sum(ord(letra) for letra in value)\n",
    "        else:\n",
    "            h = len(value)*19+ord(value[0])*53+ord(value[-1])\n",
    "        return h % len(self._table)\n",
    "            \n",
    "    def load_factor(self):\n",
    "        return self._n / len(self._table)\n",
    "        \n",
    "    def __contains__(self, key):\n",
    "        pos = self._hash_function(key)\n",
    "        for i in self._table[pos]:\n",
    "            if i == key:\n",
    "                return True\n",
    "        return False\n",
    "\n",
    "    def add(self, key):\n",
    "        pos = self._hash_function(key)\n",
    "        for i in self._table[pos]:\n",
    "            if i == key:\n",
    "                return None\n",
    "        self._table[pos].append(key)\n",
    "        self._n += 1\n",
    "        if self.load_factor() >= 10:\n",
    "            self._resize(2*self._n)\n",
    "\n",
    "    def discard(self, key):\n",
    "        # completar\n",
    "        pos = self._hash_function(key)\n",
    "        for i in self._table[pos]:\n",
    "            if i == key:\n",
    "                new_bucket = 0\n",
    "                for j in self._table[pos]:\n",
    "                    if j != key:\n",
    "                        new_bucket.append(j)\n",
    "                self._table[pos] = new_bucket\n",
    "        return None\n",
    "\n",
    "    def _resize(self, new_table_size):\n",
    "        old_table = self._table\n",
    "        self._table = [[] for i in range(new_table_size)]\n",
    "        for bucket_list in old_table:\n",
    "            for k in bucket_list:\n",
    "                index = self._hash_function(k)\n",
    "                self._table[index].append(k)\n",
    "\n",
    "    def longitudes_cubetas(self):\n",
    "        # completar, va devolviendo con yield las longitudes de la cubeta 0, cubeta 1,...\n",
    "        for cubeta in self._table:\n",
    "            yield len(cubeta)\n",
    "  \n",
    "    def __iter__(self):\n",
    "        # completar\n",
    "        for cubeta in self._table:\n",
    "            yield cubeta\n",
    "                        \n",
    "    def __repr__(self):\n",
    "        aux = []\n",
    "        for bucket_list in self._table:\n",
    "            for k in bucket_list:\n",
    "                aux.append(repr(k))\n",
    "        return \"{\" + \",\".join(aux) + \"}\"\n"
   ]
  },
  {
   "cell_type": "markdown",
   "metadata": {},
   "source": [
    "<a id='act2'></a>\n",
    "## Actividad 2: Diccionario con las palabras del Quijote\n",
    "\n",
    "Junto a este Jupyter Notebook deberás haberte bajado el fichero `'quijote_latin1.txt'` que hemos dejado en la página de la práctica. Es el mismo fichero que en la práctica anterior. Ejecuta el siguiente código que carga todas las palabras del libro en un conjunto:"
   ]
  },
  {
   "cell_type": "code",
   "execution_count": 24,
   "metadata": {},
   "outputs": [
    {
     "name": "stdout",
     "output_type": "stream",
     "text": [
      "Hay 25281 palabras diferentes\n"
     ]
    }
   ],
   "source": [
    "with open('quijote_latin1.txt', encoding='latin-1') as f:\n",
    "    q = f.read()\n",
    "\n",
    "# creamos 3 instancias de la clase, cada una utilizará\n",
    "# un tipo de función de dispersión diferente:\n",
    "cjt = [SeparateChainingHashSet(i) for i in (0,1,2)]\n",
    "for palabra in re.finditer('\\w+', q):\n",
    "    for conjunto in cjt:\n",
    "        conjunto.add(palabra.group())\n",
    "    \n",
    "print(f\"Hay {len(cjt[0])} palabras diferentes\") # deben salir 25281"
   ]
  },
  {
   "cell_type": "markdown",
   "metadata": {},
   "source": [
    "<a id='act3'></a>\n",
    "## Actividad 3: Mostrar histograma de ocupación del conjunto anterior\n",
    "\n",
    "### Actividad 3.1\n",
    "\n",
    "Ejecuta el código que sigue, si lo de antes está bien no debería de dar errores:"
   ]
  },
  {
   "cell_type": "code",
   "execution_count": 25,
   "metadata": {},
   "outputs": [
    {
     "data": {
      "image/png": "[encoded data removed]",
      "text/plain": [
       "<Figure size 1500x500 with 3 Axes>"
      ]
     },
     "metadata": {},
     "output_type": "display_data"
    }
   ],
   "source": [
    "\n",
    "plt.figure(figsize=(15,5))\n",
    "for i in (0,1,2):\n",
    "    plt.subplot(1,3,i+1)\n",
    "    plt.hist(list(cjt[i].longitudes_cubetas()),\n",
    "                 bins=list(range(20)),\n",
    "                 density=False,\n",
    "                 histtype='bar',\n",
    "                 color='g',\n",
    "                 edgecolor='k'\n",
    "                )\n",
    "    plt.xlabel('Longitud de las cubetas')\n",
    "    plt.ylabel('Número de cubetas')\n",
    "    plt.title(f'Tipo {i}')\n",
    "\n",
    "plt.show()"
   ]
  },
  {
   "cell_type": "markdown",
   "metadata": {},
   "source": [
    "### Actividad 3.2\n",
    "\n",
    "En vista de los histogramas de ocupación obtenidos ¿Cuál crees que es la mejor función de dispersión para estos datos? (Razona la respuesta)\n",
    "\n",
    "> La mejor función de dispersión es la tipo 0 porque el numero de elementos de cada cubeta es similar, que es lo que se busca con una función de dispersión.\n"
   ]
  },
  {
   "cell_type": "markdown",
   "metadata": {},
   "source": [
    "<a id='anexo1'></a>\n",
    "## Anexo 1: Código de la clase `SeparateChainingHashTable`\n",
    "\n",
    "```python\n",
    "class SeparateChainingHashTable:\n",
    "    def __init__(self, initial_table_size = 2**3):\n",
    "        self._n = 0\n",
    "        self._table = [[] for i in range(initial_table_size)]\n",
    "\n",
    "    def __len__(self):\n",
    "        return self._n\n",
    "\n",
    "    def _hash_function(self, key):\n",
    "        return hash(key) % len(self._table)\n",
    "\n",
    "    def load_factor(self):\n",
    "        return self._n / len(self._table)\n",
    "        \n",
    "    def __getitem__(self, key):\n",
    "        index = self._hash_function(key)\n",
    "        bucket_list = self._table[index]\n",
    "        for (k, v) in bucket_list:\n",
    "            if k == key:\n",
    "                return v\n",
    "        raise KeyError(\"Key Error: \" + repr(key))\n",
    "\n",
    "    def __contains__(self, key):\n",
    "        index = self._hash_function(key)\n",
    "        bucket_list = self._table[index]\n",
    "        for (k, v) in bucket_list:\n",
    "            if k == key:\n",
    "                return True\n",
    "        return False\n",
    "\n",
    "    def __setitem__ (self, key, value):\n",
    "        index = self._hash_function(key)\n",
    "        bucket_list = self._table[index]\n",
    "        for i,(k, v) in enumerate(bucket_list):\n",
    "            if k == key:\n",
    "                bucket_list[i] = (k, value)\n",
    "                return\n",
    "        bucket_list.append((key, value))\n",
    "        self._n += 1\n",
    "        if self.load_factor() >= 2:\n",
    "            self._resize(2 * len(self._table))\n",
    "\n",
    "    def __delitem__ (self, key):\n",
    "        index = self._hash_function(key)\n",
    "        bucket_list = self._table[index]\n",
    "        pos = -1\n",
    "        for i,(k, v) in enumerate(bucket_list):\n",
    "            if k == key:\n",
    "                pos = i\n",
    "                break\n",
    "        if pos == -1:\n",
    "            raise KeyError(\"Key Error: \" + repr(key))\n",
    "        del bucket_list[pos]\n",
    "        self._n -= 1\n",
    "\n",
    "    def _resize(self, new_table_size):\n",
    "        old_table = self._table\n",
    "        self._table = [[] for i in range(new_table_size)]\n",
    "        for bucket_list in old_table:\n",
    "            for (k,v) in bucket_list:\n",
    "                index = self._hash_function(k)\n",
    "                self._table[index].append((k,v))\n",
    "\n",
    "    def __iter__(self):\n",
    "        for bucket_list in self._table:\n",
    "            for (k,v) in bucket_list:\n",
    "                yield k\n",
    "\n",
    "    def __repr__(self):\n",
    "        aux = []\n",
    "        for bucket_list in self._table:\n",
    "            for (k,v) in bucket_list:\n",
    "                aux.append(repr(k)+\":\"+repr(v))\n",
    "        return \"{\" + \",\".join(aux) + \"}\"\n",
    "\n",
    "```\n"
   ]
  },
  {
   "cell_type": "markdown",
   "metadata": {},
   "source": []
  }
 ],
 "metadata": {
  "kernelspec": {
   "display_name": "Python 3 (ipykernel)",
   "language": "python",
   "name": "python3"
  },
  "language_info": {
   "codemirror_mode": {
    "name": "ipython",
    "version": 3
   },
   "file_extension": ".py",
   "mimetype": "text/x-python",
   "name": "python",
   "nbconvert_exporter": "python",
   "pygments_lexer": "ipython3",
   "version": "3.11.2"
  }
 },
 "nbformat": 4,
 "nbformat_minor": 2
}
