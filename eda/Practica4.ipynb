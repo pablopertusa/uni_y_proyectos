{
 "cells": [
  {
   "cell_type": "markdown",
   "metadata": {},
   "source": [
    "<h1 align=\"center\">Práctica 4. Divide y vencerás</h1>\n",
    "<h3 style=\"display:block; margin-top:5px;\" align=\"center\">Estructuras de datos</h3>\n",
    "<h3 style=\"display:block; margin-top:5px;\" align=\"center\">Grado en Ciencia de Datos</h3>\n",
    "<h3 style=\"display:block; margin-top:5px;\" align=\"center\">2023-2024</h3>    \n",
    "<h3 style=\"display:block; margin-top:5px;\" align=\"center\">Universitat Politècnica de València</h3>\n",
    "<br>"
   ]
  },
  {
   "cell_type": "markdown",
   "metadata": {},
   "source": [
    "**Pon/poned aquí tú/vuestros nombre(s):**\n",
    "- Pablo Pertusa Canales"
   ]
  },
  {
   "cell_type": "markdown",
   "metadata": {},
   "source": [
    "## Índice\n",
    "1. ### [Introducción](#intro)\n",
    "1. ### [Actividad 1: Generar productos y sus cajas](#act1)\n",
    "1. ### [Actividad 2: Emparejar productos y sus cajas utilizando fuerza bruta](#act2)\n",
    "1. ### [Actividad 3: Emparejar productos y sus cajas mediante divide y vencerás](#act3)"
   ]
  },
  {
   "cell_type": "markdown",
   "metadata": {},
   "source": [
    "<a id='intro'></a>\n",
    "## Introducción\n",
    "\n",
    "Tenemos N productos caracterizados por su tamaño. Para cada producto se ha fabricado una caja para empaquetarlo. Solamente podemos empaquetar o guardar un producto en la caja que le corresponde (su mismo tamaño), ya que no cabrá en una caja más pequeña y si lo metemos en una caja mayor:\n",
    "\n",
    "- No será seguro transportarlo, puede moverse en su interior.\n",
    "- Seguro que el producto adecuado para esa caja quedará sin empaquetar, ya que no hay más cajas que las que se han fabricado para cada producto.\n",
    "\n",
    "Todo sencillo hasta ahora ¿no? Lamentablemente alguien (llamado `random.shuffle`) ha metido la pata y ha desordenado los productos y no sabemos qué producto va en cada caja.\n",
    "\n",
    "Para empeorar las cosas, no es posible medir los productos ni medir las cajas (esto se traduce en que está prohibido utilizar el campo `_size` de cajas y productos y en que no es posible usar los operadores de comparación).\n",
    "\n",
    "La única forma de resolver el problema consiste en utilizar el método `empaquetable` de la clase `Caja` que recibe un producto y devuelve uno de estos 3 mensajes:\n",
    "\n",
    "- `'encaja'` si tiene el tamaño adecuado.\n",
    "- `'no cabe'` si el producto es mayor que la caja.\n",
    "- `'sobra'` si la caja es mayor que el producto.\n",
    "\n",
    "A continuación se proponen 3 actividades:\n",
    "\n",
    "1. Familiarizarse con las clases `Producto` y `Caja` y con funciones para generar y comprobar.\n",
    "2. Resolver el problema por fuerza bruta (probando).\n",
    "3. Resolver el problema con una técnica de tipo *Divide y vencerás* inspirada en Quicksort."
   ]
  },
  {
   "cell_type": "markdown",
   "metadata": {},
   "source": [
    "<a id='act1'></a>\n",
    "## Actividad 1: Generar productos y sus cajas\n",
    "\n",
    "Tenemos dos clases Python llamadas, respectivamente, `Producto` y `Caja`. Cada producto debe ser embalado pero solamente puede hacerse con una caja de su mismo tamaño.\n",
    "\n",
    "Ambas clases tienen un atributo privado `_size`, por lo que **solamente debes acceder de manera indirecta mediante los métodos públicos**. Es decir:\n",
    "\n",
    "- No debes modificar estas clases en ningún momento.\n",
    "- Tampoco debes acceder directamente al atributo `_size`.\n",
    "\n",
    "Hemos sobrecargado los métodos `__eq__` para que siempre devuelvan `False`, por lo que:\n",
    "\n",
    "- No podremos utilizar estos objetos como clave de un diccionario (o de un conjunto).\n",
    "- No podremos ver si dos productos o dos cajas son iguales.\n",
    "- No podremos preguntar si están en una lista.\n",
    "\n",
    "No hemos definido ni `__lt__` ni similares, por lo que no podemos comparar el tamaño de productos entre sí ni de cajas entre sí.\n",
    "\n",
    "Los productos y sus respectivas cajas se crean pasándoles el tamaño de las mismas. Es posible que existan varias cajas y productos con el mismo tamaño. Para ver si una caja sirve para un producto hay que llamar al método `empaquetable`:\n",
    "\n",
    "```python\n",
    "caja = Caja(1234)\n",
    "producto = Producto(1234)\n",
    "print(caja.empaquetable(producto))\n",
    "```\n",
    "\n",
    "El método `empaquetable` devuelve uno de estos tres valores:\n",
    "- `'encaja'` si tiene el tamaño adecuado.\n",
    "- `'no cabe'` si el producto es mayor que la caja.\n",
    "- `'sobra'` si la caja es mayor que el producto.\n",
    "\n",
    "Es peligroso empaquetar un producto en una caja mayor porque puede moverse durante el transporte y romperse. Solamente podremos empaquetar productos en cajas donde el resultado sea `encaja`.\n",
    "\n",
    "Para resolver el problema por *fuerza bruta* bastaría con saber si encaja o no. La información extra de si no cabe o sobra será vital para resolver el problema mediant *divide y vencerás*.\n",
    "\n",
    "Estudia las siguientes clases. **No hay que modificar el siguiente código:**"
   ]
  },
  {
   "cell_type": "code",
   "execution_count": 10,
   "metadata": {},
   "outputs": [],
   "source": [
    "class Producto:\n",
    "    def __init__(self, size):\n",
    "        self._size = size\n",
    "    def __eq__(self, other):\n",
    "        \"\"\"\n",
    "        No está permitido comparar productos.\n",
    "        Eso impide también usarlos como clave en diccionarios\n",
    "        o buscarlos en una lista :(\n",
    "        \"\"\"\n",
    "        return False\n",
    "\n",
    "class Caja:\n",
    "    def __init__(self, size):\n",
    "        self._size = size\n",
    "        \n",
    "    def __eq__(self, other):\n",
    "        \"\"\"\n",
    "        No está permitido comparar cajas.\n",
    "        Eso impide también usarlos como clave en diccionarios\n",
    "        o buscarlas en una lista :(\n",
    "        \"\"\"\n",
    "        return False\n",
    "    \n",
    "    def empaquetable(self, producto):\n",
    "        if self._size == producto._size:\n",
    "            return 'encaja'\n",
    "        elif self._size < producto._size:\n",
    "            return 'no cabe'\n",
    "        else:\n",
    "            return 'sobra'"
   ]
  },
  {
   "cell_type": "markdown",
   "metadata": {},
   "source": [
    "La primera actividad es probar la siguientes funciones para crear 2 vectores de cajas y sus respectivos productos y ver que es posible realizar el empaquetado de todos ellos:"
   ]
  },
  {
   "cell_type": "code",
   "execution_count": 11,
   "metadata": {},
   "outputs": [],
   "source": [
    "import random\n",
    "\n",
    "def genera(talla):\n",
    "    productos = []\n",
    "    cajas = []\n",
    "    for i in range(talla):\n",
    "        sz = random.randint(0,1000_000)\n",
    "        productos.append(Producto(sz))\n",
    "        cajas.append(Caja(sz))\n",
    "    return cajas, productos"
   ]
  },
  {
   "cell_type": "markdown",
   "metadata": {},
   "source": [
    "A continuación debes comprobar que es posible empaquetar todos los productos en las cajas que ocupan las mismas posiciones en la lista de cajas. Para ello utiliza la siguiente función:"
   ]
  },
  {
   "cell_type": "code",
   "execution_count": 12,
   "metadata": {},
   "outputs": [],
   "source": [
    "def podemos_empaquetar(cajas, productos):\n",
    "    if len(cajas) != len(productos):\n",
    "        return False\n",
    "    for i,caja in enumerate(cajas):\n",
    "        if caja.empaquetable(productos[i]) != 'encaja':\n",
    "            return False\n",
    "    return True\n",
    "\n",
    "# también es válida esta otra versión:\n",
    "def podemos_empaquetar2(cajas, productos):\n",
    "    return (len(cajas) == len(productos) and\n",
    "            all(caja.empaquetable(producto) == 'encaja'\n",
    "                for caja, producto in zip(cajas,productos)))"
   ]
  },
  {
   "cell_type": "markdown",
   "metadata": {},
   "source": [
    "En este punto debes crear un par de listas de cajas y productos que contengan cada una 10 mil elementos y luego pasárselos a la función `podemos_empaquetar`:"
   ]
  },
  {
   "cell_type": "code",
   "execution_count": 13,
   "metadata": {},
   "outputs": [
    {
     "data": {
      "text/plain": [
       "True"
      ]
     },
     "execution_count": 13,
     "metadata": {},
     "output_type": "execute_result"
    }
   ],
   "source": [
    "cajas, productos = genera(10_000)\n",
    "# COMPLETAR para probar que es posible empaquetar los productos con las cajas\n",
    "podemos_empaquetar(cajas, productos)\n"
   ]
  },
  {
   "cell_type": "markdown",
   "metadata": {},
   "source": [
    "A continuación utiliza esta otra función para generar cajas y productos donde la lista de productos ha sido desordenada:"
   ]
  },
  {
   "cell_type": "code",
   "execution_count": 14,
   "metadata": {},
   "outputs": [],
   "source": [
    "def genera_desordenado(talla):\n",
    "    cajas, productos = genera(talla)\n",
    "    random.shuffle(productos) # ops! hemos perdido la correspondencia!!! :'(\n",
    "    return cajas, productos"
   ]
  },
  {
   "cell_type": "markdown",
   "metadata": {},
   "source": [
    "Crea una lista de cajas y otra de productos de talla 10 mil que estén desordenadas y comprueba que `podemos_empaquetar` devuelve `False`:"
   ]
  },
  {
   "cell_type": "code",
   "execution_count": 15,
   "metadata": {},
   "outputs": [
    {
     "data": {
      "text/plain": [
       "False"
      ]
     },
     "execution_count": 15,
     "metadata": {},
     "output_type": "execute_result"
    }
   ],
   "source": [
    "cajas, productos = genera_desordenado(10_000)\n",
    "# COMPLETAR para probar que es posible empaquetar los productos con las cajas\n",
    "podemos_empaquetar(cajas, productos)"
   ]
  },
  {
   "cell_type": "markdown",
   "metadata": {},
   "source": [
    "<a id='act2'></a>\n",
    "## Actividad 2:  Emparejar productos y sus cajas utilizando fuerza bruta\n",
    "\n",
    "En el apartado anterior has creado dos listas con 10 mil cajas y sus respectivos productos, salvo que esos productos están desordenados y, por tanto, no es posible empaquetarlos tal cual.\n",
    "\n",
    "El objetivo de este apartado es recuperar el orden de los productos (orden que hemos perdido al realizar `random.shuffle` para desordenarlos).\n",
    "\n",
    "Vamos a utilizar **fuerza bruta** que, como su nombre indica, es MUY INEFICIENTE.\n",
    "\n",
    "Completa la función `emparejar_fuerza_bruta` que debe devolver una lista con los mismos productos de modo que la función `podemos_empaquetar` devuelva `True`. Para ello:\n",
    "\n",
    "1. En primer lugar haremos una copia de la lista de productos, de modo que podamos modificar esta lista sin modificar la lista que nos pasan como argumento.\n",
    "2. A continuación, recorreremos la lista de cajas y, para cada una, buscaremos (en la copia del punto anterior) un producto que encaje y lo quitaremos de esa lista (que es una copia de la que nos pasan, por eso hemos hecho la copia).\n",
    "\n",
    "    > **Nota:** Es importante quitarlo con `del` y no utilizar el método `remove`, ya que este último dará error porque hace uso de comparaciones y hemos deshabilitado el método `__eq__`. Por este motivo, debes mantener de alguna manera el índice del elemento a borrar (ej: usando `enumerate`).\n",
    "    \n",
    "3. Cada vez que encontremos un producto que encaje con la caja visitada, guardaremos el producto en una lista resultado, lo quitaremos de nuestra copia y pararemos el bucle interno (puedes utilizar `break` si quieres).\n",
    "\n",
    "    > **Nota:** Es importante parar una vez hayamos encontrado el producto. En otro caso podría encontrar otro producto del mismo tamaño y asociar dos productos a una misma caja, lo cual sería incorrecto.\n",
    "    \n",
    "4. Al finalizar el bucle hay que devolver la lista resultado.\n",
    "\n",
    "Tras llamar a la función podremos comprobar que podemos empaquetar esa lista de productos con la lista de cajas utilizada."
   ]
  },
  {
   "cell_type": "code",
   "execution_count": 18,
   "metadata": {},
   "outputs": [],
   "source": [
    "def emparejar_fuerza_bruta(cajas, productos):\n",
    "    \"\"\"\n",
    "    Debe devolver una lista con los mismos productos\n",
    "    reorganizados para que pueda ser embalado por la\n",
    "    caja de su misma posición\n",
    "    \"\"\"\n",
    "    prods = productos.copy()\n",
    "    resul = []\n",
    "    for caja in cajas:\n",
    "        for i, p in enumerate(prods):\n",
    "            if caja.empaquetable(p) == 'encaja':\n",
    "                resul.append(p)\n",
    "                del prods[i]\n",
    "                break\n",
    "    return resul"
   ]
  },
  {
   "cell_type": "markdown",
   "metadata": {},
   "source": [
    "El siguiente código mide el tiempo que le cuesta emparejar todas las piezas y después comprueba que están bien emparejadas. Lo hemos puesto en 2 celdas porque `%%time` ha de estar al inicio de una celda (sirve para medir el tiempo de ejecución):"
   ]
  },
  {
   "cell_type": "code",
   "execution_count": 21,
   "metadata": {},
   "outputs": [
    {
     "name": "stdout",
     "output_type": "stream",
     "text": [
      "CPU times: total: 4.27 s\n",
      "Wall time: 4.29 s\n"
     ]
    },
    {
     "data": {
      "text/plain": [
       "True"
      ]
     },
     "execution_count": 21,
     "metadata": {},
     "output_type": "execute_result"
    }
   ],
   "source": [
    "%%time\n",
    "cajas, productos = genera_desordenado(10_000)\n",
    "productos_ordenado = emparejar_fuerza_bruta(cajas, productos)\n",
    "podemos_empaquetar(cajas, productos_ordenado)"
   ]
  },
  {
   "cell_type": "markdown",
   "metadata": {},
   "source": [
    "Tras un buen rato debe salir algo similar a esto:\n",
    "\n",
    "```\n",
    "CPU times: user 7.23 s, sys: 7.23 ms, total: 7.24 s\n",
    "Wall time: 7.25 s\n",
    "\n",
    "True\n",
    "```\n",
    "\n",
    "**Nota:** es posible que salga un tiempo menor o mayor según la potencia del ordenador y creo que en Windows solamente sale un tiempo (Wall) y no varios (CPU,...)."
   ]
  },
  {
   "cell_type": "markdown",
   "metadata": {},
   "source": [
    "<a id='act3'></a>\n",
    "## Actividad 3:  Emparejar productos y sus cajas mediante divide y vencerás\n",
    "\n",
    "En el apartado anterior hemos emparejado todas las piezas y ha tardado (al menos en mi ordenador) unos 7 segundos (en otro ordenador me ha tardado el doble).\n",
    "\n",
    "> **Nota:** Lo importante es la diferencia de tiempos con la versión \"Divide y vencerás\" que veremos a continuación. Lo ideal sería medir estos tiempos para varias tallas y ver la diferencia en el coste asintótico, ya que ambos tienen un coste asintótico distinto y la diferencia aumenta de manera no proporcional conforme aumentamos la talla.\n",
    "\n",
    "Veamos si aplicando la estrategia \"Dividir y Vencer\" podemos mejorar esos tiempos.\n",
    "\n",
    "El objetivo ahora es implementar una función con esta cabecera:\n",
    "\n",
    "```python\n",
    "def emparejar_DyV(cajas, productos):\n",
    "    ...\n",
    "```\n",
    "\n",
    "La función devuelve **dos listas** (una lista de cajas y otra de productos en el orden adecuado para empaquetarlos con las cajas de la lista, es decir, que la llamada a `podemos_empaquetar` devuelva `True`).\n",
    "\n",
    "Para ello vamos a inspirarnos en al algoritmo *Quicksort* eligiendo una caja cualquiera (la primera por ejemplo) que llamaremos *pivote*. Usando la caja pivote vamos a dividir los productos en 3 listas:\n",
    "\n",
    "- Los productos que no caben en la caja (caja demasiado pequeña).\n",
    "- Los productos que encajan.\n",
    "- Los productos para los que la caja sobra (caja demasiado grande).\n",
    "\n",
    "> **Nota** No hace falta crear 3 listas explícitamente, puedes crear un diccionario:\n",
    "> ```python\n",
    "> d = { 'encaja':[], 'no cabe':[], 'sobra':[] }\n",
    "> ```\n",
    "> y hacer appends a la clave que devuelva el método `empaquetable` de la clase `Caja`\n",
    "> Posteriormente puedes acceder y utilizar estas listas para lo que necesites.\n",
    "\n",
    "Con cualquiera de los productos que encajen (debe existir al menos uno) se dividen las cajas en 3 listas análogas:\n",
    "\n",
    "- Cajas demasiado grandes para el producto.\n",
    "- Cajas del tamaño correcto.\n",
    "- Cajas demasiado pequeñas para el producto.\n",
    "\n",
    "y luego:\n",
    "\n",
    "- Ponemos juntas todas las cajas que encajen con el producto y en la otra lista todos los productos que encajen en la caja (puedes utilizar el método `extend` de la clase `list`).\n",
    "- Llamamos recursivamente con la lista de productos que no encajan (son demasiado grandes) y las cajas más grandes que el producto pivote. Eso nos devolverá 2 lista con las que extenderemos (nuevament `extend`) las listas de cajas y productos, respectivamente.\n",
    "- Hacemos lo mismo (llamada recursiva) con la lista de productos más pequeños (la caja sobra) y las cajas más pequeñas que el producto.\n",
    "- Finalmente devolvemos las listas de cajas y productos construidas de esta manera (las listas `rcajas` y `rprod` que hemos ido extendiendo).\n",
    "\n",
    "> **Nota:** Obviamente hay un caso base que es cuando las lista que nos llegan están vacías."
   ]
  },
  {
   "cell_type": "code",
   "execution_count": 28,
   "metadata": {},
   "outputs": [],
   "source": [
    "def emparejar_DyV(cajas, productos):\n",
    "    rcajas, rprod = [], []\n",
    "    if len(cajas)>0:\n",
    "        cajapivot = cajas[0]\n",
    "        dprods = { 'encaja':[], 'no cabe':[], 'sobra':[] }\n",
    "        for p in productos:\n",
    "            dprods[cajapivot.empaquetable(p)].append(p)\n",
    "        prodEncaja = dprods['encaja'][0]\n",
    "        cajasPequeñas = []\n",
    "        cajasIguales = []\n",
    "        cajasGrandes = []\n",
    "        for c in cajas:\n",
    "            if c.empaquetable(prodEncaja) == 'sobra':\n",
    "                cajasGrandes.append(c)\n",
    "            elif c.empaquetable(prodEncaja) == 'encaja':\n",
    "                cajasIguales.append(c)\n",
    "            else:\n",
    "                cajasPequeñas.append(c)\n",
    "        rcajas.extend(cajasIguales)\n",
    "        rprod.extend(dprods['encaja'])\n",
    "        l1,l2 = emparejar_DyV(cajasGrandes, dprods['no cabe'])\n",
    "        rcajas.extend(l1)\n",
    "        rprod.extend(l2)\n",
    "        l3, l4 = emparejar_DyV(cajasPequeñas, dprods['sobra'])\n",
    "        rcajas.extend(l3)\n",
    "        rprod.extend(l4)\n",
    "            \n",
    "    return rcajas, rprod\n"
   ]
  },
  {
   "cell_type": "code",
   "execution_count": 34,
   "metadata": {},
   "outputs": [
    {
     "name": "stdout",
     "output_type": "stream",
     "text": [
      "CPU times: total: 203 ms\n",
      "Wall time: 210 ms\n"
     ]
    },
    {
     "data": {
      "text/plain": [
       "True"
      ]
     },
     "execution_count": 34,
     "metadata": {},
     "output_type": "execute_result"
    }
   ],
   "source": [
    "%%time\n",
    "cajas, productos = genera_desordenado(10_000)\n",
    "rcajas, rprods = emparejar_DyV(cajas, productos)\n",
    "podemos_empaquetar(rcajas, rprods)"
   ]
  },
  {
   "cell_type": "markdown",
   "metadata": {},
   "source": [
    "Si el código es correcto deberá devolver `True`. Además pondrá el tiempo de ejecución. En mi ordenador ha dado la siguiente salida:\n",
    "\n",
    "```\n",
    "CPU times: user 117 ms, sys: 2 µs, total: 117 ms\n",
    "Wall time: 117 ms\n",
    "\n",
    "True\n",
    "```\n",
    "\n",
    "¿Cuántas veces más rápido resulta que la fuerza bruta?\n",
    "\n",
    "No obstante, puesto que ambos algoritmos tienen un coste asintótico diferente, ese ratio crecerá más y más a medida que aumentemos la talla del problema.\n",
    "\n",
    "> El que tenga interés y ganas (¡ojo, no se evalúa!) puede probar con diversas tallas de vector para ver la tendencia de ambos algoritmos.\n"
   ]
  }
 ],
 "metadata": {
  "kernelspec": {
   "display_name": "Python 3 (ipykernel)",
   "language": "python",
   "name": "python3"
  },
  "language_info": {
   "codemirror_mode": {
    "name": "ipython",
    "version": 3
   },
   "file_extension": ".py",
   "mimetype": "text/x-python",
   "name": "python",
   "nbconvert_exporter": "python",
   "pygments_lexer": "ipython3",
   "version": "3.11.2"
  }
 },
 "nbformat": 4,
 "nbformat_minor": 2
}
