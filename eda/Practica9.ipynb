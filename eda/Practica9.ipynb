{
 "cells": [
  {
   "cell_type": "markdown",
   "metadata": {},
   "source": [
    "<h1 align=\"center\">Práctica 9. El modelo \"Map Reduce\"</h1>\n",
    "<h3 style=\"display:block; margin-top:5px;\" align=\"center\">Estructuras de datos</h3>\n",
    "<h3 style=\"display:block; margin-top:5px;\" align=\"center\">Grado en Ciencia de Datos</h3>\n",
    "<h3 style=\"display:block; margin-top:5px;\" align=\"center\">2023-2024</h3>    \n",
    "<h3 style=\"display:block; margin-top:5px;\" align=\"center\">Universitat Politècnica de València</h3>\n",
    "<br>"
   ]
  },
  {
   "cell_type": "markdown",
   "metadata": {},
   "source": [
    "**Pon/poned aquí tú/vuestros nombre(s):**\n",
    "- Pablo Pertusa Canales"
   ]
  },
  {
   "cell_type": "markdown",
   "metadata": {},
   "source": [
    "## Índice\n",
    "1. ### [Introducción: Objetivos de la práctica](#intro)\n",
    "1. ### [Actividad 1: Emparejando, *una vez más*, tuercas y tornillos...](#act1)\n",
    "1. ### [Actividad 2: Sumar la lluvia de cada mes...](#act2)"
   ]
  },
  {
   "cell_type": "markdown",
   "metadata": {},
   "source": [
    "<a id='intro'></a>\n",
    "## Introducción: Objetivos de la práctica\n",
    "\n",
    "El objetivo de esta práctica consiste en familiarizarse con el modelo de programación *Map Reduce*. No pretende mostrar que sea más eficiente a nivel temporal porque no vamos a paralelizar la ejecución.\n",
    "\n",
    "Tampoco es objetivo de esta práctica aprender a utilizar un *framework* concreto ni medir el coste de las comunicaciones involucradas en el proceso (resulta interesante ver cómo, por ejemplo, para la multiplicación de matrices, hay soluciones con un menor coste en comunicaciones que otras, como se explica en [este libro](http://www.mmds.org/)).\n",
    "\n",
    "Para ello, vamos a realizar varias actividades. En todas ellas deberás crear una clase que herede de `MapReduce` que mostramos a continuación y que es idéntico al visto en clase de teoría (con lo que dispones de varios ejemplos de uso de la misma):"
   ]
  },
  {
   "cell_type": "code",
   "execution_count": 10,
   "metadata": {},
   "outputs": [],
   "source": [
    "import collections\n",
    "\n",
    "class MapReduce:\n",
    "    def __call__(self, inputdata):\n",
    "        map_responses = collections.defaultdict(list)\n",
    "        for (k1,v1) in inputdata:\n",
    "            for (k2,v2) in self.mapper(k1,v1):\n",
    "                map_responses[k2].append(v2)\n",
    "        reduce_responses = collections.defaultdict(list)\n",
    "        for k2,listv2 in map_responses.items():\n",
    "            for v2 in self.reducer(k2,listv2):\n",
    "                reduce_responses[k2].append(v2)\n",
    "        return reduce_responses"
   ]
  },
  {
   "cell_type": "markdown",
   "metadata": {},
   "source": [
    "<a id='act1'></a>\n",
    "## Actividad 1: Emparejando, *una vez más*, tuercas y tornillos...\n",
    "\n",
    "En este caso no hace falta que tengamos una clase `Tuerca` y otra `Tornillo`. Simplemente vamos a representarlos como tuplas con la cadena `'Tuerca'` o `'Tornillo'` y un radio que será un número entero entre 50 y 70.\n",
    "\n",
    "Una tuerca se puede emparejar con un tornillo si ambos tienen el mismo radio.\n",
    "\n",
    "Los datos de entrada son una lista totalmente desordenada de tuercas y tornillos:"
   ]
  },
  {
   "cell_type": "code",
   "execution_count": 11,
   "metadata": {},
   "outputs": [
    {
     "name": "stdout",
     "output_type": "stream",
     "text": [
      "Pretty printing has been turned ON\n"
     ]
    }
   ],
   "source": [
    "import random\n",
    "import numpy as np\n",
    "%pprint\n",
    "\n",
    "#N = 100\n",
    "#lista = [(random.choice(('Tuerca','Tornillo')), random.randint(50, 70)) for dummy in range(N)]\n",
    "lista = [('Tuerca', 50), ('Tornillo', 70), ('Tuerca', 59), ('Tuerca', 69), ('Tornillo', 63), ('Tuerca', 62), \n",
    "         ('Tuerca', 63), ('Tuerca', 59), ('Tuerca', 56), ('Tornillo', 62), ('Tuerca', 57), ('Tuerca', 60), \n",
    "         ('Tuerca', 52), ('Tornillo', 51), ('Tuerca', 69), ('Tuerca', 55), ('Tornillo', 65), ('Tuerca', 62),\n",
    "         ('Tornillo', 64), ('Tornillo', 51), ('Tornillo', 69), ('Tornillo', 60), ('Tuerca', 57), ('Tuerca', 65),\n",
    "         ('Tornillo', 70), ('Tuerca', 54), ('Tornillo', 52), ('Tornillo', 51), ('Tornillo', 63), ('Tuerca', 50),\n",
    "         ('Tuerca', 60), ('Tuerca', 64), ('Tornillo', 55), ('Tuerca', 67), ('Tornillo', 61), ('Tuerca', 51),\n",
    "         ('Tuerca', 64), ('Tornillo', 69), ('Tornillo', 61), ('Tuerca', 54), ('Tuerca', 57), ('Tuerca', 69),\n",
    "         ('Tuerca', 56), ('Tuerca', 61), ('Tuerca', 51), ('Tornillo', 62), ('Tornillo', 69), ('Tuerca', 51),\n",
    "         ('Tornillo', 68), ('Tuerca', 55), ('Tornillo', 61), ('Tuerca', 55), ('Tornillo', 60), ('Tuerca', 66),\n",
    "         ('Tuerca', 66), ('Tuerca', 61), ('Tuerca', 66), ('Tornillo', 70), ('Tuerca', 59), ('Tuerca', 53), \n",
    "         ('Tornillo', 68), ('Tuerca', 56), ('Tuerca', 67), ('Tuerca', 64), ('Tornillo', 69), ('Tuerca', 62),\n",
    "         ('Tuerca', 64), ('Tuerca', 53), ('Tornillo', 62), ('Tornillo', 67), ('Tuerca', 58), ('Tuerca', 68),\n",
    "         ('Tuerca', 51), ('Tornillo', 65), ('Tuerca', 50), ('Tuerca', 56), ('Tornillo', 67), ('Tornillo', 66), \n",
    "         ('Tornillo', 55), ('Tornillo', 63), ('Tornillo', 63), ('Tornillo', 67), ('Tornillo', 70), \n",
    "         ('Tornillo', 50), ('Tornillo', 68), ('Tuerca', 70), ('Tornillo', 51), ('Tornillo', 56), ('Tuerca', 64),\n",
    "         ('Tuerca', 55), ('Tornillo', 59), ('Tornillo', 69), ('Tuerca', 60), ('Tuerca', 63), ('Tuerca', 54),\n",
    "         ('Tuerca', 53), ('Tuerca', 61), ('Tuerca', 69), ('Tuerca', 54), ('Tuerca', 66)]"
   ]
  },
  {
   "cell_type": "markdown",
   "metadata": {},
   "source": [
    "El objetivo consiste en crear una clase `EmparejarTT` que herede de `MapReduce` de manera que podamos hacer:\n",
    "\n",
    "```python\n",
    "emparejador = EmparejarTT()\n",
    "resultado = emparejador(lista)\n",
    "...\n",
    "```\n",
    "De modo que produzca como resultado un diccionario que asocie a cada radio visto en los datos de entrada una tupla con el número de tuercas y de tornillos que han aparecido, respectivamente. Para el ejemplo de arriba el resultado sería:\n",
    "\n",
    "```python\n",
    "defaultdict(<class 'list'>,\n",
    "            {50: [(3, 1)], 70: [(1, 4)], 59: [(3, 1)],\n",
    "             69: [(4, 5)], 63: [(2, 4)], 62: [(3, 3)],\n",
    "             56: [(4, 1)], 57: [(3, 0)], 60: [(3, 2)],\n",
    "             52: [(1, 1)], 51: [(4, 4)], 55: [(4, 2)],\n",
    "             65: [(1, 2)], 64: [(5, 1)], 54: [(4, 0)],\n",
    "             67: [(2, 3)], 61: [(3, 3)], 68: [(1, 3)],\n",
    "             66: [(4, 1)], 53: [(3, 0)], 58: [(1, 0)]})\n",
    "```\n",
    "\n",
    "Tras un post-proceso (**posterior a la llamada** a la parte *map-reduce*), debes imprimir el siguiente resultado:\n",
    "\n",
    "```\n",
    "Hay 31 tuercas y tornillos emparejados\n",
    "Han quedado 10 tornillos sin emparejar\n",
    "Han quedado 28 tuercas sin emparejar\n",
    "```\n",
    "\n",
    "Para saber el nº de tuercas y tornillos emparejados y de tuercas y tornillos sin emparejar has de procesar los de cada radio y luego sumar los de cada tipo de todos los radios."
   ]
  },
  {
   "cell_type": "code",
   "execution_count": 12,
   "metadata": {},
   "outputs": [
    {
     "name": "stdout",
     "output_type": "stream",
     "text": [
      "Hay 31 tuercas y tornillos emparejados\n",
      "Han quedado 10 tornillos sin emparejar\n",
      "Han quedado 28 tuercas sin emparejar\n"
     ]
    }
   ],
   "source": [
    "class EmparejarTT(MapReduce):\n",
    "    # COMPLETAR\n",
    "    def mapper(self, t, radio):\n",
    "        if t == 'Tuerca':\n",
    "            yield (radio, (1,0))\n",
    "        else:\n",
    "            yield (radio, (0,1))\n",
    "    \n",
    "    def reducer(self, radio, lista):\n",
    "        yield tuple(sum(x) for x in zip(*lista))\n",
    "\n",
    "# COMPLETAR la llamada a un objeto de tipo EmparejarTT y el posproceso\n",
    "# del diccionario devuelto para poder imprimir lo siguiente:\n",
    "emparejador = EmparejarTT()\n",
    "resultado = emparejador(lista)\n",
    "\n",
    "emparejados = 0\n",
    "tornsueltos = 0\n",
    "tuersueltas = 0\n",
    "\n",
    "for radio, lista in resultado.items():\n",
    "    nTuer, nTor = lista[0]\n",
    "    emparejados += min(nTuer, nTor)\n",
    "    if nTuer > nTor:\n",
    "        tuersueltas += nTuer - nTor\n",
    "    elif nTuer < nTor:\n",
    "        tornsueltos += nTor - nTuer\n",
    "    \n",
    "print(f'Hay {emparejados} tuercas y tornillos emparejados')\n",
    "print(f'Han quedado {tornsueltos} tornillos sin emparejar')\n",
    "print(f'Han quedado {tuersueltas} tuercas sin emparejar')"
   ]
  },
  {
   "cell_type": "markdown",
   "metadata": {},
   "source": [
    "<a id='act2'></a>\n",
    "## Actividad 2: Sumar la lluvia de cada mes...\n",
    "\n",
    "En esta actividad debes procesar el resultado de un fichero `'lluvias.txt'` que hemos dejado adjunto en la carpeta de la práctica. Este fichero contiene, en cada línea, el año, el mes, el día y el número de litros de lluvia que cayeron en esa fecha (en un lugar concreto, se entiende). Tiene el siguiente aspecto:\n",
    "\n",
    "```\n",
    "2007  1  1 0.00\n",
    "2007  1  2 0.00\n",
    "2007  1  3 0.00\n",
    "2007  1  4 0.00\n",
    "2007  1  5 153.00\n",
    "...\n",
    "2011 12 26 97.00\n",
    "2011 12 27 0.00\n",
    "2011 12 28 0.00\n",
    "2011 12 29 0.00\n",
    "2011 12 30 0.00\n",
    "2011 12 31 0.00\n",
    "```\n",
    "\n",
    "Y contiene las lluvias de cada día entre los años 2007 y 2011 inclusive.\n",
    "\n",
    "El objetivo de esta actividad consiste en utilizar el modelo *Map Reduce* para localizar lo que ha llovido en cada uno de los 12 meses **del año elegido como parámetro**, por ejemplo:\n",
    "\n",
    "```python\n",
    "with open('lluvias.txt') as f:\n",
    "    agr = AgregarLluvias(2009)\n",
    "    resul = agr(enumerate(f)) # enumerate para que ponga una clave a cada línea\n",
    "    print(resul)\n",
    "```\n",
    "\n",
    "El resultado, para 2009, sería:\n",
    "\n",
    "```\n",
    "defaultdict(<class 'list'>,\n",
    "            {1: [1088.0],  2: [ 748.0],  3: [ 884.0],  4: [1034.0],\n",
    "             5: [ 918.0],  6: [ 764.0],  7: [1700.0],  8: [1366.0],\n",
    "             9: [ 886.0], 10: [1453.0], 11: [ 885.0], 12: [1475.0]})\n",
    "```\n",
    "\n",
    "A continuación debes añadir código para mostrar (en general, no sólo para 2009 del ejemplo):\n",
    "\n",
    "```\n",
    "El mes que más ha llovido ha sido el 7 con un total de 1700.0 litros\n",
    "El mes que menos ha llovido ha sido el 2 con un total de 748.0 litros\n",
    "```\n",
    "\n",
    "Prueba a cambiar 2009 por otro año entre 2007 y 2011. Por ejemplo, para 2011:\n",
    "\n",
    "```python\n",
    "defaultdict(<class 'list'>,\n",
    "            {1: [1172.0],  2: [ 436.0],  3: [1560.0],  4: [736.0 ],\n",
    "             5: [1135.0],  6: [1292.0],  7: [ 281.0],  8: [1244.0],\n",
    "             9: [ 616.0], 10: [ 922.0], 11: [1221.0], 12: [1018.0]})\n",
    "```\n",
    "\n",
    "y\n",
    "\n",
    "```\n",
    "El mes que más ha llovido ha sido el 3 con un total de 1560.0 litros\n",
    "El mes que menos ha llovido ha sido el 7 con un total de 281.0 litros\n",
    "```"
   ]
  },
  {
   "cell_type": "code",
   "execution_count": 39,
   "metadata": {},
   "outputs": [
    {
     "name": "stdout",
     "output_type": "stream",
     "text": [
      "defaultdict(<class 'list'>, {1: [1172.0], 2: [436.0], 3: [1560.0], 4: [736.0], 5: [1135.0], 6: [1292.0], 7: [281.0], 8: [1244.0], 9: [616.0], 10: [922.0], 11: [1221.0], 12: [1018.0]})\n",
      "El mes que más ha llovido es 3 con un total de 1560.0 litros\n",
      "El mes que menos ha llovido es 7 con un total de 281.0 litros\n"
     ]
    }
   ],
   "source": [
    "class AgregarLluvias(MapReduce):\n",
    "    def __init__(self, anyo):\n",
    "        self.anyo = anyo\n",
    "    def mapper(self, indice, texto):\n",
    "        lista = texto.replace('\\n','').split()\n",
    "        if int(lista[0]) == self.anyo:\n",
    "            yield int(lista[1]), float(lista[3])\n",
    "    def reducer(self, mes, lista):\n",
    "        yield sum(lista)\n",
    "        \n",
    "    \n",
    "# COMPLETAR crear objeto de tipo AgregarLLuvias, abrir fichero,\n",
    "# llamar al objeto y realizar un postproceso del diccionario\n",
    "# devuelto apra mostrar el més que más y que menos ha llovido.\n",
    "        \n",
    "with open('lluvias.txt', 'r') as f:\n",
    "    agr = AgregarLluvias(2011)\n",
    "    resul = agr(enumerate(f))\n",
    "    print(resul)\n",
    "\n",
    "    maximoN = 0\n",
    "    maximoMes = 0\n",
    "    \n",
    "    for mes, n in resul.items():\n",
    "        n = n[0]\n",
    "        if n > maximoN:\n",
    "            maximoN = n\n",
    "            maximoMes = mes\n",
    "    \n",
    "    minimoMes = 0\n",
    "    minimoN = maximoN\n",
    "    \n",
    "    for mes,n in resul.items():\n",
    "        n = n[0]\n",
    "        if n < minimoN:\n",
    "            minimoMes = mes\n",
    "            minimoN = n\n",
    "\n",
    "    print(f'El mes que más ha llovido es {maximoMes} con un total de {maximoN} litros')\n",
    "    print(f'El mes que menos ha llovido es {minimoMes} con un total de {minimoN} litros')\n",
    "\n"
   ]
  },
  {
   "cell_type": "code",
   "execution_count": null,
   "metadata": {},
   "outputs": [],
   "source": []
  }
 ],
 "metadata": {
  "kernelspec": {
   "display_name": "Python 3 (ipykernel)",
   "language": "python",
   "name": "python3"
  },
  "language_info": {
   "codemirror_mode": {
    "name": "ipython",
    "version": 3
   },
   "file_extension": ".py",
   "mimetype": "text/x-python",
   "name": "python",
   "nbconvert_exporter": "python",
   "pygments_lexer": "ipython3",
   "version": "3.11.2"
  }
 },
 "nbformat": 4,
 "nbformat_minor": 2
}
