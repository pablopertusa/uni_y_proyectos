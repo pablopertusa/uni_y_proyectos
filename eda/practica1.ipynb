{
 "cells": [
  {
   "attachments": {},
   "cell_type": "markdown",
   "metadata": {},
   "source": [
    "\n",
    "<h1 align=\"center\">Práctica 1. Expresiones regulares</h1>\n",
    "<h3 style=\"display:block; margin-top:5px;\" align=\"center\">Estructuras de datos</h3>\n",
    "<h3 style=\"display:block; margin-top:5px;\" align=\"center\">Grado en Ciencia de Datos</h3>\n",
    "<h3 style=\"display:block; margin-top:5px;\" align=\"center\">2023-2024</h3>    \n",
    "<h3 style=\"display:block; margin-top:5px;\" align=\"center\">Universitat Politècnica de València</h3>\n",
    "<br>"
   ]
  },
  {
   "attachments": {},
   "cell_type": "markdown",
   "metadata": {},
   "source": [
    "**Pon/poned aquí tú/vuestros nombre(s):**\n",
    "- Pablo (papa de artem)\n",
    "- artem (hijo de pablo)"
   ]
  },
  {
   "attachments": {},
   "cell_type": "markdown",
   "metadata": {},
   "source": [
    "## Índice\n",
    "1. ### [Material de estudio](#material_de_estudio)\n",
    "1. ### [Actividad 1: Algunos ejercicios cortitos para practicar](#act1)\n",
    "1. ### [Actividad 2: Cargar un fichero (`quijote_latin1.txt`) proporcionando un *encoding*](#act2)\n",
    "1. ### [Actividad 3: Contar el número de adverbios -mente](#act3)\n",
    "1. ### [Actividad 4: Contar preposiciones](#act4)\n",
    "1. ### [Actividad 5: Palabras por su longitud](#act5)\n",
    "1. ### [Actividad 6: ¿Quién lo ha dicho?](#act6)\n",
    "1. ### [Actividad 7: Listar el número de los capítulos con sus títulos](#act7)\n",
    "\n"
   ]
  },
  {
   "attachments": {},
   "cell_type": "markdown",
   "metadata": {},
   "source": [
    "<a id='material_de_estudio'></a>\n",
    "## Material de estudio:\n",
    "\n",
    "Recuerda que es **muy importante** estudiar el material de estudio que os hemos proporcionado en un boletín en pdf."
   ]
  },
  {
   "attachments": {},
   "cell_type": "markdown",
   "metadata": {},
   "source": [
    "<a id='act1'></a>\n",
    "## Actividad 1: Algunos ejercicios cortitos para practicar\n",
    "\n",
    "En esta primera actividad vamos a ralizar diversos ejercicios sencillos para practicar los diversos puntos vistos en el boletín pdf adjunto:"
   ]
  },
  {
   "attachments": {},
   "cell_type": "markdown",
   "metadata": {},
   "source": [
    "###  Actividad 1.1\n",
    "\n",
    "Dada una cadena que contiene palabras y números separados por varios espacios, como la siguiente:\n",
    "\n",
    "```python\n",
    "txt = \"hola 123  esto es una prueba   45678   un tercer fragmento    20304050   \"\n",
    "```\n",
    "\n",
    "Se pide, utilizando expresiones regulares:\n",
    "\n",
    "- Encuentra todas las secuencias de dígitos consecutivas.\n",
    "\n",
    "  Para el ejemplo anterior, la salida resultante sería:\n",
    "   \n",
    "  ```python\n",
    "  ['123', '45678', '20304050']\n",
    "  ```\n",
    "\n",
    "\n",
    "- Separar todos los trozos de texto separados por una secuencia consecutiva de dígitos que puede estar **rodeado, opcionalmente, un número variable (de 0 o más) caracteres de tipo espacio**:\n",
    "\n",
    "  Para el ejemplo anterior, la salida resultante sería:\n",
    "   \n",
    "  ```python\n",
    "  ['hola', 'esto es una prueba', 'un tercer fragmento', '']\n",
    "  ```\n",
    "  \n",
    "  >**Nota:** Observa que hay una cadena vacía al final de la lista, esto indica que la cadena ha terminado con algo que hacía matching con el separador.\n",
    "  \n",
    "- Separa los trozos de texto como en el punto anterior pero recopila también las secuencias de dígitos que los han separado.\n",
    "\n",
    "  Para el ejemplo anterior, la salida resultante sería:\n",
    "   \n",
    "  ```python\n",
    "  ['hola', '123', 'esto es una prueba', '45678', 'un tercer fragmento',\n",
    "  '20304050', '']\n",
    "  ```\n",
    "  \n",
    "  > **Pista:** Si estás utilizando `re.split` y agrupas con paréntesis parte de la expresión regular, esa parte se intercala con los trozos separados en la lista resultante.\n"
   ]
  },
  {
   "cell_type": "code",
   "execution_count": 14,
   "metadata": {},
   "outputs": [
    {
     "name": "stdout",
     "output_type": "stream",
     "text": [
      "['123', '45678', '20304050']\n",
      "['hola', 'esto es una prueba', 'un tercer fragmento', '']\n"
     ]
    },
    {
     "data": {
      "text/plain": [
       "['hola',\n",
       " '123',\n",
       " 'esto es una prueba',\n",
       " '45678',\n",
       " 'un tercer fragmento',\n",
       " '20304050',\n",
       " '']"
      ]
     },
     "execution_count": 14,
     "metadata": {},
     "output_type": "execute_result"
    }
   ],
   "source": [
    "import re\n",
    "\n",
    "txt = \"hola 123    esto es una prueba     45678   un tercer fragmento    20304050   \"\n",
    "\n",
    "print(re.findall(r'\\d+', txt))\n",
    "print(re.split(r'\\s*\\d+\\s*', txt))\n",
    "re.split(r'\\s*(\\d+)\\s*', txt)"
   ]
  },
  {
   "attachments": {},
   "cell_type": "markdown",
   "metadata": {},
   "source": [
    "### Actividad 1.2\n",
    "\n",
    "Obtén todas las **palabras** formadas por letras latinas en minúscula (es decir, entre la `a` y la `z`, inclusive) que tengan una longitud de 2 a 4 letras. Para el ejemplo anterior el resultado sería:\n",
    "\n",
    " \n",
    "```python\n",
    "['hola', 'esto', 'es', 'una', 'un']\n",
    "```\n",
    "\n",
    "> **Nota:** Recuerda que el metacarácter `\\b` representa un límite (inicio o final) de una palabra.\n"
   ]
  },
  {
   "cell_type": "code",
   "execution_count": 15,
   "metadata": {},
   "outputs": [
    {
     "data": {
      "text/plain": [
       "['hola', 'esto', 'es', 'una', 'un']"
      ]
     },
     "execution_count": 15,
     "metadata": {},
     "output_type": "execute_result"
    }
   ],
   "source": [
    "re.findall(r'\\b[a-z]{2,4}\\b', txt)"
   ]
  },
  {
   "attachments": {},
   "cell_type": "markdown",
   "metadata": {},
   "source": [
    "### Actividad 1.3\n",
    "\n",
    "Dado el siguiente texto:\n",
    "\n",
    "```python\n",
    "txt = \"\"\"\n",
    "El Dr. Smith dijo a la Dra. Warren que indicase el número de recetas emitidas.\n",
    "Más tarde, la Dra Warren reenvió el pedido al Dr.   Thomson.\n",
    "El Dr. Thomson contestó directamente al Dr    Smith y puso en copia\n",
    "a la Dra Watson.\n",
    "\"\"\"\n",
    "```\n",
    "\n",
    "Obtén el nombre de todos los Dr. y Dra. del documento. Debemos suponer que \"Dr\" y \"Dra\" pueden llevar o no un punto (se permite no ponerlo) y que, tras un número de al menos un espacio, viene el nombre todo junto (no lleva espacios).\n",
    "\n",
    "Para el ejemplo anterior, el resultado sería:\n",
    "\n",
    " \n",
    "```python\n",
    "['Smith', 'Warren', 'Warren', 'Thomson', 'Thomson', 'Smith', 'Watson']\n",
    "```"
   ]
  },
  {
   "cell_type": "code",
   "execution_count": 16,
   "metadata": {},
   "outputs": [
    {
     "data": {
      "text/plain": [
       "['Smith', 'Warren', 'Warren', 'Thomson', 'Thomson', 'Smith', 'Watson']"
      ]
     },
     "execution_count": 16,
     "metadata": {},
     "output_type": "execute_result"
    }
   ],
   "source": [
    "txt = \"\"\"\n",
    "El Dr. Smith dijo a la Dra. Warren que indicase el número de recetas emitidas.\n",
    "Más tarde, la Dra Warren reenvió el pedido al Dr.   Thomson.\n",
    "El Dr. Thomson contestó directamente al Dr    Smith y puso en copia\n",
    "a la Dra Watson.\n",
    "\"\"\"\n",
    "\n",
    "re.findall(r'Dra?.?\\s+(\\w+)', txt)"
   ]
  },
  {
   "attachments": {},
   "cell_type": "markdown",
   "metadata": {},
   "source": [
    "<a id='act2'></a>\n",
    "## Actividad 2: Cargar un fichero (`quijote_latin1.txt`) proporcionando un *encoding*\n",
    "\n",
    "Junto a este Jupyter Notebook deberás haberte bajado el fichero `'quijote_latin1.txt'` que hemos dejado en la página de la práctica.\n",
    "\n",
    "Este fichero se encuentra guardado utilizando la codificación `'latin-1'`, también conocida como `'ISO 8859-1'` (ver el [siguiente enlace de Wikipedia](https://es.wikipedia.org/wiki/ISO/IEC_8859-1)).\n",
    "\n",
    "Debes leer dicho fichero en modo texto, guardando todo su contenido en una variable Python llamada `q`.\n",
    "\n",
    "Como `q` es una cadena **muy larga**, te aconsejamos imprimir, en su lugar, su longitud. Si todo ha ido bien, el comando:\n",
    "\n",
    "```\n",
    "len(q)\n",
    "```\n",
    "\n",
    "mostrará el valor 2117491"
   ]
  },
  {
   "cell_type": "code",
   "execution_count": 17,
   "metadata": {},
   "outputs": [
    {
     "data": {
      "text/plain": [
       "2117491"
      ]
     },
     "execution_count": 17,
     "metadata": {},
     "output_type": "execute_result"
    }
   ],
   "source": [
    "q = open('quijote_latin1.txt','r', encoding='latin-1').read()\n",
    "\n",
    "len(q)"
   ]
  },
  {
   "attachments": {},
   "cell_type": "markdown",
   "metadata": {},
   "source": [
    "<a id='act3'></a>\n",
    "## Actividad 3: contar el número de adverbios -mente\n",
    "\n",
    "Observa que hemos importado la biblioteca `re`.\n",
    "\n",
    "La siguiente actividad consiste en contar el número de palabras que aparecen en el texto del Quijote (variable `q`) que sean palabras que terminen en `mente` exceptuando la propia palabra `mente`. Para ello:\n",
    "\n",
    "- Consideraremos que las palabras contienen símbolos del metacarácter `\\w`.\n",
    "- Recuerda que el metacarácter `\\b` representa un límite (inicio o final) de una palabra.\n",
    "\n",
    "Más concretamente:\n",
    "\n",
    " - en la variable `adverbios` debes dejar la lista de las palabras encontradas\n",
    " - en la variable `ocurrencias_mente` debes dejar el número total de palabras encontradas en la lista del apartado anterior.\n",
    " - en la variable `distintas_mente`debe contener el número de palabras diferentes encontradas en la lista del primer apartado.\n",
    " \n",
    "Si imprimes el valor de las 2 últimas variables podrías obtener un mensaje como el siguiente:\n",
    "\n",
    "```\n",
    "Hay 733 ocurrencias\n",
    "Hay 196 palabras diferentes\n",
    "```"
   ]
  },
  {
   "cell_type": "code",
   "execution_count": 18,
   "metadata": {
    "scrolled": true
   },
   "outputs": [
    {
     "name": "stdout",
     "output_type": "stream",
     "text": [
      "hay 733 ocurrencias\n",
      "hay 196 palabras diferentes\n"
     ]
    }
   ],
   "source": [
    "adverbios = re.findall(r'\\w+mente\\b', q)\n",
    "ocurrencias_mente = adverbios.__len__()\n",
    "distintas_mente = len(set(adverbios))\n",
    "print(f'hay {ocurrencias_mente} ocurrencias')\n",
    "print(f'hay {distintas_mente} palabras diferentes')"
   ]
  },
  {
   "attachments": {},
   "cell_type": "markdown",
   "metadata": {},
   "source": [
    "<a id='act4'></a>\n",
    "## Actividad 4: localizar preposiciones\n",
    "\n",
    "La siguiente lista contiene las preposiciones del Castellano:"
   ]
  },
  {
   "cell_type": "code",
   "execution_count": 19,
   "metadata": {},
   "outputs": [],
   "source": [
    "preposiciones = ['a', 'ante', 'bajo', 'cabe', 'con', 'contra', 'de', 'desde', 'durante',\n",
    "                 'en', 'entre', 'hacia', 'hasta', 'mediante', 'para', 'por', 'según', \n",
    "                 'sin', 'so', 'sobre', 'tras', 'versus', 'vía']"
   ]
  },
  {
   "attachments": {},
   "cell_type": "markdown",
   "metadata": {},
   "source": [
    "Vamos a buscar todas las ocurrencias de dichas preposiciones en la variable `q`. En lugar de ir buscándolas de una en una, debes de crear una expresión regular de manera \"programática\". Es decir, en lugar de construir la expresión regular a mano, utiliza Python para crear esa expresión a partir de la lista `preposiciones` que os hemos proporcionado.\n",
    "\n",
    "El objetivo es dejar en la variable `las_prep` todas las preposiciones que han aparecido.\n",
    "\n",
    "Se aconseja:\n",
    "\n",
    "- Utilizar la disyunción `|` para separar la lista de palabras a reconocer.\n",
    "- Detectar bien el inicio y fin de palabras para que, por ejemplo, la palabra `dedo` no cause una falsa aparición de la preposición `de`.\n",
    "- Pasarle a la función `re.findall` la opción `flags=re.IGNORECASE` para que ignore las mayúsculas y minúsculas, ya que podría darse el caso de preposiciones en mayúscula. Ten en cuenta que utilizar este *flag* hará que se localicen ocurrencias como `Sin` y `sin`. Es decir, que se ignora mayúsculas/minúsculas durante el *matching* pero no al reportar los resultados.\n",
    "\n",
    "Normalmente, ejecutar al final:\n",
    "\n",
    "```\n",
    "len(las_prep)\n",
    "```\n",
    "\n",
    "da como resultado el valor 49027"
   ]
  },
  {
   "cell_type": "code",
   "execution_count": 20,
   "metadata": {},
   "outputs": [
    {
     "data": {
      "text/plain": [
       "49027"
      ]
     },
     "execution_count": 20,
     "metadata": {},
     "output_type": "execute_result"
    }
   ],
   "source": [
    "las_prep = re.findall(r'\\ba\\b|\\bante\\b|\\bbajo\\b|\\bcabe\\b|\\bcon\\b|\\bcontra\\b|\\bde\\b|\\bdesde\\b|\\bdurante\\b|\\ben\\b|\\bentre\\b|\\bhacia\\b|\\bhasta\\b|\\bmediante\\b|\\bpara\\b|\\bpor\\b|\\bsegún\\b|\\bsin\\b|\\bso\\b|\\bsobre\\b|\\btras\\b|\\bversus\\b|\\bvía\\b', q, re.IGNORECASE)\n",
    "len(las_prep)"
   ]
  },
  {
   "attachments": {},
   "cell_type": "markdown",
   "metadata": {},
   "source": [
    "Ahora queremos saber cuántas veces ha aparecido cada preposición ignorando si estaba en mayúscula o en minúscula. Es decir, que `sin` y `Sin` deben contar como la misma preposición. Para ello vamos a importar la biblioteca estándar:\n",
    "\n",
    "```\n",
    "from collections import Counter\n",
    "```\n",
    "\n",
    "y luego puedes hacer:\n",
    "\n",
    "```\n",
    "Counter(palabra.lower() for palabra in las_prep)\n",
    "```\n",
    "\n",
    "Es decir, al constructor `Counter` le estamos pasando un *iterador* que aplica el método `lower()` de la clase `str` a cada uno de los ítems de la lista `las_prep`.\n",
    "\n",
    "A partir de ahí, debes ingeniártelas para mostrar la lista de preposiciones que hayan aparecido 1000 o más veces:\n",
    "\n",
    "```\n",
    "de\n",
    "en\n",
    "por\n",
    "a\n",
    "para\n",
    "sin\n",
    "con\n",
    "```\n",
    "\n",
    "Para ello, ten en cuenta que `Counter` funciona como un diccionario y, como tal, tiene un método `items()` que va devolviendo pares `(clave, valor)`."
   ]
  },
  {
   "cell_type": "code",
   "execution_count": 21,
   "metadata": {},
   "outputs": [
    {
     "data": {
      "text/plain": [
       "['de', 'en', 'por', 'a', 'para', 'sin', 'con']"
      ]
     },
     "execution_count": 21,
     "metadata": {},
     "output_type": "execute_result"
    }
   ],
   "source": [
    "from collections import Counter\n",
    "\n",
    "pares  = Counter(palabra.lower() for palabra in las_prep).items()\n",
    "masDe1000 = []\n",
    "for prep, num in pares:\n",
    "    if num >= 1000:\n",
    "        masDe1000.append(prep)\n",
    "masDe1000"
   ]
  },
  {
   "attachments": {},
   "cell_type": "markdown",
   "metadata": {},
   "source": [
    "<a id='act5'></a>\n",
    "## Actividad 5: palabras por su longitud\n",
    "\n",
    "En esta actividad vamos a buscar todas las palabras de 7 letras que terminen **en vocal no acentuada**.\n",
    "\n",
    "- Se entiende por palabra aquella que esté formada por caracteres definidos en el metacarácter `\\w`.\n",
    "- No repitas varias veces `\\w` en el patrón de la expresión regular, en su lugar utiliza el `{n}`. Si no recuerdas lo que es, mira en el boletín.\n",
    "- Para ver que terminan en vocal debes utilizar un grupo `[lista]`.\n",
    "- Deja el resultado de `findall` en una variable llamada `siete_vocal`.\n",
    "\n",
    "Hay un total de 19835 palabras que cumplen esta restricción. De ellas, la palabra más repetida es 'Quijote', que aparece 2167 veces. Si quieres calcular esto, puedes utilizar la siguiente expresión:\n",
    "\n",
    "```\n",
    "max((veces,palabra) for (palabra, veces) in c.items())\n",
    "```\n",
    "\n",
    "donde  deberás haber asignado a la variable `c` un `Counter` con la lista de palabras.\n",
    "\n",
    "La función `max` recibe un *iterador* y en este caso le pasamos tuplas `(veces, palabra)`. Cuando se comparan tuplas, se compara primero por el 1er argumento, con lo que la tupla de mayor valor es la que corresponde al mayor número de repeticiones. Si hubiese un empate en dicho valor, devolvería la que tuviera la palabra lexicográficamente mayor."
   ]
  },
  {
   "cell_type": "code",
   "execution_count": 22,
   "metadata": {},
   "outputs": [
    {
     "data": {
      "text/plain": [
       "19835"
      ]
     },
     "execution_count": 22,
     "metadata": {},
     "output_type": "execute_result"
    }
   ],
   "source": [
    "siete_vocal = re.findall(r'\\b\\w{6}[aeiouAEIOU]\\b', q)\n",
    "len(siete_vocal)"
   ]
  },
  {
   "cell_type": "code",
   "execution_count": 23,
   "metadata": {},
   "outputs": [
    {
     "data": {
      "text/plain": [
       "(2167, 'Quijote')"
      ]
     },
     "execution_count": 23,
     "metadata": {},
     "output_type": "execute_result"
    }
   ],
   "source": [
    "c = Counter(siete_vocal).items()\n",
    "max((veces, palabra) for (palabra, veces) in c)"
   ]
  },
  {
   "attachments": {},
   "cell_type": "markdown",
   "metadata": {},
   "source": [
    "<a id='act6'></a>\n",
    "## Actividad 6: ¿Quién lo ha dicho?\n",
    "\n",
    "El Quijote está lleno de textos como éste:\n",
    "\n",
    "> -Este que viene -dijo el barbero- es Amadís de Grecia; y aun todos los deste lado, a lo que creo, son del mesmo linaje de Amadís.\n",
    "\n",
    "Observa que \"dijo el barbero\" aparece entre dos guiones. Vamos a localizar todas las veces que aparezca un patrón tipo `-dijo alguien-`.\n",
    "\n",
    "Debes dejar el resultado de `findall` en una variable llamada `quien_dijo`. Se trata de una lista muy larga que empieza así:\n",
    "\n",
    "```\n",
    "['-dijo don Quijote-',\n",
    " '-dijo el muchacho-',\n",
    " '-dijo el muchacho-',\n",
    " '-dijo Andrés-',\n",
    " '-dijo don Quijote-',\n",
    " ```\n",
    " \n",
    " Dependiendo de cómo se resuelva (el enunciado era un poco ambiguo) puedes obtener un número de resultados diferente:\n",
    " \n",
    " - Si tras `-dijo` consideras que sólo puede haber un espacio (literalmente `' '`) y que todo ha de estar en una misma línea, obtendrás 757 ítems.\n",
    " - Si tras `-dijo` se permite caulquier tipo de espacio (`\\s`) una sola vez o una o más veces (en ambos casos da lo mismo para este ejemplo) y que todo ha de estar en la misma línea, se obtienen 760 resultados.\n",
    " - Si consideras un espacio literal tras `-dijo` pero que el texto entre guiones se pueda romper en líneas diferentes, aparecen 870 resultados.\n",
    " - Si consideras cualquier tipo de espacio (1 o >=1 vez) y que el texto entre guiones se pueda romper en líneas diferentes, aparecen 873 resultados.\n",
    " - Si te sale un nº resultados diferente a todos los anteriores y crees que puede estar bien, ponte en contacto con el profesor para ver si se trata de algún caso razonable no contemplado en los casos anteriores.\n",
    " \n",
    "Un par de comentarios:\n",
    "\n",
    "- Cuando se permite que el texto entre `-dijo` y `-` abarcar múltiples líneas aparecen resultados que claramente son un olvido de poner el guión de cierre, con ejemplos como éste:\n",
    "\n",
    "    ```\n",
    "'-dijo don Quijote.\\n\\nY, sin esperar más respuesta, picó a Rocinante y, la lanza baja, arremetió\\ncontra el primero fraile,   ...   hablando con la señora del coche,\\ndiciéndole:\\n\\n-',\n",
    "    ```\n",
    "    \n",
    "- Si pones en tu patrón algo tipo \"[^-]+-\" en plan *cualquier cosa que no sea un guión repetido 1 o más veces y luego un guión* se incluirán los cambios de línea en ese grupo de letras, pero si pones algo tipo \"[^-\\n]+-\" será *cualquier cosa que no sea ni un guión ni un cambio de línea\". Si utilizas el metacaracter \".\" hará *matching* con cualquier caracter excepto con el cambio de línea (a no ser que se ponga el flag `re.DOTALL`)."
   ]
  },
  {
   "cell_type": "code",
   "execution_count": 24,
   "metadata": {},
   "outputs": [
    {
     "name": "stdout",
     "output_type": "stream",
     "text": [
      "['-dijo don Quijote-', '-dijo el muchacho-', '-dijo el muchacho-', '-dijo Andrés-', '-dijo don Quijote-', '-dijo Andrés-', '-dijo el labrador-', '-dijo el cura-', '-dijo a este punto el ama-', '-dijo el cura-', '-dijo la sobrina-', '-dijo el barbero-', '-dijo el cura-', '-dijo el barbero-', '-dijo el cura-', '-dijo el cura.\\n\\n-', '-dijo el barbero-', '-dijo el cura-', '-dijo el barbero.\\n\\n-', '-dijo el ama-', '-dijo el cura.\\n\\n-', '-dijo el cura-', '-dijo el barbero.\\n\\n-', '-dijo el barbero.\\n\\n-', '-dijo el cura-', '-dijo el cura-', '-dijo el barbero-', '-dijo el cura, dando una gran voz-', '-dijo el cura-', '-dijo la sobrina-', '-dijo el cura-', '-dijo el barbero-', '-dijo el barbero, abriendo otro-', '-dijo el cura-', '-dijo el cura-', '-dijo el cura-', '-dijo el barbero-', '-dijo el cura-', '-dijo el barbero.\\n\\n-', '-dijo el cura-', '-dijo el cura en oyendo el nombre-', '-dijo el cura-', '-dijo don Quijote-', '-dijo don Quijote.\\n\\n-', '-dijo don Quijote-', '-dijo la sobrina-', '-dijo Sancho Panza.\\n\\n-', '-dijo Sancho-', '-dijo Sancho-', '-dijo Sancho-', '-dijo don Quijote.\\n\\nY, sin esperar más respuesta, picó a Rocinante y, la lanza baja, arremetió\\ncontra el primero fraile, con tanta furia y denuedo que, si el fraile no se\\ndejara caer de la mula, él le hiciera venir al suelo mal de su grado, y aun\\nmalferido, si no cayera muerto. El segundo religioso, que vio del modo que\\ntrataban a su compañero, puso piernas al castillo de su buena mula, y\\ncomenzó a correr por aquella campaña, más ligero que el mesmo viento.\\n\\nSancho Panza, que vio en el suelo al fraile, apeándose ligeramente de su\\nasno, arremetió a él y le comenzó a quitar los hábitos. Llegaron en esto\\ndos mozos de los frailes y preguntáronle que por qué le desnudaba.\\nRespondióles Sancho que aquello le tocaba a él ligítimamente, como despojos\\nde la batalla que su señor don Quijote había ganado. Los mozos, que no\\nsabían de burlas, ni entendían aquello de despojos ni batallas, viendo que\\nya don Quijote estaba desviado de allí, hablando con las que en el coche\\nvenían, arremetieron con Sancho y dieron con él en el suelo; y, sin dejarle\\npelo en las barbas, le molieron a coces y le dejaron tendido en el suelo\\nsin aliento ni sentido. Y, sin detenerse un punto, tornó a subir el fraile,\\ntodo temeroso y acobardado y sin color en el rostro; y, cuando se vio a\\ncaballo, picó tras su compañero, que un buen espacio de allí le estaba\\naguardando, y esperando en qué paraba aquel sobresalto; y, sin querer\\naguardar el fin de todo aquel comenzado suceso, siguieron su camino,\\nhaciéndose más cruces que si llevaran al diablo a las espaldas.\\n\\nDon Quijote estaba, como se ha dicho, hablando con la señora del coche,\\ndiciéndole:\\n\\n-', '-dijo don Quijote-', '-dijo Sancho Panza.\\n\\n-', '-dijo Panza-', '-dijo don Quijote-', '-dijo Sancho-', '-dijo Sancho-', '-dijo Sancho-', '-dijo Sancho-', '-dijo uno.\\n\\n-', '-dijo uno-', '-dijo don Quijote.\\n\\nMas Pedro, no reparando en niñerías, prosiguió su cuento diciendo:\\n\\n-', '-dijo don Quijote.\\n\\n-', '-dijo don Quijote.\\n\\n-', '-dijo don Quijote-', '-dijo el cabrero-', '-dijo don Quijote-', '-dijo don Quijote-', '-dijo el caminante-', '-dijo el caminante-', '-dijo Vivaldo-', '-dijo Vivaldo.\\n\\nY, como todos los circunstantes tenían el mesmo deseo, se le pusieron a la\\nredonda; y él, leyendo en voz clara, vio que así decía:\\n\\n\\n\\n\\n\\nCapítulo XIV. Donde se ponen los versos desesperados del difunto pastor,\\ncon otros no esperados sucesos\\n\\n\\nCanción de Grisóstomo\\n\\n   Ya que quieres, cruel, que se publique,\\n   de lengua en lengua y de una en otra gente,\\n   del áspero rigor tuyo la fuerza,\\n   haré que el mesmo infierno comunique\\n   al triste pecho mío un son doliente,\\n   con que el uso común de mi voz tuerza.\\n   Y al par de mi deseo, que se esfuerza\\n   a decir mi dolor y tus hazañas,\\n   de la espantable voz irá el acento,\\n   y en él mezcladas, por mayor tormento,\\n   pedazos de las míseras entrañas.\\n   Escucha, pues, y presta atento oído,\\n   no al concertado son, sino al rüido\\n   que de lo hondo de mi amargo pecho,\\n   llevado de un forzoso desvarío,\\n   por gusto mío sale y tu despecho.\\n\\n   El rugir del león, del lobo fiero\\n   el temeroso aullido, el silbo horrendo\\n   de escamosa serpiente, el espantable\\n   baladro de algún monstruo, el agorero\\n   graznar de la corneja, y el estruendo\\n   del viento contrastado en mar instable;\\n   del ya vencido toro el implacable\\n   bramido, y de la viuda tortolilla\\n   el sentible arrullar; el triste canto\\n   del envidiado búho, con el llanto\\n   de toda la infernal negra cuadrilla,\\n   salgan con la doliente ánima fuera,\\n   mezclados en un son, de tal manera\\n   que se confundan los sentidos todos,\\n   pues la pena cruel que en mí se halla\\n   para contalla pide nuevos modos.\\n\\n   De tanta confusión no las arenas\\n   del padre Tajo oirán los tristes ecos,\\n   ni del famoso Betis las olivas:\\n   que allí se esparcirán mis duras penas\\n   en altos riscos y en profundos huecos,\\n   con muerta lengua y con palabras vivas;\\n   o ya en escuros valles, o en esquivas\\n   playas, desnudas de contrato humano,\\n   o adonde el sol jamás mostró su lumbre,\\n   o entre la venenosa muchedumbre\\n   de fieras que alimenta el libio llano;\\n   que, puesto que en los páramos desiertos\\n   los ecos roncos de mi mal, inciertos,\\n   suenen con tu rigor tan sin segundo,\\n   por privilegio de mis cortos hados,\\n   serán llevados por el ancho mundo.\\n\\n   Mata un desdén, atierra la paciencia,\\n   o verdadera o falsa, una sospecha;\\n   matan los celos con rigor más fuerte;\\n   desconcierta la vida larga ausencia;\\n   contra un temor de olvido no aprovecha\\n   firme esperanza de dichosa suerte.\\n   En todo hay cierta, inevitable muerte;\\n   mas yo, ¡milagro nunca visto!, vivo\\n   celoso, ausente, desdeñado y cierto\\n   de las sospechas que me tienen muerto;\\n   y en el olvido en quien mi fuego avivo,\\n   y, entre tantos tormentos, nunca alcanza\\n   mi vista a ver en sombra a la esperanza,\\n   ni yo, desesperado, la procuro;\\n   antes, por estremarme en mi querella,\\n   estar sin ella eternamente juro.\\n\\n   ¿Puédese, por ventura, en un instante\\n   esperar y temer, o es bien hacello,\\n   siendo las causas del temor más ciertas?\\n   ¿Tengo, si el duro celo está delante,\\n   de cerrar estos ojos, si he de vello\\n   por mil heridas en el alma abiertas?\\n   ¿Quién no abrirá de par en par las puertas\\n   a la desconfianza, cuando mira\\n   descubierto el desdén, y las sospechas,\\n   ¡oh amarga conversión!, verdades hechas,\\n   y la limpia verdad vuelta en mentira?\\n   ¡Oh, en el reino de amor fieros tiranos\\n   celos, ponedme un hierro en estas manos!\\n   Dame, desdén, una torcida soga.\\n   Mas, ¡ay de mí!, que, con cruel vitoria,\\n   vuestra memoria el sufrimiento ahoga.\\n\\n   Yo muero, en fin; y, porque nunca espere\\n   buen suceso en la muerte ni en la vida,\\n   pertinaz estaré en mi fantasía.\\n   Diré que va acertado el que bien quiere,\\n   y que es más libre el alma más rendida\\n   a la de amor antigua tiranía.\\n   Diré que la enemiga siempre mía\\n   hermosa el alma como el cuerpo tiene,\\n   y que su olvido de mi culpa nace,\\n   y que, en fe de los males que nos hace,\\n   amor su imperio en justa paz mantiene.\\n   Y, con esta opinión y un duro lazo,\\n   acelerando el miserable plazo\\n   a que me han conducido sus desdenes,\\n   ofreceré a los vientos cuerpo y alma,\\n   sin lauro o palma de futuros bienes.\\n\\n   Tú, que con tantas sinrazones muestras\\n   la razón que me fuerza a que la haga\\n   a la cansada vida que aborrezco,\\n   pues ya ves que te da notorias muestras\\n   esta del corazón profunda llaga,\\n   de cómo, alegre, a tu rigor me ofrezco,\\n   si, por dicha, conoces que merezco\\n   que el cielo claro de tus bellos ojos\\n   en mi muerte se turbe, no lo hagas;\\n   que no quiero que en nada satisfagas,\\n   al darte de mi alma los despojos.\\n   Antes, con risa en la ocasión funesta,\\n   descubre que el fin mío fue tu fiesta;\\n   mas gran simpleza es avisarte desto,\\n   pues sé que está tu gloria conocida\\n   en que mi vida llegue al fin tan presto.\\n\\n   Venga, que es tiempo ya, del hondo abismo\\n   Tántalo con su sed; Sísifo venga\\n   con el peso terrible de su canto;\\n   Ticio traya su buitre, y ansimismo\\n   con su rueda Egïón no se detenga,\\n   ni las hermanas que trabajan tanto;\\n   y todos juntos su mortal quebranto\\n   trasladen en mi pecho, y en voz baja\\n   -', '-dijo el molido caballero don Quijote-', '-dijo don Quijote-', '-dijo Panza-', '-dijo don Quijote-', '-dijo Sancho.\\n\\nY, despidiendo treinta ayes, y sesenta sospiros, y ciento y veinte pésetes\\ny reniegos de quien allí le había traído, se levantó, quedándose agobiado\\nen la mitad del camino, como arco turquesco, sin poder acabar de\\nenderezarse; y con todo este trabajo aparejó su asno, que también había\\nandado algo destraído con la demasiada libertad de aquel día. Levantó luego\\na Rocinante, el cual, si tuviera lengua con que quejarse, a buen seguro que\\nSancho ni su amo no le fueran en zaga.\\n\\nEn resolución, Sancho acomodó a don Quijote sobre el asno y puso de reata a\\nRocinante; y, llevando al asno de cabestro, se encaminó, poco más a menos,\\nhacia donde le pareció que podía estar el camino real. Y la suerte, que sus\\ncosas de bien en mejor iba guiando, aún no hubo andado una pequeña legua,\\ncuando le deparó el camino, en el cual descubrió una venta que, a pesar\\nsuyo y gusto de don Quijote, había de ser castillo. Porfiaba Sancho que era\\nventa, y su amo que no, sino castillo; y tanto duró la porfía, que tuvieron\\nlugar, sin acabarla, de llegar a ella, en la cual Sancho se entró, sin más\\naveriguación, con toda su recua.\\n\\n\\n\\n\\n\\nCapítulo XVI. De lo que le sucedió al ingenioso hidalgo en la venta que él\\nimaginaba ser castillo\\n\\n\\nEl ventero, que vio a don Quijote atravesado en el asno, preguntó a Sancho\\nqué mal traía. Sancho le respondió que no era nada, sino que había dado una\\ncaída de una peña abajo, y que venía algo brumadas las costillas. Tenía el\\nventero por mujer a una, no de la condición que suelen tener las de\\nsemejante trato, porque naturalmente era caritativa y se dolía de las\\ncalamidades de sus prójimos; y así, acudió luego a curar a don Quijote y\\nhizo que una hija suya, doncella, muchacha y de muy buen parecer, la\\nayudase a curar a su huésped. Servía en la venta, asimesmo, una moza\\nasturiana, ancha de cara, llana de cogote, de nariz roma, del un ojo tuerta\\ny del otro no muy sana. Verdad es que la gallardía del cuerpo suplía las\\ndemás faltas: no tenía siete palmos de los pies a la cabeza, y las\\nespaldas, que algún tanto le cargaban, la hacían mirar al suelo más de lo\\nque ella quisiera. Esta gentil moza, pues, ayudó a la doncella, y las dos\\nhicieron una muy mala cama a don Quijote en un camaranchón que, en otros\\ntiempos, daba manifiestos indicios que había servido de pajar muchos años.\\nEn la cual también alojaba un arriero, que tenía su cama hecha un poco más\\nallá de la de nuestro don Quijote. Y, aunque era de las enjalmas y mantas\\nde sus machos, hacía mucha ventaja a la de don Quijote, que sólo contenía\\ncuatro mal lisas tablas, sobre dos no muy iguales bancos, y un colchón que\\nen lo sutil parecía colcha, lleno de bodoques, que, a no mostrar que eran\\nde lana por algunas roturas, al tiento, en la dureza, semejaban de\\nguijarro, y dos sábanas hechas de cuero de adarga, y una frazada, cuyos\\nhilos, si se quisieran contar, no se perdiera uno solo de la cuenta.\\nEn esta maldita cama se acostó don Quijote, y luego la ventera y su hija le\\nemplastaron de arriba abajo, alumbrándoles Maritornes, que así se llamaba\\nla asturiana; y, como al bizmalle viese la ventera tan acardenalado a\\npartes a don Quijote, dijo que aquello más parecían golpes que caída.\\n\\n-', '-dijo Sancho-', '-dijo Sancho Panza-', '-dijo la doncella-', '-dijo la ventera-', '-dijo don Quijote-', '-dijo Sancho.\\n\\n-', '-dijo don Quijote-', '-dijo Sancho-', '-dijo Sancho-', '-dijo don Quijote-', '-dijo Sancho-', '-dijo don Quijote-', '-dijo Sancho-', '-dijo don Quijote-', '-dijo don Quijote-', '-dijo don Quijote-', '-dijo Sancho-', '-dijo don Quijote.\\n\\n-', '-dijo Sancho-', '-dijo don\\nQuijote-', '-dijo don Quijote-', '-dijo Sancho-', '-dijo don Quijote, oyendo las tristes nuevas que su\\nescudero le daba-', '-dijo don Quijote-', '-dijo don Quijote-', '-dijo Sancho-', '-dijo don Quijote-', '-dijo Sancho-', '-dijo don Quijote-', '-dijo don Quijote-', '-dijo don Quijote-', '-dijo el bachiller-', '-dijo el bachiller-', '-dijo don Quijote-', '-dijo Sancho-', '-dijo don Quijote-', '-dijo Sancho-', '-dijo don Quijote-', '-dijo don Quijote-', '-dijo don Quijote-', '-dijo don Quijote.\\n\\n-', '-dijo don Quijote-', '-dijo Sancho-', '-dijo don Quijote-', '-dijo Sancho.\\n\\n-', '-dijo don Quijote-', '-dijo Sancho.\\n\\n-', '-dijo don Quijote-', '-dijo Sancho-', '-dijo don Quijote (todo esto sin\\nquitarse los dedos de las narices)-', '-dijo don Quijote-', '-dijo Sancho-', '-dijo Sancho-', '-dijo Sancho-', '-dijo don\\nQuijote-', '-dijo don Quijote-', '-dijo don Quijote-', '-dijo don Quijote.\\n\\n-', '-dijo Sancho-', '-dijo don\\nQuijote-', '-dijo don Quijote-', '-dijo don Quijote-', '-dijo Sancho-', '-dijo Sancho-', '-dijo don Quijote.\\n\\n-', '-dijo Sancho-', '-dijo don Quijote-', '-dijo Sancho.\\n-', '-dijo su amo.\\n\\n-', '-dijo don Quijote-', '-dijo Sancho-', '-dijo don Quijote-', '-dijo Sancho-', '-dijo Sancho.\\n\\n-', '-dijo su amo-', '-dijo Sancho-', '-dijo el galeote-', '-dijo don Quijote-', '-dijo el galeote-', '-dijo don Quijote.\\n\\nMas una de las guardas le dijo:\\n\\n-', '-dijo don Quijote-', '-dijo Sancho Panza-', '-dijo don Quijote-', '-dijo el buen viejo-', '-dijo don Quijote-', '-dijo entonces el galeote-', '-dijo la guarda.\\n\\n-', '-dijo el comisario-', '-dijo Ginés-', '-dijo don Quijote.\\n\\n-', '-dijo don Quijote.\\n\\n-', '-dijo don Quijote.\\n\\n-', '-dijo el comisario.\\n\\n-', '-dijo don Quijote-', '-dijo don Quijote, ya puesto en cólera-', '-dijo don Quijote-', '-dijo don Quijote-', '-dijo Sancho-', '-dijo don Quijote.\\n\\n-', '-dijo Sancho-', '-dijo Sancho-', '-dijo Sancho-', '-dijo Sancho-', '-dijo don Quijote.\\n\\nY, leyéndola alto, como Sancho se lo había rogado, vio que decía desta\\nmanera:\\n\\nTu falsa promesa y mi cierta desventura me llevan a parte donde antes\\nvolverán a tus oídos las nuevas de mi muerte que las razones de mis quejas.\\nDesechásteme, ¡oh ingrata!, por quien tiene más, no por quien vale más que\\nyo; mas si la virtud fuera riqueza que se estimara, no envidiara yo dichas\\najenas ni llorara desdichas propias. Lo que levantó tu hermosura han\\nderribado tus obras: por ella entendí que eras ángel, y por ellas conozco\\nque eres mujer. Quédate en paz, causadora de mi guerra, y haga el cielo que\\nlos engaños de tu esposo estén siempre encubiertos, porque tú no quedes\\narrepentida de lo que heciste y yo no tome venganza de lo que no deseo.\\nAcabando de leer la carta, dijo don Quijote:\\n\\n-', '-dijo el de la Triste Figura-', '-dijo don Quijote-', '-dijo el cabrero-', '-dijo don Quijote-', '-dijo Sancho-', '-dijo Sancho-', '-dijo don Quijote-', '-dijo don Quijote-', '-dijo Sancho.\\n\\n-', '-dijo don Quijote-', '-dijo Sancho-', '-dijo Sancho-', '-dijo don\\nQuijote-', '-dijo Sancho-', '-dijo Sancho-', '-dijo don Quijote-', '-dijo don Quijote.\\n\\n-', '-dijo el de la Triste Figura-', '-dijo don Quijote-', '-dijo Sancho.\\n\\n-', '-dijo Sancho-', '-dijo don Quijote-', '-dijo Sancho-', '-dijo don Quijote-', '-dijo don Quijote:\\n\\nCarta de don Quijote a Dulcinea del Toboso\\n\\nSoberana y alta señora:\\n\\nEl ferido de punta de ausencia y el llagado de las telas del corazón,\\ndulcísima Dulcinea del Toboso, te envía la salud que él no tiene. Si tu\\nfermosura me desprecia, si tu valor no es en mi pro, si tus desdenes son en\\nmi afincamiento, maguer que yo sea asaz de sufrido, mal podré sostenerme en\\nesta cuita, que, además de ser fuerte, es muy duradera. Mi buen escudero\\nSancho te dará entera relación, ¡oh bella ingrata, amada enemiga mía!, del\\nmodo que por tu causa quedo. Si gustares de acorrerme, tuyo soy; y si no,\\nhaz lo que te viniere en gusto; que, con acabar mi vida, habré satisfecho a\\ntu crueldad y a mi deseo.\\n\\nTuyo hasta la muerte,\\n\\nEl Caballero de la Triste Figura.\\n\\n-', '-dijo Sancho en oyendo la carta-', '-dijo Sancho-', '-dijo don Quijote.\\n\\nY, habiéndola escrito,se la leyó; que decía ansí:\\n\\nMandará vuestra merced, por esta primera de pollinos, señora sobrina, dar a\\nSancho Panza, mi escudero, tres de los cinco que dejé en casa y están a\\ncargo de vuestra merced. Los cuales tres pollinos se los mando librar y\\npagar por otros tantos aquí recebidos de contado, que consta, y con su\\ncarta de pago serán bien dados. Fecha en las entrañas de Sierra Morena, a\\nveinte y dos de agosto deste presente año.\\n\\n-', '-dijo Sancho-', '-dijo don Quijote-', '-dijo don Quijote-', '-dijo\\ndon Quijote-', '-dijo don Quijote-', '-dijo el licenciado-', '-dijo el barbero-', '-dijo el barbero-', '-dijo el barbero-', '-dijo Sancho-', '-dijo el barbero-', '-dijo el cura-', '-dijo el cura-', '-dijo a esta sazón Sancho Panza-', '-dijo el cura-', '-dijo la doncella-', '-dijo el cura-', '-dijo el cura, y prometió de enseñársele en la primera ocasión.\\nConcertáronse que por entonces subiese el cura, y a trechos se fuesen los\\ntres mudando, hasta que llegasen a la venta, que estaría hasta dos leguas\\nde allí. Puestos los tres a caballo, es a saber, don Quijote, la princesa y\\nel cura, y los tres a pie, Cardenio, el barbero y Sancho Panza, don Quijote\\ndijo a la doncella:\\n\\n-', '-dijo el cura-', '-dijo ella-', '-dijo a esta sazón don Quijote-', '-dijo el cura-', '-dijo a esta sazón don Quijote-', '-dijo el cura-', '-dijo don Quijote-', '-dijo a esta sazón Sancho Panza-', '-dijo Dorotea-', '-dijo Dorotea.\\n-', '-dijo Sancho-', '-dijo Dorotea-', '-dijo Dorotea.\\n\\n-', '-dijo el cura-', '-dijo a este punto don Quijote-', '-dijo Sancho-', '-dijo don Quijote-', '-dijo don Quijote-', '-dijo Sancho-', '-dijo don Quijote-', '-dijo don Quijote-', '-dijo Dorotea-', '-dijo don Quijote.\\n\\n-', '-dijo don Quijote-', '-dijo el cura-', '-dijo Cardenio-', '-dijo el cura-', '-dijo don Quijote-', '-dijo don Quijote.\\n\\n-', '-dijo don Quijote-', '-dijo don Quijote-', '-dijo don Quijote-', '-dijo don Quijote-', '-dijo Sancho-', '-dijo don Quijote-', '-dijo don Quijote-', '-dijo Sancho-', '-dijo Sancho-', '-dijo don Quijote-', '-dijo don Quijote-', '-dijo Sancho-', '-dijo don Quijote-', '-dijo Sancho-', '-dijo don Quijote-', '-dijo Sancho-', '-dijo don Quijote-', '-dijo Sancho-', '-dijo don Quijote-', '-dijo don Quijote-', '-dijo Andrés-', '-dijo don Quijote.\\n\\nY, diciendo esto, se levantó muy apriesa y mandó a Sancho que enfrenase a\\nRocinante, que estaba paciendo en tanto que ellos comían.\\n\\nPreguntóle Dorotea qué era lo que hacer quería. Él le respondió que quería\\nir a buscar al villano y castigalle de tan mal término, y hacer pagado a\\nAndrés hasta el último maravedí, a despecho y pesar de cuantos villanos\\nhubiese en el mundo. A lo que ella respondió que advirtiese que no podía,\\nconforme al don prometido, entremeterse en ninguna empresa hasta acabar la\\nsuya; y que, pues esto sabía él mejor que otro alguno, que sosegase el\\npecho hasta la vuelta de su reino.\\n\\n-', '-dijo Andrés-', '-dijo la ventera-', '-dijo Maritornes-', '-dijo el cura, hablando con la\\nhija del ventero.\\n\\n-', '-dijo Dorotea-', '-dijo la ventera-', '-dijo el cura-', '-dijo el ventero.\\n-', '-dijo el cura-', '-dijo el ventero-', '-dijo el barbero-', '-dijo el cura-', '-dijo el dicho ventero-', '-dijo el cura-', '-dijo el cura-', '-dijo Dorotea-', '-dijo el cura-', '-dijo Anselmo-', '-dijo Anselmo-', '-dijo Anselmo-', '-dijo Lotario-', '-dijo Lotario-', '-dijo Camila-', '-dijo Camila-', '-dijo Leonela-', '-dijo el cura, dejando de leer lo que de la novela\\nquedaba-', '-dijo a esta sazón el ventero-', '-dijo el\\nventero-', '-dijo oyendo esto Sancho-', '-dijo Anselmo-', '-dijo Leonela-', '-dijo Anselmo-', '-dijo el ciudadano-', '-dijo Anselmo.\\n\\n»-', '-dijo el cura-', '-dijo Cardenio.\\n\\n-', '-dijo el cura.\\n\\nY, dejándolos, se volvió adonde estaba Dorotea, la cual, como había oído\\nsuspirar a la embozada, movida de natural compasión, se llegó a ella y le\\ndijo:\\n\\n-', '-dijo a esta sazón la que hasta allí había estado callando-', '-dijo el cura-', '-dijo Sancho-', '-dijo don Quijote-', '-dijo don Fernando-', '-dijo a esta sazón el\\nventero.\\n\\nAl cual mandó don Fernando que callase y no interrumpiese la plática de don\\nQuijote en ninguna manera; y don Quijote prosiguió diciendo:\\n\\n-', '-dijo don Quijote-', '-dijo don Fernando-', '-dijo Dorotea-', '-dijo el cautivo-', '-dijo el cautivo-', '-dijo el cautivo.\\n\\n-', '-dijo el caballero-', '-dijo Zoraida-', '-dijo ella-', '-dijo uno de los de a caballo que habían entrado-', '-dijo el escudero.\\n\\nPero, a este tiempo, ya había salido del coche un hombre, que en el traje\\nmostró luego el oficio y cargo que tenía, porque la ropa luenga, con las\\nmangas arrocadas, que vestía, mostraron ser oidor, como su criado había\\ndicho. Traía de la mano a una doncella, al parecer de hasta diez y seis\\naños, vestida de camino, tan bizarra, tan hermosa y tan gallarda que a\\ntodos puso en admiración su vista; de suerte que, a no haber visto a\\nDorotea y a Luscinda y Zoraida, que en la venta estaban, creyeran que otra\\ntal hermosura como la desta doncella difícilmente pudiera hallarse. Hallóse\\ndon Quijote al entrar del oidor y de la doncella, y, así como le vio, dijo:\\n\\n-', '-dijo el cura-', '-dijo el capitán-', '-dijo a esta sazón Dorotea, y esto,\\nbesándola mil veces-', '-dijo doña Clara-', '-dijo a este punto\\nMaritornes.\\n\\n-', '-dijo Maritornes-', '-dijo Maritornes.\\n\\nY, haciendo una lazada corrediza al cabestro, se la echó a la muñeca, y,\\nbajándose del agujero, ató lo que quedaba al cerrojo de la puerta del pajar\\nmuy fuertemente. Don Quijote, que sintió la aspereza del cordel en su\\nmuñeca, dijo:\\n\\n-', '-dijo uno-', '-dijo el caminante-', '-dijo don Luis-', '-dijo a este tiempo el oidor.\\n\\nPero el hombre, que lo conoció, como vecino de su casa, respondió:\\n\\n-', '-dijo a esto Maritornes, que estaba delante-', '-dijo don Quijote-', '-dijo Sancho-', '-dijo a esta sazón Sancho-', '-dijo el barbero-', '-dijo don Quijote-', '-dijo don Quijote-', '-dijo el cura, que ya había entendido la intención de su amigo el\\nbarbero.\\n\\nY lo mismo confirmó Cardenio, don Fernando y sus camaradas; y aun el oidor,\\nsi no estuviera tan pensativo con el negocio de don Luis, ayudara, por su\\nparte, a la burla; pero las veras de lo que pensaba le tenían tan suspenso,\\nque poco o nada atendía a aquellos donaires.\\n\\n-', '-dijo a esta sazón el barbero burlado-', '-dijo don Quijote-', '-dijo el cura-', '-dijo don Quijote-', '-dijo el sobrebarbero-', '-dijo el cura.\\n\\n-', '-dijo el criado-', '-dijo el cura-', '-dijo don Quijote-', '-dijo a esta sazón don Quijote-', '-dijo don Fernando-', '-dijo Sancho-', '-dijo a esta sazón el cura-', '-dijo a este punto el barbero-', '-dijo el cura-', '-dijo a esta sazón el\\ncura-', '-dijo el canónigo-', '-dijo don Quijote-', '-dijo Sancho-', '-dijo el canónigo-', '-dijo a\\nestá sazón el canónigo.\\n\\nA lo cual respondió don Quijote:\\n\\n-', '-dijo el canónigo.\\n\\n-', '-dijo el canónigo-', '-dijo el cura-', '-dijo Sancho-', '-dijo don Quijote-', '-dijo el canónigo.\\n\\nY luego, rogó al cabrero que diese principio a lo que prometido había. El\\ncabrero dio dos palmadas sobre el lomo a la cabra, que por los cuernos\\ntenía, diciéndole:\\n\\n-', '-dijo a esta sazón don Quijote-', '-dijo Sancho-', '-dijo Panza-', '-dijo don Quijote-', '-dijo el cura.\\n\\n-', '-dijo don Quijote-', '-dijo el barbero-', '-dijo don Quijote-', '-dijo el cura-', '-dijo don Quijote.\\n\\n-', '-dijo a esta sazón don Quijote-', '-dijo a este punto la sobrina-', '-dijo el loco-', '-dijo don Quijote-', '-dijo el barbero-', '-dijo el cura.\\n\\nEl cual, gustando de oírle decir tan grandes disparates, le preguntó que\\nqué sentía acerca de los rostros de Reinaldos de Montalbán y de don Roldán,\\ny de los demás Doce Pares de Francia, pues todos habían sido caballeros\\nandantes.\\n\\n-', '-dijo a esta sazón el barbero-', '-dijo el cura.\\n\\nY, en esto, oyeron que la ama y la sobrina, que ya habían dejado la\\nconversación, daban grandes voces en el patio, y acudieron todos al ruido.\\n\\n\\n\\n\\n\\nCapítulo II. Que trata de la notable pendencia que Sancho Panza tuvo con la\\nsobrina y ama de don Quijote, con otros sujetos graciosos\\n\\n\\nCuenta la historia que las voces que oyeron don Quijote, el cura y el\\nbarbero eran de la sobrina y ama, que las daban diciendo a Sancho Panza,\\nque pugnaba por entrar a ver a don Quijote, y ellas le defendían la puerta:\\n\\n-', '-dijo el ama-', '-dijo el cura-', '-dijo el barbero-', '-dijo don Quijote-', '-dijo don Quijote-', '-dijo Sancho-', '-dijo don Quijote-', '-dijo don Quijote-', '-dijo Sancho-', '-dijo don Quijote-', '-dijo Sancho-', '-dijo don Quijote-', '-dijo don Quijote-', '-dijo Sansón-', '-dijo a esta sazón don Quijote-', '-dijo el bachiller-', '-dijo a este punto Sancho Panza-', '-dijo a esta sazón Sancho-', '-dijo don Quijote-', '-dijo Sancho.\\n\\n-', '-dijo don Quijote-', '-dijo Sancho-', '-dijo\\nSancho-', '-dijo don Quijote-', '-dijo Sancho-', '-dijo Sansón.\\n\\n-', '-dijo Sancho-', '-dijo don Quijote-', '-dijo Sancho-', '-dijo don Quijote-', '-dijo Sansón-', '-dijo Sancho-', '-dijo Sancho-', '-dijo Sancho-', '-dijo el bachiller-', '-dijo don Quijote-', '-dijo don Quijote-', '-dijo el bachiller-', '-dijo Sansón-', '-dijo don Quijote-', '-dijo Carrasco-', '-dijo don Quijote-', '-dijo Sancho-', '-dijo Sansón-', '-dijo Carrasco-', '-dijo don Quijote-', '-dijo a este punto Sancho-', '-dijo Carrasco-', '-dijo Sansón-', '-dijo don Quijote-', '-dijo don Quijote-', '-dijo Teresa-', '-dijo Sancho-', '-dijo Sancho-', '-dijo Sancho-', '-dijo Teresa-', '-dijo Sancho-', '-dijo a esta sazón la sobrina-', '-dijo don Quijote-', '-dijo la sobrina-', '-dijo la sobrina-', '-dijo don Quijote-', '-dijo luego don Quijote-', '-dijo Sancho-', '-dijo Sancho-', '-dijo don Quijote-', '-dijo Sancho-', '-dijo Sancho-', '-dijo don Quijote-', '-dijo don Quijote-', '-dijo don Quijote-', '-dijo Sancho-', '-dijo don Quijote-', '-dijo Sancho-', '-dijo Sancho-', '-dijo don\\nQuijote.\\n\\n-', '-dijo Sancho-', '-dijo Sancho.\\n\\n-', '-dijo Sancho-', '-dijo don Quijote-', '-dijo don Quijote-', '-dijo don Quijote-', '-dijo don Quijote-', '-dijo don Quijote-', '-dijo Sancho-', '-dijo don Quijote-', '-dijo don Quijote-', '-dijo don Quijote-', '-dijo don Quijote-', '-dijo Sancho-', '-dijo a este punto don Quijote-', '-dijo don Quijote-', '-dijo don Quijote-', '-dijo don Quijote-', '-dijo don Quijote-', '-dijo don Quijote-', '-dijo Sancho-', '-dijo don Quijote-', '-dijo Sancho-', '-dijo don Quijote-', '-dijo a esta sazón don Quijote-', '-dijo Sancho, que allí junto estaba-', '-dijo Sancho-', '-dijo Sancho-', '-dijo el del Bosque-', '-dijo el del Bosque-', '-dijo Sancho-', '-dijo el del Bosque-', '-dijo Sancho-', '-dijo el del Bosque-', '-dijo el del Bosque-', '-dijo el del Bosque, en oyendo el hideputa de Sancho-', '-dijo Sancho-', '-dijo el del Bosque-', '-dijo don Quijote-', '-dijo el del Bosque-', '-dijo el del Bosque-', '-dijo don Quijote-', '-dijo el de los Espejos-', '-dijo don Quijote-', '-dijo don Quijote-', '-dijo don Quijote-', '-dijo el caído caballero-', '-dijo Tomé Cecial-', '-dijo don Quijote.\\n\\nY todo lo miraba el hidalgo, y de todo se admiraba, especialmente cuando,\\ndespués de haberse limpiado don Quijote cabeza, rostro y barbas y celada,\\nse la encajó; y, afirmándose bien en los estribos, requiriendo la espada y\\nasiendo la lanza, dijo:\\n\\n-', '-dijo a esta sazón entre sí el hidalgo-', '-dijo don Quijote-', '-dijo entre sí don Lorenzo-', '-dijo don Lorenzo-', '-dijo a esta sazón entre sí don\\nLorenzo-', '-dijo don Lorenzo-', '-dijo don Quijote habiendo oído el soneto a don\\nLorenzo-', '-dijo a esta sazón don Quijote-', '-dijo Sancho Panza, que hasta entonces había ido\\ncallando y escuchando-', '-dijo don Quijote-', '-dijo Sancho-', '-dijo don Quijote-', '-dijo don Quijote-', '-dijo el licenciado-', '-dijo el otro estudiante-', '-dijo a este instante don Quijote-', '-dijo don Quijote-', '-dijo a esta sazón don Quijote-', '-dijo el cocinero-', '-dijo el cocinero-', '-dijo don Quijote-', '-dijo don Quijote-', '-dijo don Quijote.\\n\\n-', '-dijo a este punto don Quijote-', '-dijo don Quijote-', '-dijo a este punto Sancho Panza-', '-dijo don Quijote-', '-dijo don Quijote.\\n\\n-', '-dijo don Quijote-', '-dijo el primo.\\n\\nY dijo don Quijote:\\n\\n-', '-dijo don Quijote-', '-dijo don Quijote-', '-dijo a este punto Sancho-', '-dijo Sancho-', '-dijo Sancho-', '-dijo el primo.\\n\\n-', '-dijo Sancho-', '-dijo el primo-', '-dijo a este tiempo dando una gran voz Sancho-', '-dijo don Quijote-', '-dijo don Quijote-', '-dijo el primo.\\n\\n-', '-dijo don Quijote-', '-dijo el del jumento-', '-dijo el otro-', '-dijo el dueño-', '-dijo el ventero-', '-dijo Sancho-', '-dijo a esta sazón don Quijote-', '-dijo el paje-', '-dijo Sancho-', '-dijo Sancho-', '-dijo Sancho-', '-dijo con voz alta a esta sazón don Quijote-', '-dijo a esta sazón don Quijote-', '-dijo a esta sazón con voz enfermiza maese Pedro-', '-dijo don Quijote-', '-dijo a este punto don Quijote-', '-dijo don Quijote.\\n\\n-', '-dijo Sancho.\\n\\n-', '-dijo don Quijote-', '-dijo maese Pedro-', '-dijo don Quijote-', '-dijo don Quijote-', '-dijo maese Pedro-', '-dijo a esta sazón Sancho entre sí-', '-dijo don Quijote-', '-dijo Sancho-', '-dijo don Quijote-', '-dijo don Quijote-', '-dijo Sancho-', '-dijo Sancho-', '-dijo don Quijote.\\n\\n-', '-dijo Sancho-', '-dijo Sancho-', '-dijo Sancho-', '-dijo don Quijote-', '-dijo a esta sazón don Quijote-', '-dijo entre sí don Quijote-', '-dijo don Quijote-', '-dijo la duquesa-', '-dijo el duque-', '-dijo el duque-', '-dijo Sancho-', '-dijo la dueña, toda ya encendida en cólera-', '-dijo Sancho-', '-dijo don Quijote-', '-dijo la duquesa-', '-dijo Sancho-', '-dijo el eclesiástico-', '-dijo la duquesa-', '-dijo a esta sazón el religioso-', '-dijo Sancho-', '-dijo Sancho Panza-', '-dijo Sancho-', '-dijo el eclesiástico-', '-dijo a esta sazón el duque-', '-dijo don Quijote-', '-dijo Sancho-', '-dijo la duquesa-', '-dijo la duquesa-', '-dijo el duque-', '-dijo la duquesa-', '-dijo el duque-', '-dijo la duquesa-', '-dijo Sancho-', '-dijo a esta sazón doña Rodríguez la dueña, que\\nera una de las escuchantes-', '-dijo la duquesa-', '-dijo Sancho Panza-', '-dijo la duquesa-', '-dijo Sancho Panza-', '-dijo la duquesa-', '-dijo doña Rodríguez, la dueña-', '-dijo la duquesa-', '-dijo la duquesa-', '-dijo Sancho-', '-dijo don Quijote-', '-dijo don\\nQuijote-', '-dijo la duquesa-', '-dijo el duque-', '-dijo Sancho-', '-dijo Sancho.\\n\\nEn esto, se cerró más la noche, y comenzaron a discurrir muchas luces por\\nel bosque, bien así como discurren por el cielo las exhalaciones secas de\\nla tierra, que parecen a nuestra vista estrellas que corren. Oyóse asimismo\\nun espantoso ruido, al modo de aquel que se causa de las ruedas macizas que\\nsuelen traer los carros de bueyes, de cuyo chirrío áspero y continuado se\\ndice que huyen los lobos y los osos, si los hay por donde pasan. Añadióse a\\ntoda esta tempestad otra que las aumentó todas, que fue que parecía\\nverdaderamente que a las cuatro partes del bosque se estaban dando a un\\nmismo tiempo cuatro rencuentros o batallas, porque allí sonaba el duro\\nestruendo de espantosa artillería, acullá se disparaban infinitas\\nescopetas, cerca casi sonaban las voces de los combatientes, lejos se\\nreiteraban los lililíes agarenos.\\n\\nFinalmente, las cornetas, los cuernos, las bocinas, los clarines, las\\ntrompetas, los tambores, la artillería, los arcabuces, y, sobre todo, el\\ntemeroso ruido de los carros, formaban todos juntos un son tan confuso y\\ntan horrendo, que fue menester que don Quijote se valiese de todo su\\ncorazón para sufrirle; pero el de Sancho vino a tierra, y dio con él\\ndesmayado en las faldas de la duquesa, la cual le recibió en ellas, y a\\ngran priesa mandó que le echasen agua en el rostro. Hízose así, y él volvió\\nen su acuerdo, a tiempo que ya un carro de las rechinantes ruedas llegaba a\\naquel puesto.\\n\\nTirábanle cuatro perezosos bueyes, todos cubiertos de paramentos negros; en\\ncada cuerno traían atada y encendida una grande hacha de cera, y encima del\\ncarro venía hecho un asiento alto, sobre el cual venía sentado un venerable\\nviejo, con una barba más blanca que la mesma nieve, y tan luenga que le\\npasaba de la cintura; su vestidura era una ropa larga de negro bocací, que,\\npor venir el carro lleno de infinitas luces, se podía bien divisar y\\ndiscernir todo lo que en él venía. Guiábanle dos feos demonios vestidos del\\nmesmo bocací, con tan feos rostros, que Sancho, habiéndolos visto una vez,\\ncerró los ojos por no verlos otra. Llegando, pues, el carro a igualar al\\npuesto, se levantó de su alto asiento el viejo venerable, y, puesto en pie,\\ndando una gran voz, dijo:\\n\\n-', '-dijo don Quijote, que todo lo escuchaba.\\n\\nY dijo bien, como se muestra en el capítulo siguiente.\\n\\n\\n\\n\\n\\nCapítulo XXXV. Donde se prosigue la noticia que tuvo don Quijote del\\ndesencanto de Dulcinea, con otros admirables sucesos\\n\\n\\nAl compás de la agradable música vieron que hacia ellos venía un carro de\\nlos que llaman triunfales tirado de seis mulas pardas, encubertadas,\\nempero, de lienzo blanco, y sobre cada una venía un diciplinante de luz,\\nasimesmo vestido de blanco, con una hacha de cera grande encendida en la\\nmano. Era el carro dos veces, y aun tres, mayor que los pasados, y los\\nlados, y encima dél, ocupaban doce otros diciplinantes albos como la nieve,\\ntodos con sus hachas encendidas, vista que admiraba y espantaba juntamente;\\ny en un levantado trono venía sentada una ninfa, vestida de mil velos de\\ntela de plata, brillando por todos ellos infinitas hojas de argentería de\\noro, que la hacían, si no rica, a lo menos vistosamente vestida. Traía el\\nrostro cubierto con un transparente y delicado cendal, de modo que, sin\\nimpedirlo sus lizos, por entre ellos se descubría un hermosísimo rostro de\\ndoncella, y las muchas luces daban lugar para distinguir la belleza y los\\naños, que, al parecer, no llegaban a veinte ni bajaban de diez y siete.\\n\\nJunto a ella venía una figura vestida de una ropa de las que llaman\\nrozagantes, hasta los pies, cubierta la cabeza con un velo negro; pero, al\\npunto que llegó el carro a estar frente a frente de los duques y de don\\nQuijote, cesó la música de las chirimías, y luego la de las arpas y laúdes\\nque en el carro sonaban; y, levantándose en pie la figura de la ropa, la\\napartó a entrambos lados, y, quitándose el velo del rostro, descubrió\\npatentemente ser la mesma figura de la muerte, descarnada y fea, de que don\\nQuijote recibió pesadumbre y Sancho miedo, y los duques hicieron algún\\nsentimiento temeroso. Alzada y puesta en pie esta muerte viva, con voz algo\\ndormida y con lengua no muy despierta, comenzó a decir desta manera:\\n\\n   -', '-dijo a esta sazón Sancho-', '-dijo don Quijote-', '-dijo el duque.\\n\\n-', '-dijo el duque-', '-dijo Merlín-', '-dijo la duquesa-', '-dijo Sancho-', '-dijo la duquesa.\\n\\n-', '-dijo la duquesa-', '-dijo don Quijote-', '-dijo la duquesa-', '-dijo don Quijote.\\n\\n-', '-dijo el duque-', '-dijo Sancho.\\n\\n-', '-dijo don Quijote-', '-dijo don Quijote-', '-dijo Sancho-', '-dijo Sancho-', '-dijo Sancho-', '-dijo la duquesa-', '-dijo Rodríguez-', '-dijo don Quijote-', '-dijo a esta sazón la Dolorida-', '-dijo Sancho-', '-dijo Sancho-', '-dijo Sancho-', '-dijo Sancho-', '-dijo don Quijote-', '-dijo Sancho-', '-dijo Sancho-', '-dijo Sancho-', '-dijo la Dolorida-', '-dijo la duquesa-', '-dijo la duquesa.\\n\\n-', '-dijo el duque-', '-dijo Sancho-', '-dijo el duque-', '-dijo Sancho-', '-dijo el duque-', '-dijo el duque-', '-dijo Sancho.\\n\\nY don Quijote le dijo:\\n\\n-', '-dijo Sancho-', '-dijo don Quijote.\\n\\n-', '-dijo don Quijote-', '-dijo a esta sazón don Quijote-', '-dijo don Quijote-', '-dijo Sancho-', '-dijo don Quijote-', '-dijo don Quijote-', '-dijo la duquesa-', '-dijo Sancho-', '-dijo Sancho.\\n\\nA lo que dijo el viejo:\\n\\n-', '-dijo el gobernador-', '-dijo Sancho.\\n\\nY, volviéndose al hombre, le dijo qué decía y respondía a la querella de\\naquella mujer. El cual, todo turbado, respondió:\\n\\n-', '-dijo el hombre-', '-dijo Sancho.\\n\\nY el médico respondió:\\n\\n-', '-dijo Sancho-', '-dijo el médico-', '-dijo Sancho-', '-dijo el maestresala-', '-dijo Sancho-', '-dijo el mayordomo-', '-dijo Sancho-', '-dijo el maestresala.\\n\\n-', '-dijo el labrador.\\n\\nY, poniéndose de rodillas, le pidió la mano para besársela. Negósela\\nSancho, y mandó que se levantase y dijese lo que quisiese. Hízolo así el\\nlabrador, y luego dijo:\\n\\n-', '-dijo Sancho-', '-dijo Sancho-', '-dijo el labrador-', '-dijo Sancho-', '-dijo Sancho-', '-dijo el labrador-', '-dijo Sancho-', '-dijo creyendo a su imaginación, y esto, con voz que pudiera ser oída-', '-dijo don Quijote-', '-dijo don Quijote-', '-dijo el maestresala-', '-dijo el mayordomo-', '-dijo Sancho-', '-dijo el mayordomo-', '-dijo un escribano-', '-dijo Sancho-', '-dijo el mozo-', '-dijo el mozo-', '-dijo Sancho-', '-dijo el secretario-', '-dijo Sancho-', '-dijo el mozo-', '-dijo Sancho-', '-dijo el mayordomo-', '-dijo Sancho.\\n\\n-', '-dijo Sancho-', '-dijo el paje-', '-dijo el paje-', '-dijo Teresa-', '-dijo Teresa en oyendo la carta-', '-dijo el paje-', '-dijo entonces Carrasco-', '-dijo Sanchica-', '-dijo el paje-', '-dijo el bachiller-', '-dijo Sanchica-', '-dijo Teresa-', '-dijo el paje-', '-dijo el mensajero-', '-dijo Sancho-', '-dijo otro-', '-dijo otro-', '-dijo con voz doliente el dolorido Sancho.\\n\\nAyudáronle a levantar, y, puesto en pie, dijo:\\n\\n-', '-dijo el doctor Recio-', '-dijo el doctor Recio-', '-dijo Ricote-', '-dijo Ricote-', '-dijo Ricote-', '-dijo Ricote-', '-dijo entonces Sancho Panza-', '-dijo don Quijote-', '-dijo Sancho-', '-dijo el lacayo-', '-dijo a esta sazón Sancho Panza-', '-dijo don Quijote-', '-dijo Sancho-', '-dijo la duquesa-', '-dijo\\nentonces Altisidora-', '-dijo Sancho-', '-dijo Sancho-', '-dijo otro-', '-dijo Sancho-', '-dijo don Quijote-', '-dijo Sancho a esta ocasión.\\n\\nAdmiráronse los hombres, así de la figura como de las razones de don\\nQuijote, sin entender la mitad de lo que en ellas decir quería. Acabaron de\\ncomer, cargaron con sus imágines, y, despidiéndose de don Quijote,\\nsiguieron su viaje.\\n\\nQuedó Sancho de nuevo como si jamás hubiera conocido a su señor, admirado\\nde lo que sabía, pareciéndole que no debía de haber historia en el mundo ni\\nsuceso que no lo tuviese cifrado en la uña y clavado en la memoria, y\\ndíjole:\\n\\n-', '-dijo don Quijote-', '-dijo don Quijote-', '-dijo Sancho-', '-dijo entonces la otra zagala-', '-dijo Sancho-', '-dijo la otra-', '-dijo don Quijote-', '-dijo don Quijote-', '-dijo Sancho, sin dejar de mascar apriesa-', '-dijo Sancho-', '-dijo Sancho-', '-dijo Sancho-', '-dijo Sancho-', '-dijo Sancho-', '-dijo el ventero-', '-dijo Sancho-', '-dijo el don Juan-', '-dijo don Jerónimo-', '-dijo el caballero-', '-dijo Sancho-', '-dijo don Jerónimo-', '-dijo Sancho-', '-dijo don Juan-', '-dijo don Quijote-', '-dijo don Juan-', '-dijo don Jerónimo-', '-dijo don Quijote-', '-dijo Sancho-', '-dijo Sancho-', '-dijo don Quijote-', '-dijo Sancho-', '-dijo Claudia-', '-dijo uno de los presentes-', '-dijo don Quijote-', '-dijo Roque Guinart-', '-dijo don Quijote-', '-dijo don Antonio-', '-dijo don Antonio-', '-dijo la preguntanta.\\n\\nLlegó luego la compañera, y dijo:\\n\\n-', '-dijo el caballero-', '-dijo don Quijote-', '-dijo Sancho Panza-', '-dijo don Quijote-', '-dijo el autor-', '-dijo don Quijote-', '-dijo don Quijote-', '-dijo el autor-', '-dijo don Quijote-', '-dijo el autor-', '-dijo don Quijote-', '-dijo el virrey.\\n\\n-', '-dijo el mozo-', '-dijo Sancho, oyendo esto-', '-dijo Sancho-', '-dijo el de la Blanca Luna-', '-dijo don Antonio-', '-dijo Sancho-', '-dijo Sancho-', '-dijo Ricote, que se halló presente a esta plática-', '-dijo don Antonio-', '-dijo el labrador-', '-dijo a esta sazón Sancho, antes que don Quijote respondiese-', '-dijo don Quijote-', '-dijo un labrador que escuchó la sentencia de Sancho-', '-dijo don Quijote-', '-dijo Sancho-', '-dijo don Quijote-', '-dijo don Quijote-', '-dijo Sancho-', '-dijo don Quijote-', '-dijo don Quijote-', '-dijo don Quijote-', '-dijo don Quijote-', '-dijo a esta sazón uno de los dos que parecían reyes-', '-dijo en alta voz Radamanto-', '-dijo Sancho-', '-dijo don Quijote-', '-dijo Sancho-', '-dijo don Quijote-', '-dijo Sancho-', '-dijo la duquesa-', '-dijo el duque-', '-dijo Sancho-', '-dijo Sancho-', '-dijo don Quijote-', '-dijo Sancho-', '-dijo don Quijote-', '-dijo don Quijote-', '-dijo el nuestro-', '-dijo a esta sazón Sancho-', '-dijo don Quijote-', '-dijo Sancho-', '-dijo don Álvaro.\\n\\nY Sancho le respondió que era largo de contar, pero que él se lo contaría\\nsi acaso iban un mesmo camino.\\n\\nLlegóse en esto la hora de comer; comieron juntos don Quijote y don Álvaro.\\nEntró acaso el alcalde del pueblo en el mesón, con un escribano, ante el\\ncual alcalde pidió don Quijote, por una petición, de que a su derecho\\nconvenía de que don Álvaro Tarfe, aquel caballero que allí estaba presente,\\ndeclarase ante su merced como no conocía a don Quijote de la Mancha, que\\nasimismo estaba allí presente, y que no era aquél que andaba impreso en una\\nhistoria intitulada: Segunda parte de don Quijote de la Mancha, compuesta\\npor un tal de Avellaneda, natural de Tordesillas. Finalmente, el alcalde\\nproveyó jurídicamente; la declaración se hizo con todas las fuerzas que en\\ntales casos debían hacerse, con lo que quedaron don Quijote y Sancho muy\\nalegres, como si les importara mucho semejante declaración y no mostrara\\nclaro la diferencia de los dos don Quijotes y la de los dos Sanchos sus\\nobras y sus palabras. Muchas de cortesías y ofrecimientos pasaron entre don\\nÁlvaro y don Quijote, en las cuales mostró el gran manchego su discreción,\\nde modo que desengañó a don Álvaro Tarfe del error en que estaba; el cual\\nse dio a entender que debía de estar encantado, pues tocaba con la mano dos\\ntan contrarios don Quijotes.\\n\\nLlegó la tarde, partiéronse de aquel lugar, y a obra de media legua se\\napartaban dos caminos diferentes, el uno que guiaba a la aldea de don\\nQuijote, y el otro el que había de llevar don Álvaro. En este poco espacio\\nle contó don Quijote la desgracia de su vencimiento y el encanto y el\\nremedio de Dulcinea, que todo puso en nueva admiración a don Álvaro, el\\ncual, abrazando a don Quijote y a Sancho, siguió su camino, y don Quijote\\nel suyo, que aquella noche la pasó entre otros árboles, por dar lugar a\\nSancho de cumplir su penitencia, que la cumplió del mismo modo que la\\npasada noche, a costa de las cortezas de las hayas, harto más que de sus\\nespaldas, que las guardó tanto, que no pudieran quitar los azotes una\\nmosca, aunque la tuviera encima.\\n\\nNo perdió el engañado don Quijote un solo golpe de la cuenta, y halló que\\ncon los de la noche pasada era tres mil y veinte y nueve. Parece que había\\nmadrugado el sol a ver el sacrificio, con cuya luz volvieron a proseguir su\\ncamino, tratando entre los dos del engaño de don Álvaro y de cuán bien\\nacordado había sido tomar su declaración ante la justicia, y tan\\nauténticamente.\\n\\nAquel día y aquella noche caminaron sin sucederles cosa digna de contarse,\\nsi no fue que en ella acabó Sancho su tarea, de que quedó don Quijote\\ncontento sobremodo, y esperaba el día, por ver si en el camino topaba ya\\ndesencantada a Dulcinea su señora; y, siguiendo su camino, no topaba mujer\\nninguna que no iba a reconocer si era Dulcinea del Toboso, teniendo por\\ninfalible no poder mentir las promesas de Merlín.\\n\\nCon estos pensamientos y deseos subieron una cuesta arriba, desde la cual\\ndescubrieron su aldea, la cual, vista de Sancho, se hincó de rodillas y\\ndijo:\\n\\n-', '-dijo don Quijote-', '-dijo Sancho-', '-dijo Teresa-', '-dijo Sansón Carrasco-', '-dijo el cura-', '-dijo Sansón-', '-dijo don Quijote-']\n"
     ]
    },
    {
     "data": {
      "text/plain": [
       "873"
      ]
     },
     "execution_count": 24,
     "metadata": {},
     "output_type": "execute_result"
    }
   ],
   "source": [
    "quien_dijo = re.findall('-dijo\\s+[^-]+-', q)\n",
    "print(quien_dijo)\n",
    "len(quien_dijo)"
   ]
  },
  {
   "attachments": {},
   "cell_type": "markdown",
   "metadata": {},
   "source": [
    "<a id='act7'></a>\n",
    "## Actividad 7: Listar el número de los capítulos con sus títulos\n",
    "\n",
    "En esta actividad vamos a buscar todos los títulos del Quijote. Debemos buscar patrones como en este ejemplo:\n",
    "\n",
    "```\n",
    "\n",
    "Capítulo VIII. Del buen suceso que el valeroso don Quijote tuvo en la\n",
    "espantable y jamás imaginada aventura de los molinos de viento, con otros\n",
    "sucesos dignos de felice recordación\n",
    "\n",
    "\n",
    "En esto, descubrieron treinta o cuarenta molinos de viento que hay en aquel\n",
    "campo; y, así como don Quijote los vio, dijo a su escudero:\n",
    "```\n",
    "\n",
    "Es decir:\n",
    "\n",
    "- Un capítulo empieza por `Capítulo` **al inicio de una línea**, después viene el número (cualquier cosa que no sea un espacio) seguido de un punto (el punto debe escaparse `\\.` para distinguirlo del metacarácter correspondiente).\n",
    "- Después viene una o más líneas (recuerda que el metacarácter `'.'` representa cualquier cosa que no sea un `\\n`, una línea es una secuencia de uno o más caracteres seguidos de un `\\n`).\n",
    "- Finalmente, si has exigido que una línea termine con '\\n', una forma de detectar una línea en blanco es hacer *matching* con otro '\\n'.\n",
    "- Para localizar el inicio de líneas a lo largo del texto debes utilizar `^` y aplicar el flag `re.M`\n",
    "- Guarda el resultado en la variable `titulos`.\n",
    "\n",
    "Agrupa el número de capítulo y el título con grupos `()` y recuerda utilizar el grupo de tipo `(?:)` para lo que necesites agrupar *por motivos sintácticos y que no quieras que se capture como grupo propio*.\n",
    "\n",
    "El resultado de `findall` utilizando los 2 grupos comentados es una lista que empieza así:\n",
    "\n",
    "```\n",
    "[('I',\n",
    "  'Que trata de la condición y ejercicio del famoso hidalgo\\ndon Quijote de la Mancha\\n'),\n",
    " ('II',\n",
    "  'Que trata de la primera salida que de su tierra hizo el\\ningenioso don Quijote\\n'),\n",
    " ('III',\n",
    "  'Donde se cuenta la graciosa manera que tuvo don Quijote en\\narmarse caballero\\n'),\n",
    " ('IV',\n",
    "  'De lo que le sucedió a nuestro caballero cuando salió de la\\nventa\\n'),\n",
    "```\n"
   ]
  },
  {
   "cell_type": "code",
   "execution_count": 26,
   "metadata": {},
   "outputs": [
    {
     "name": "stdout",
     "output_type": "stream",
     "text": [
      "[('I', 'Que trata de la condición y ejercicio del famoso hidalgo\\ndon Quijote de la Mancha\\n'), ('II', 'Que trata de la primera salida que de su tierra hizo el\\ningenioso don Quijote\\n'), ('III', 'Donde se cuenta la graciosa manera que tuvo don Quijote en\\narmarse caballero\\n'), ('IV', 'De lo que le sucedió a nuestro caballero cuando salió de la\\nventa\\n'), ('V', 'Donde se prosigue la narración de la desgracia de nuestro\\ncaballero\\n'), ('VI', 'Del donoso y grande escrutinio que el cura y el barbero\\nhicieron en la librería de nuestro ingenioso hidalgo\\n'), ('VII', 'De la segunda salida de nuestro buen caballero don Quijote de\\nla Mancha\\n'), ('VIII', 'Del buen suceso que el valeroso don Quijote tuvo en la\\nespantable y jamás imaginada aventura de los molinos de viento, con otros\\nsucesos dignos de felice recordación\\n'), ('IX', 'Donde se concluye y da fin a la estupenda batalla que el\\ngallardo vizcaíno y el valiente manchego tuvieron\\n'), ('X', 'De lo que más le avino a don Quijote con el vizcaíno, y del\\npeligro en que se vio con una turba de yangüeses\\n'), ('XI', 'De lo que le sucedió a don Quijote con unos cabreros\\n'), ('XII', 'De lo que contó un cabrero a los que estaban con don Quijote\\n'), ('XIII', 'Donde se da fin al cuento de la pastora Marcela, con otros\\nsucesos\\n'), ('XIV', 'Donde se ponen los versos desesperados del difunto pastor,\\ncon otros no esperados sucesos\\n'), ('XV', 'Donde se cuenta la desgraciada aventura que se topó don\\nQuijote en topar con unos desalmados yangüeses\\n'), ('XVI', 'De lo que le sucedió al ingenioso hidalgo en la venta que él\\nimaginaba ser castillo\\n'), ('XVII', 'Donde se prosiguen los innumerables trabajos que el bravo\\ndon Quijote y su buen escudero Sancho Panza pasaron en la venta que, por su\\nmal, pensó que era castillo\\n'), ('XVIII', 'Donde se cuentan las razones que pasó Sancho Panza con su\\nseñor Don Quijote, con otras aventuras dignas de ser contadas\\n'), ('XIX', 'De las discretas razones que Sancho pasaba con su amo, y de\\nla aventura que le sucedió con un cuerpo muerto, con otros acontecimientos\\nfamosos\\n'), ('XX', 'De la jamás vista ni oída aventura que con más poco peligro\\nfue acabada de famoso caballero en el mundo, como la que acabó el valeroso\\ndon Quijote de la Mancha\\n'), ('XXI', 'Que trata de la alta aventura y rica ganancia del yelmo de\\nMambrino, con otras cosas sucedidas a nuestro invencible caballero\\n'), ('XXII', 'De la libertad que dio don Quijote a muchos desdichados que,\\nmal de su grado, los llevaban donde no quisieran ir\\n'), ('XXIII', 'De lo que le aconteció al famoso don Quijote en Sierra\\nMorena, que fue una de las más raras aventuras que en esta verdadera\\nhistoria se cuentan\\n'), ('XXIV', 'Donde se prosigue la aventura de la Sierra Morena\\n'), ('XXV', 'Que trata de las estrañas cosas que en Sierra Morena\\nsucedieron al valiente caballero de la Mancha, y de la imitación que hizo a\\nla penitencia de Beltenebros\\n'), ('XXVI', 'Donde se prosiguen las finezas que de enamorado hizo don\\nQuijote en Sierra Morena\\n'), ('XXVII', 'De cómo salieron con su intención el cura y el barbero, con\\notras cosas dignas de que se cuenten en esta grande historia\\n'), ('XXVIII', 'Que trata de la nueva y agradable aventura que al cura y\\nbarbero sucedió en la mesma sierra\\n'), ('XXIX', 'Que trata de la discreción de la hermosa Dorotea, con otras\\ncosas de mucho gusto y pasatiempo\\n'), ('XXX', 'Que trata del gracioso artificio y orden que se tuvo en sacar\\na nuestro enamorado caballero de la asperísima penitencia en que se había\\npuesto\\n'), ('XXXI', 'De los sabrosos razonamientos que pasaron entre don Quijote\\ny Sancho Panza, su escudero, con otros sucesos\\n'), ('XXXII', 'Que trata de lo que sucedió en la venta a toda la cuadrilla\\nde don Quijote\\n'), ('XXXIII', 'Donde se cuenta la novela del Curioso impertinente\\n'), ('XXXIV', 'Donde se prosigue la novela del Curioso impertinente\\n'), ('XXXV', 'Donde se da fin a la novela del Curioso impertinente\\n'), ('XXXVI', 'Que trata de la brava y descomunal batalla que don Quijote\\ntuvo con unos cueros de vino tinto, con otros raros sucesos que en la venta\\nle sucedieron\\n'), ('XXXVII', 'Que prosigue la historia de la famosa infanta Micomicona,\\ncon otras graciosas aventuras\\n'), ('XXXVIII', 'Que trata del curioso discurso que hizo don Quijote de\\nlas armas y las letras\\n'), ('XXXIX', 'Donde el cautivo cuenta su vida y sucesos\\n'), ('XL', 'Donde se prosigue la historia del cautivo\\n'), ('XLI', 'Donde todavía prosigue el cautivo su suceso\\n'), ('XLII', 'Que trata de lo que más sucedió en la venta y de otras\\nmuchas cosas dignas de saberse\\n'), ('XLIII', 'Donde se cuenta la agradable historia del mozo de mulas,\\ncon otros estraños acaecimientos en la venta sucedidos]\\n'), ('XLIV', 'Donde se prosiguen los inauditos sucesos de la venta\\n'), ('XLV', 'Donde se acaba de averiguar la duda del yelmo de Mambrino y\\nde la albarda, y otras aventuras sucedidas, con toda verdad\\n'), ('XLVI', 'De la notable aventura de los cuadrilleros, y la gran\\nferocidad de nuestro buen caballero don Quijote\\n'), ('XLVII', 'Del estraño modo con que fue encantado don Quijote de la\\nMancha, con otros famosos sucesos\\n'), ('XLVIII', 'Donde prosigue el canónigo la materia de los libros de\\ncaballerías, con otras cosas dignas de su ingenio\\n'), ('XLIX', 'Donde se trata del discreto coloquio que Sancho Panza tuvo\\ncon su señor don Quijote\\n'), ('L', 'De las discretas altercaciones que don Quijote y el canónigo\\ntuvieron, con otros sucesos\\n'), ('LI', 'Que trata de lo que contó el cabrero a todos los que llevaban\\na don Quijote\\n'), ('LII', 'De la pendencia que don Quijote tuvo con el cabrero, con la\\nrara aventura de los deceplinantes, a quien dio felice fin a costa de su\\nsudor\\n'), ('Primero', 'De lo que el cura y el barbero pasaron con don Quijote\\ncerca de su enfermedad\\n'), ('II', 'Que trata de la notable pendencia que Sancho Panza tuvo con la\\nsobrina y ama de don Quijote, con otros sujetos graciosos\\n'), ('III', 'Del ridículo razonamiento que pasó entre don Quijote, Sancho\\nPanza y el bachiller Sansón Carrasco\\n'), ('IV', 'Donde Sancho Panza satisface al bachiller Sansón Carrasco de\\nsus dudas y preguntas, con otros sucesos dignos de saberse y de contarse\\n'), ('V', 'De la discreta y graciosa plática que pasó entre Sancho Panza y\\nsu mujer Teresa Panza, y otros sucesos dignos de felice recordación\\n'), ('VI', 'De lo que le pasó a Don Quijote con su sobrina y con su ama, y\\nes uno de los importantes capítulos de toda la historia\\n'), ('VII', 'De lo que pasó don Quijote con su escudero, con otros\\nsucesos famosísimos\\n'), ('VIII', 'Donde se cuenta lo que le sucedió a don Quijote, yendo a ver\\nsu señora Dulcinea del Toboso\\n'), ('IX', 'Donde se cuenta lo que en él se verá\\n'), ('X', 'Donde se cuenta la industria que Sancho tuvo para encantar a la\\nseñora Dulcinea, y de otros sucesos tan ridículos como verdaderos\\n'), ('XI', 'De la estraña aventura que le sucedió al valeroso don Quijote\\ncon el carro, o carreta, de Las Cortes de la Muerte\\n'), ('XII', 'De la estraña aventura que le sucedió al valeroso don\\nQuijote con el bravo Caballero de los Espejos\\n'), ('XIII', 'Donde se prosigue la aventura del Caballero del Bosque, con\\nel discreto, nuevo y suave coloquio que pasó entre los dos escuderos\\n'), ('XIV', 'Donde se prosigue la aventura del Caballero del Bosque\\n'), ('XV', 'Donde se cuenta y da noticia de quién era el Caballero de los\\nEspejos y su escudero\\n'), ('XVI', 'De lo que sucedió a don Quijote con un discreto caballero de\\nla Mancha\\n'), ('XVII', 'De donde se declaró el último punto y estremo adonde llegó y\\npudo llegar el inaudito ánimo de don Quijote, con la felicemente acabada\\naventura de los leones\\n'), ('XVIII', 'De lo que sucedió a don Quijote en el castillo o casa del\\nCaballero del Verde Gabán, con otras cosas extravagantes\\n'), ('XIX', 'Donde se cuenta la aventura del pastor enamorado, con otros\\nen verdad graciosos sucesos\\n'), ('XX', 'Donde se cuentan las bodas de Camacho el rico, con el suceso\\nde Basilio el pobre\\n'), ('XXI', 'Donde se prosiguen las bodas de Camacho, con otros gustosos\\nsucesos\\n'), ('XXII', 'Donde se da cuenta de la grande aventura de la cueva de\\nMontesinos, que está en el corazón de la Mancha, a quien dio felice cima el\\nvaleroso don Quijote de la Mancha\\n'), ('XXIII', 'De las admirables cosas que el estremado don Quijote contó\\nque había visto en la profunda cueva de Montesinos, cuya imposibilidad y\\ngrandeza hace que se tenga esta aventura por apócrifa\\n'), ('XXIV', 'Donde se cuentan mil zarandajas tan impertinentes como\\nnecesarias al verdadero entendimiento desta grande historia\\n'), ('XXV', 'Donde se apunta la aventura del rebuzno y la graciosa del\\ntiterero, con las memorables adivinanzas del mono adivino\\n'), ('XXVI', 'Donde se prosigue la graciosa aventura del titerero, con\\notras cosas en verdad harto buenas\\n'), ('XXVII', 'Donde se da cuenta quiénes eran maese Pedro y su mono, con\\nel mal suceso que don Quijote tuvo en la aventura del rebuzno, que no la\\nacabó como él quisiera y como lo tenía pensado\\n'), ('XXVIII', 'De cosas que dice Benengeli que las sabrá quien le leyere,\\nsi las lee con atención\\n'), ('XXIX', 'De la famosa aventura del barco encantado\\n'), ('XXX', 'De lo que le avino a don Quijote con una bella cazadora\\n'), ('XXXI', 'Que trata de muchas y grandes cosas\\n'), ('XXXII', 'De la respuesta que dio don Quijote a su reprehensor, con\\notros graves y graciosos sucesos\\n'), ('XXXIII', 'De la sabrosa plática que la duquesa y sus doncellas\\npasaron con Sancho Panza, digna de que se lea y de que se note\\n'), ('XXXIV', 'Que cuenta de la noticia que se tuvo de cómo se había de\\ndesencantar la sin par Dulcinea del Toboso, que es una de las aventuras más\\nfamosas deste libro\\n'), ('XXXV', 'Donde se prosigue la noticia que tuvo don Quijote del\\ndesencanto de Dulcinea, con otros admirables sucesos\\n'), ('XXXVI', 'Donde se cuenta la estraña y jamás imaginada aventura de la\\ndueña Dolorida, alias de la condesa Trifaldi, con una carta que Sancho\\nPanza escribió a su mujer Teresa Panza\\n'), ('XXXVII', 'Donde se prosigue la famosa aventura de la dueña Dolorida\\n'), ('XXXVIII', 'Donde se cuenta la que dio de su mala andanza la dueña\\nDolorida\\n'), ('XXXIX', 'Donde la Trifaldi prosigue su estupenda y memorable\\nhistoria\\n'), ('XL', 'De cosas que atañen y tocan a esta aventura y a esta\\nmemorable historia\\n'), ('XLI', 'De la venida de Clavileño, con el fin desta dilatada aventura\\n'), ('XLII', 'De los consejos que dio don Quijote a Sancho Panza antes que\\nfuese a gobernar la ínsula, con otras cosas bien consideradas\\n'), ('XLIII', 'De los consejos segundos que dio don Quijote a Sancho Panza\\n'), ('XLIV', 'Cómo Sancho Panza fue llevado al gobierno, y de la estraña\\naventura que en el castillo sucedió a don Quijote\\n'), ('XLV', 'De cómo el gran Sancho Panza tomó la posesión de su ínsula, y\\ndel modo que comenzó a gobernar\\n'), ('XLVI', 'Del temeroso espanto cencerril y gatuno que recibió don\\nQuijote en el discurso de los amores de la enamorada Altisidora\\n'), ('XLVII', 'Donde se prosigue cómo se portaba Sancho Panza en su\\ngobierno\\n'), ('XLVIII', 'De lo que le sucedió a don Quijote con doña Rodríguez, la\\ndueña de la duquesa, con otros acontecimientos dignos de escritura y de\\nmemoria eterna\\n'), ('XLIX', 'De lo que le sucedió a Sancho Panza rondando su ínsula\\n'), ('L', 'Donde se declara quién fueron los encantadores y verdugos que\\nazotaron a la dueña y pellizcaron y arañaron a don Quijote, con el suceso\\nque tuvo el paje que llevó la carta a Teresa Sancha, mujer de Sancho Panza\\n'), ('LI', 'Del progreso del gobierno de Sancho Panza, con otros sucesos\\ntales como buenos\\n'), ('LII', 'Donde se cuenta la aventura de la segunda dueña Dolorida, o\\nAngustiada, llamada por otro nombre doña Rodríguez\\n'), ('LIII', 'Del fatigado fin y remate que tuvo el gobierno de Sancho\\nPanza\\n'), ('LIV', 'Que trata de cosas tocantes a esta historia, y no a otra\\nalguna\\n'), ('LV', 'De cosas sucedidas a Sancho en el camino, y otras que no hay\\nmás que ver\\n'), ('LVI', 'De la descomunal y nunca vista batalla que pasó entre don\\nQuijote de la Mancha y el lacayo Tosilos, en la defensa de la hija de la\\ndueña doña Rodríguez\\n'), ('LVII', 'Que trata de cómo don Quijote se despidió del duque, y de lo\\nque le sucedió con la discreta y desenvuelta Altisidora, doncella de la\\nduquesa\\n'), ('LVIII', 'Que trata de cómo menudearon sobre don Quijote aventuras\\ntantas, que no se daban vagar unas a otras\\n'), ('LIX', 'Donde se cuenta del extraordinario suceso, que se puede\\ntener por aventura, que le sucedió a don Quijote\\n'), ('LX', 'De lo que sucedió a don Quijote yendo a Barcelona\\n'), ('LXI', 'De lo que le sucedió a don Quijote en la entrada de\\nBarcelona, con otras cosas que tienen más de lo verdadero que de lo\\ndiscreto\\n'), ('LXII', 'Que trata de la aventura de la cabeza encantada, con otras\\nniñerías que no pueden dejar de contarse\\n'), ('LXIII', 'De lo mal que le avino a Sancho Panza con la visita de las\\ngaleras, y la nueva aventura de la hermosa morisca\\n'), ('LXIV', 'Que trata de la aventura que más pesadumbre dio a don\\nQuijote de cuantas hasta entonces le habían sucedido\\n'), ('LXV', 'Donde se da noticia quién era el de la Blanca Luna, con la\\nlibertad de Don Gregorio, y de otros sucesos\\n'), ('LXVI', 'Que trata de lo que verá el que lo leyere, o lo oirá el que\\nlo escuchare leer\\n'), ('LXVII', 'De la resolución que tomó don Quijote de hacerse pastor y\\nseguir la vida del campo, en tanto que se pasaba el año de su promesa, con\\notros sucesos en verdad gustosos y buenos\\n'), ('LXVIII', 'De la cerdosa aventura que le aconteció a don Quijote\\n'), ('LXIX', 'Del más raro y más nuevo suceso que en todo el discurso\\ndesta grande historia avino a don Quijote\\n'), ('LXX', 'Que sigue al de sesenta y nueve, y trata de cosas no\\nescusadas para la claridad desta historia\\n'), ('LXXI', 'De lo que a don Quijote le sucedió con su escudero Sancho\\nyendo a su aldea\\n'), ('LXXII', 'De cómo don Quijote y Sancho llegaron a su aldea\\n'), ('LXXIII', 'De los agüeros que tuvo don Quijote al entrar de su aldea,\\ncon otros sucesos que adornan y acreditan esta grande historia\\n'), ('LXXIV', 'De cómo don Quijote cayó malo, y del testamento que hizo, y\\nsu muerte\\n')]\n"
     ]
    }
   ],
   "source": [
    "titulos = re.findall(r'^Capítulo\\s(\\w+)\\.\\s*((?:.+\\n)+)\\n', q, re.M)\n",
    "print(titulos)"
   ]
  },
  {
   "cell_type": "code",
   "execution_count": null,
   "metadata": {},
   "outputs": [],
   "source": []
  }
 ],
 "metadata": {
  "kernelspec": {
   "display_name": "Python 3 (ipykernel)",
   "language": "python",
   "name": "python3"
  },
  "language_info": {
   "codemirror_mode": {
    "name": "ipython",
    "version": 3
   },
   "file_extension": ".py",
   "mimetype": "text/x-python",
   "name": "python",
   "nbconvert_exporter": "python",
   "pygments_lexer": "ipython3",
   "version": "3.11.2"
  }
 },
 "nbformat": 4,
 "nbformat_minor": 2
}
